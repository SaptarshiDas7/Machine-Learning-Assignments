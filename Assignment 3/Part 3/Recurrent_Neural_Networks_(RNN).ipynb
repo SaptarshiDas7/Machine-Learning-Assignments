{
  "nbformat": 4,
  "nbformat_minor": 0,
  "metadata": {
    "colab": {
      "name": "Recurrent Neural Networks (RNN).ipynb",
      "provenance": [],
      "toc_visible": true
    },
    "kernelspec": {
      "name": "python3",
      "display_name": "Python 3"
    },
    "language_info": {
      "name": "python"
    },
    "accelerator": "GPU"
  },
  "cells": [
    {
      "cell_type": "code",
      "metadata": {
        "colab": {
          "base_uri": "https://localhost:8080/"
        },
        "id": "0J-FKRmkK0Op",
        "outputId": "47300b34-c196-40e0-a8cb-eeed4056c568"
      },
      "source": [
        "from google.colab import drive\n",
        "drive.mount('/content/drive')"
      ],
      "execution_count": null,
      "outputs": [
        {
          "output_type": "stream",
          "name": "stdout",
          "text": [
            "Mounted at /content/drive\n"
          ]
        }
      ]
    },
    {
      "cell_type": "markdown",
      "metadata": {
        "id": "evIk3d9kKh94"
      },
      "source": [
        "# CIFAR 10 DATASET"
      ]
    },
    {
      "cell_type": "code",
      "metadata": {
        "id": "tbkQ0ga3laaO"
      },
      "source": [
        "import os\n",
        "import tensorflow as tf\n",
        "import keras\n",
        "from tensorflow.keras import layers\n",
        "from tensorflow.keras import Model\n",
        "from os import getcwd"
      ],
      "execution_count": null,
      "outputs": []
    },
    {
      "cell_type": "code",
      "metadata": {
        "id": "iIHBleT1pjFX"
      },
      "source": [
        "cifar10 = tf.keras.datasets.cifar10\n",
        "(training_images, training_labels), (test_images, test_labels) = cifar10.load_data()"
      ],
      "execution_count": null,
      "outputs": []
    },
    {
      "cell_type": "code",
      "metadata": {
        "colab": {
          "base_uri": "https://localhost:8080/"
        },
        "id": "zt09aN6Xpyd8",
        "outputId": "407f3084-473c-45dd-f8f0-f28c00fd4eee"
      },
      "source": [
        "print(len(training_images))\n",
        "print(len(test_images))"
      ],
      "execution_count": null,
      "outputs": [
        {
          "output_type": "stream",
          "name": "stdout",
          "text": [
            "50000\n",
            "10000\n"
          ]
        }
      ]
    },
    {
      "cell_type": "code",
      "metadata": {
        "id": "EtE00f5Mp0VD"
      },
      "source": [
        "training_images = training_images.reshape(50000, 1024, 3)\n",
        "training_images = training_images[0:10000]\n",
        "training_labels = training_labels[0:10000]\n",
        "training_images = training_images/255.0\n",
        "test_images = test_images.reshape(10000, 1024, 3)\n",
        "test_images = test_images[0:5000]\n",
        "test_labels = test_labels[0:5000]\n",
        "test_images = test_images/255.0"
      ],
      "execution_count": null,
      "outputs": []
    },
    {
      "cell_type": "code",
      "metadata": {
        "id": "TLvH8Ct0p12i"
      },
      "source": [
        "model = tf.keras.models.Sequential([\n",
        "\ttf.keras.layers.Bidirectional(tf.keras.layers.LSTM(32, input_shape=(1024,3), return_sequences=True)),\n",
        "\ttf.keras.layers.Bidirectional(tf.keras.layers.LSTM(32)),\n",
        "\ttf.keras.layers.Flatten(),\n",
        "\ttf.keras.layers.Dense(64, activation='relu'),\n",
        "\ttf.keras.layers.Dense(10, activation='softmax')\n",
        "\t])"
      ],
      "execution_count": null,
      "outputs": []
    },
    {
      "cell_type": "code",
      "metadata": {
        "colab": {
          "base_uri": "https://localhost:8080/"
        },
        "id": "Cxjqs3M4p3qn",
        "outputId": "f50f309b-02e2-4476-c27f-3623429183fb"
      },
      "source": [
        "model.compile(optimizer='adam',\n",
        "              loss='sparse_categorical_crossentropy',\n",
        "              metrics=['accuracy'])\n",
        "\n",
        "history = model.fit(training_images, training_labels, batch_size = 50, epochs=10)"
      ],
      "execution_count": null,
      "outputs": [
        {
          "output_type": "stream",
          "name": "stdout",
          "text": [
            "Epoch 1/10\n",
            "200/200 [==============================] - 123s 557ms/step - loss: 2.1137 - accuracy: 0.1966\n",
            "Epoch 2/10\n",
            "200/200 [==============================] - 112s 558ms/step - loss: 2.0086 - accuracy: 0.2529\n",
            "Epoch 3/10\n",
            "200/200 [==============================] - 111s 557ms/step - loss: 2.0085 - accuracy: 0.2645\n",
            "Epoch 4/10\n",
            "200/200 [==============================] - 112s 558ms/step - loss: 1.9649 - accuracy: 0.2771\n",
            "Epoch 5/10\n",
            "200/200 [==============================] - 111s 557ms/step - loss: 1.9583 - accuracy: 0.2816\n",
            "Epoch 6/10\n",
            "200/200 [==============================] - 111s 557ms/step - loss: 1.9388 - accuracy: 0.2896\n",
            "Epoch 7/10\n",
            "200/200 [==============================] - 111s 557ms/step - loss: 1.9371 - accuracy: 0.2899\n",
            "Epoch 8/10\n",
            "200/200 [==============================] - 111s 556ms/step - loss: 1.9254 - accuracy: 0.2989\n",
            "Epoch 9/10\n",
            "200/200 [==============================] - 111s 557ms/step - loss: 1.9188 - accuracy: 0.2966\n",
            "Epoch 10/10\n",
            "200/200 [==============================] - 111s 556ms/step - loss: 1.9341 - accuracy: 0.2930\n"
          ]
        }
      ]
    },
    {
      "cell_type": "code",
      "metadata": {
        "colab": {
          "base_uri": "https://localhost:8080/"
        },
        "id": "zBXOTI3oqjty",
        "outputId": "265ebd27-5aab-449a-a8ef-e3330f12ff7b"
      },
      "source": [
        "model.evaluate(test_images, test_labels)"
      ],
      "execution_count": null,
      "outputs": [
        {
          "output_type": "stream",
          "name": "stdout",
          "text": [
            "157/157 [==============================] - 38s 225ms/step - loss: 1.9601 - accuracy: 0.2912\n"
          ]
        },
        {
          "output_type": "execute_result",
          "data": {
            "text/plain": [
              "[1.9600898027420044, 0.29120001196861267]"
            ]
          },
          "metadata": {},
          "execution_count": 20
        }
      ]
    },
    {
      "cell_type": "markdown",
      "metadata": {
        "id": "MioGyRsCKewA"
      },
      "source": [
        "# MNIST DATASET"
      ]
    },
    {
      "cell_type": "code",
      "metadata": {
        "id": "F_UKIDMosSWO"
      },
      "source": [
        "import torch"
      ],
      "execution_count": null,
      "outputs": []
    },
    {
      "cell_type": "code",
      "metadata": {
        "colab": {
          "base_uri": "https://localhost:8080/"
        },
        "id": "kbLEJnBgsS0u",
        "outputId": "b4d34026-f54f-44f5-e037-d2cef2d943c9"
      },
      "source": [
        "# Device configuration\n",
        "device = torch.device('cuda' if torch.cuda.is_available() else 'cpu')\n",
        "device"
      ],
      "execution_count": null,
      "outputs": [
        {
          "output_type": "execute_result",
          "data": {
            "text/plain": [
              "device(type='cuda')"
            ]
          },
          "metadata": {},
          "execution_count": 53
        }
      ]
    },
    {
      "cell_type": "code",
      "metadata": {
        "id": "0GWzQv8ssTCe"
      },
      "source": [
        "from torchvision import datasets\n",
        "from torchvision.transforms import ToTensor\n",
        "train_data = datasets.MNIST(\n",
        "    root = 'data',\n",
        "    train = True,                         \n",
        "    transform = ToTensor(), \n",
        "    download = True,            \n",
        ")\n",
        "test_data = datasets.MNIST(\n",
        "    root = 'data', \n",
        "    train = False, \n",
        "    transform = ToTensor()\n",
        ")\n"
      ],
      "execution_count": null,
      "outputs": []
    },
    {
      "cell_type": "code",
      "metadata": {
        "colab": {
          "base_uri": "https://localhost:8080/"
        },
        "id": "5BqQr_NysTSn",
        "outputId": "cb97b0bb-4f5f-4f26-a647-17a5577b975e"
      },
      "source": [
        "print(train_data)\n"
      ],
      "execution_count": null,
      "outputs": [
        {
          "output_type": "stream",
          "name": "stdout",
          "text": [
            "Dataset MNIST\n",
            "    Number of datapoints: 60000\n",
            "    Root location: data\n",
            "    Split: Train\n",
            "    StandardTransform\n",
            "Transform: ToTensor()\n"
          ]
        }
      ]
    },
    {
      "cell_type": "code",
      "metadata": {
        "colab": {
          "base_uri": "https://localhost:8080/"
        },
        "id": "mn5wjj28sTmu",
        "outputId": "d05f4959-34b8-4170-d963-4e0e7cd436db"
      },
      "source": [
        "print(test_data)\n"
      ],
      "execution_count": null,
      "outputs": [
        {
          "output_type": "stream",
          "name": "stdout",
          "text": [
            "Dataset MNIST\n",
            "    Number of datapoints: 10000\n",
            "    Root location: data\n",
            "    Split: Test\n",
            "    StandardTransform\n",
            "Transform: ToTensor()\n"
          ]
        }
      ]
    },
    {
      "cell_type": "code",
      "metadata": {
        "colab": {
          "base_uri": "https://localhost:8080/"
        },
        "id": "jvWVrN6SsUAL",
        "outputId": "ecf03022-e88c-4daa-db43-087b9074a3b7"
      },
      "source": [
        "print(train_data.data.size())\n"
      ],
      "execution_count": null,
      "outputs": [
        {
          "output_type": "stream",
          "name": "stdout",
          "text": [
            "torch.Size([60000, 28, 28])\n"
          ]
        }
      ]
    },
    {
      "cell_type": "code",
      "metadata": {
        "colab": {
          "base_uri": "https://localhost:8080/"
        },
        "id": "aFCwP5AksUOf",
        "outputId": "9db46e28-8211-4f0a-d484-b2f6dbfbd4cc"
      },
      "source": [
        "print(train_data.targets.size())\n"
      ],
      "execution_count": null,
      "outputs": [
        {
          "output_type": "stream",
          "name": "stdout",
          "text": [
            "torch.Size([60000])\n"
          ]
        }
      ]
    },
    {
      "cell_type": "code",
      "metadata": {
        "colab": {
          "base_uri": "https://localhost:8080/"
        },
        "id": "sqMYBe9ysUaP",
        "outputId": "31b792c6-dbf4-4dca-b340-cd28c18d5dda"
      },
      "source": [
        "print(train_data.data[0])\n"
      ],
      "execution_count": null,
      "outputs": [
        {
          "output_type": "stream",
          "name": "stdout",
          "text": [
            "tensor([[  0,   0,   0,   0,   0,   0,   0,   0,   0,   0,   0,   0,   0,   0,\n",
            "           0,   0,   0,   0,   0,   0,   0,   0,   0,   0,   0,   0,   0,   0],\n",
            "        [  0,   0,   0,   0,   0,   0,   0,   0,   0,   0,   0,   0,   0,   0,\n",
            "           0,   0,   0,   0,   0,   0,   0,   0,   0,   0,   0,   0,   0,   0],\n",
            "        [  0,   0,   0,   0,   0,   0,   0,   0,   0,   0,   0,   0,   0,   0,\n",
            "           0,   0,   0,   0,   0,   0,   0,   0,   0,   0,   0,   0,   0,   0],\n",
            "        [  0,   0,   0,   0,   0,   0,   0,   0,   0,   0,   0,   0,   0,   0,\n",
            "           0,   0,   0,   0,   0,   0,   0,   0,   0,   0,   0,   0,   0,   0],\n",
            "        [  0,   0,   0,   0,   0,   0,   0,   0,   0,   0,   0,   0,   0,   0,\n",
            "           0,   0,   0,   0,   0,   0,   0,   0,   0,   0,   0,   0,   0,   0],\n",
            "        [  0,   0,   0,   0,   0,   0,   0,   0,   0,   0,   0,   0,   3,  18,\n",
            "          18,  18, 126, 136, 175,  26, 166, 255, 247, 127,   0,   0,   0,   0],\n",
            "        [  0,   0,   0,   0,   0,   0,   0,   0,  30,  36,  94, 154, 170, 253,\n",
            "         253, 253, 253, 253, 225, 172, 253, 242, 195,  64,   0,   0,   0,   0],\n",
            "        [  0,   0,   0,   0,   0,   0,   0,  49, 238, 253, 253, 253, 253, 253,\n",
            "         253, 253, 253, 251,  93,  82,  82,  56,  39,   0,   0,   0,   0,   0],\n",
            "        [  0,   0,   0,   0,   0,   0,   0,  18, 219, 253, 253, 253, 253, 253,\n",
            "         198, 182, 247, 241,   0,   0,   0,   0,   0,   0,   0,   0,   0,   0],\n",
            "        [  0,   0,   0,   0,   0,   0,   0,   0,  80, 156, 107, 253, 253, 205,\n",
            "          11,   0,  43, 154,   0,   0,   0,   0,   0,   0,   0,   0,   0,   0],\n",
            "        [  0,   0,   0,   0,   0,   0,   0,   0,   0,  14,   1, 154, 253,  90,\n",
            "           0,   0,   0,   0,   0,   0,   0,   0,   0,   0,   0,   0,   0,   0],\n",
            "        [  0,   0,   0,   0,   0,   0,   0,   0,   0,   0,   0, 139, 253, 190,\n",
            "           2,   0,   0,   0,   0,   0,   0,   0,   0,   0,   0,   0,   0,   0],\n",
            "        [  0,   0,   0,   0,   0,   0,   0,   0,   0,   0,   0,  11, 190, 253,\n",
            "          70,   0,   0,   0,   0,   0,   0,   0,   0,   0,   0,   0,   0,   0],\n",
            "        [  0,   0,   0,   0,   0,   0,   0,   0,   0,   0,   0,   0,  35, 241,\n",
            "         225, 160, 108,   1,   0,   0,   0,   0,   0,   0,   0,   0,   0,   0],\n",
            "        [  0,   0,   0,   0,   0,   0,   0,   0,   0,   0,   0,   0,   0,  81,\n",
            "         240, 253, 253, 119,  25,   0,   0,   0,   0,   0,   0,   0,   0,   0],\n",
            "        [  0,   0,   0,   0,   0,   0,   0,   0,   0,   0,   0,   0,   0,   0,\n",
            "          45, 186, 253, 253, 150,  27,   0,   0,   0,   0,   0,   0,   0,   0],\n",
            "        [  0,   0,   0,   0,   0,   0,   0,   0,   0,   0,   0,   0,   0,   0,\n",
            "           0,  16,  93, 252, 253, 187,   0,   0,   0,   0,   0,   0,   0,   0],\n",
            "        [  0,   0,   0,   0,   0,   0,   0,   0,   0,   0,   0,   0,   0,   0,\n",
            "           0,   0,   0, 249, 253, 249,  64,   0,   0,   0,   0,   0,   0,   0],\n",
            "        [  0,   0,   0,   0,   0,   0,   0,   0,   0,   0,   0,   0,   0,   0,\n",
            "          46, 130, 183, 253, 253, 207,   2,   0,   0,   0,   0,   0,   0,   0],\n",
            "        [  0,   0,   0,   0,   0,   0,   0,   0,   0,   0,   0,   0,  39, 148,\n",
            "         229, 253, 253, 253, 250, 182,   0,   0,   0,   0,   0,   0,   0,   0],\n",
            "        [  0,   0,   0,   0,   0,   0,   0,   0,   0,   0,  24, 114, 221, 253,\n",
            "         253, 253, 253, 201,  78,   0,   0,   0,   0,   0,   0,   0,   0,   0],\n",
            "        [  0,   0,   0,   0,   0,   0,   0,   0,  23,  66, 213, 253, 253, 253,\n",
            "         253, 198,  81,   2,   0,   0,   0,   0,   0,   0,   0,   0,   0,   0],\n",
            "        [  0,   0,   0,   0,   0,   0,  18, 171, 219, 253, 253, 253, 253, 195,\n",
            "          80,   9,   0,   0,   0,   0,   0,   0,   0,   0,   0,   0,   0,   0],\n",
            "        [  0,   0,   0,   0,  55, 172, 226, 253, 253, 253, 253, 244, 133,  11,\n",
            "           0,   0,   0,   0,   0,   0,   0,   0,   0,   0,   0,   0,   0,   0],\n",
            "        [  0,   0,   0,   0, 136, 253, 253, 253, 212, 135, 132,  16,   0,   0,\n",
            "           0,   0,   0,   0,   0,   0,   0,   0,   0,   0,   0,   0,   0,   0],\n",
            "        [  0,   0,   0,   0,   0,   0,   0,   0,   0,   0,   0,   0,   0,   0,\n",
            "           0,   0,   0,   0,   0,   0,   0,   0,   0,   0,   0,   0,   0,   0],\n",
            "        [  0,   0,   0,   0,   0,   0,   0,   0,   0,   0,   0,   0,   0,   0,\n",
            "           0,   0,   0,   0,   0,   0,   0,   0,   0,   0,   0,   0,   0,   0],\n",
            "        [  0,   0,   0,   0,   0,   0,   0,   0,   0,   0,   0,   0,   0,   0,\n",
            "           0,   0,   0,   0,   0,   0,   0,   0,   0,   0,   0,   0,   0,   0]],\n",
            "       dtype=torch.uint8)\n"
          ]
        }
      ]
    },
    {
      "cell_type": "code",
      "metadata": {
        "colab": {
          "base_uri": "https://localhost:8080/",
          "height": 281
        },
        "id": "46HrqQVEzD8F",
        "outputId": "a9e3d16d-4cc6-4b4b-8d11-d52e73e5be82"
      },
      "source": [
        "import matplotlib.pyplot as plt\n",
        "plt.imshow(train_data.data[0], cmap='gray')\n",
        "plt.title('%i' % train_data.targets[0])\n",
        "plt.show()\n"
      ],
      "execution_count": null,
      "outputs": [
        {
          "output_type": "display_data",
          "data": {
            "image/png": "[encoded data removed]",
            "text/plain": [
              "<Figure size 432x288 with 1 Axes>"
            ]
          },
          "metadata": {
            "needs_background": "light"
          }
        }
      ]
    },
    {
      "cell_type": "code",
      "metadata": {
        "colab": {
          "base_uri": "https://localhost:8080/",
          "height": 482
        },
        "id": "rd5a6DlNzG6P",
        "outputId": "23e638db-f0bf-4217-b781-3dbe145d6cf2"
      },
      "source": [
        "figure = plt.figure(figsize=(10, 8))\n",
        "cols, rows = 5, 5\n",
        "for i in range(1, cols * rows + 1):\n",
        "    sample_idx = torch.randint(len(train_data), size=(1,)).item()\n",
        "    img, label = train_data[sample_idx]\n",
        "    figure.add_subplot(rows, cols, i)\n",
        "    plt.title(label)\n",
        "    plt.axis(\"off\")\n",
        "    plt.imshow(img.squeeze(), cmap=\"gray\")\n",
        "plt.show()\n"
      ],
      "execution_count": null,
      "outputs": [
        {
          "output_type": "display_data",
          "data": {
            "image/png": "[encoded data removed]",
            "text/plain": [
              "<Figure size 720x576 with 25 Axes>"
            ]
          },
          "metadata": {
            "needs_background": "light"
          }
        }
      ]
    },
    {
      "cell_type": "code",
      "metadata": {
        "colab": {
          "base_uri": "https://localhost:8080/"
        },
        "id": "MJuxD10nzI0z",
        "outputId": "64e5f274-0c6e-4774-df64-151281503859"
      },
      "source": [
        "from torch.utils.data import DataLoader\n",
        "loaders = {\n",
        "    'train' : torch.utils.data.DataLoader(train_data, \n",
        "                                          batch_size=100, \n",
        "                                          shuffle=True, \n",
        "                                          num_workers=1),\n",
        "    \n",
        "    'test'  : torch.utils.data.DataLoader(test_data, \n",
        "                                          batch_size=100, \n",
        "                                          shuffle=True, \n",
        "                                          num_workers=1),\n",
        "}\n",
        "loaders"
      ],
      "execution_count": null,
      "outputs": [
        {
          "output_type": "execute_result",
          "data": {
            "text/plain": [
              "{'test': <torch.utils.data.dataloader.DataLoader at 0x7fae59428850>,\n",
              " 'train': <torch.utils.data.dataloader.DataLoader at 0x7fae59449e10>}"
            ]
          },
          "metadata": {},
          "execution_count": 62
        }
      ]
    },
    {
      "cell_type": "code",
      "metadata": {
        "id": "xzl9HSDOzKxM"
      },
      "source": [
        "from torch import nn\n",
        "import torch.nn.functional as F\n"
      ],
      "execution_count": null,
      "outputs": []
    },
    {
      "cell_type": "code",
      "metadata": {
        "id": "i5bBL2CCzNG5"
      },
      "source": [
        "sequence_length = 28\n",
        "input_size = 28\n",
        "hidden_size = 128\n",
        "num_layers = 2\n",
        "num_classes = 10\n",
        "batch_size = 100\n",
        "num_epochs = 2\n",
        "learning_rate = 0.01\n"
      ],
      "execution_count": null,
      "outputs": []
    },
    {
      "cell_type": "code",
      "metadata": {
        "colab": {
          "base_uri": "https://localhost:8080/"
        },
        "id": "soRFI6LhzOd2",
        "outputId": "d547feeb-6cfd-483f-d113-6c325656f619"
      },
      "source": [
        "class RNN(nn.Module):\n",
        "    pass\n",
        "model = RNN().to(device)\n",
        "print(model)\n"
      ],
      "execution_count": null,
      "outputs": [
        {
          "output_type": "stream",
          "name": "stdout",
          "text": [
            "RNN()\n"
          ]
        }
      ]
    },
    {
      "cell_type": "code",
      "metadata": {
        "colab": {
          "base_uri": "https://localhost:8080/"
        },
        "id": "p3gQtSo0za4Q",
        "outputId": "019a3d80-8624-4fa5-b283-bf7d38f6c3ef"
      },
      "source": [
        "class RNN(nn.Module):\n",
        "    \n",
        "    def __init__(self, input_size, hidden_size, num_layers, num_classes):\n",
        "        super(RNN, self).__init__()\n",
        "        self.hidden_size = hidden_size\n",
        "        self.num_layers = num_layers\n",
        "        self.lstm = nn.LSTM(input_size, hidden_size, num_layers, batch_first=True)\n",
        "        self.fc = nn.Linear(hidden_size, num_classes)\n",
        "        pass\n",
        "    \n",
        "    def forward(self, x):\n",
        "        # Set initial hidden and cell states \n",
        "        h0 = torch.zeros(self.num_layers, x.size(0), self.hidden_size).to(device) \n",
        "        c0 = torch.zeros(self.num_layers, x.size(0), self.hidden_size).to(device)\n",
        "        # Passing in the input and hidden state into the model and  obtaining outputs\n",
        "        out, hidden = self.lstm(x, (h0, c0))  # out: tensor of shape (batch_size, seq_length, hidden_size)\n",
        "        \n",
        "        #Reshaping the outputs such that it can be fit into the fully connected layer\n",
        "        out = self.fc(out[:, -1, :])\n",
        "        return out\n",
        "       \n",
        "        pass\n",
        "pass\n",
        "model = RNN(input_size, hidden_size, num_layers, num_classes).to(device)\n",
        "print(model)\n"
      ],
      "execution_count": null,
      "outputs": [
        {
          "output_type": "stream",
          "name": "stdout",
          "text": [
            "RNN(\n",
            "  (lstm): LSTM(28, 128, num_layers=2, batch_first=True)\n",
            "  (fc): Linear(in_features=128, out_features=10, bias=True)\n",
            ")\n"
          ]
        }
      ]
    },
    {
      "cell_type": "code",
      "metadata": {
        "colab": {
          "base_uri": "https://localhost:8080/"
        },
        "id": "7eMuysZ9zdlB",
        "outputId": "6434f6f8-ff98-4f02-8a27-d7a4599e7469"
      },
      "source": [
        "loss_func = nn.CrossEntropyLoss()\n",
        "loss_func"
      ],
      "execution_count": null,
      "outputs": [
        {
          "output_type": "execute_result",
          "data": {
            "text/plain": [
              "CrossEntropyLoss()"
            ]
          },
          "metadata": {},
          "execution_count": 67
        }
      ]
    },
    {
      "cell_type": "code",
      "metadata": {
        "colab": {
          "base_uri": "https://localhost:8080/"
        },
        "id": "froanOPGzffR",
        "outputId": "9b20e700-bdd7-4150-86e0-d6dda62690bc"
      },
      "source": [
        "from torch import optim\n",
        "optimizer = optim.Adam(model.parameters(), lr = 0.01)   \n",
        "optimizer"
      ],
      "execution_count": null,
      "outputs": [
        {
          "output_type": "execute_result",
          "data": {
            "text/plain": [
              "Adam (\n",
              "Parameter Group 0\n",
              "    amsgrad: False\n",
              "    betas: (0.9, 0.999)\n",
              "    eps: 1e-08\n",
              "    lr: 0.01\n",
              "    weight_decay: 0\n",
              ")"
            ]
          },
          "metadata": {},
          "execution_count": 68
        }
      ]
    },
    {
      "cell_type": "code",
      "metadata": {
        "colab": {
          "base_uri": "https://localhost:8080/"
        },
        "id": "9lvo7p1KzoV7",
        "outputId": "e2b50970-1aff-47c6-e5df-0f858f49cfa9"
      },
      "source": [
        "def train(num_epochs, model, loaders):\n",
        "        \n",
        "    # Train the model\n",
        "    total_step = len(loaders['train'])\n",
        "        \n",
        "    for epoch in range(num_epochs):\n",
        "        for i, (images, labels) in enumerate(loaders['train']):\n",
        "            \n",
        "            images = images.reshape(-1, sequence_length, input_size).to(device)\n",
        "            labels = labels.to(device)\n",
        "            \n",
        "            # Forward pass\n",
        "            outputs = model(images)\n",
        "            loss = loss_func(outputs, labels)\n",
        "            # Backward and optimize\n",
        "            optimizer.zero_grad()\n",
        "            loss.backward()\n",
        "            optimizer.step()\n",
        "            \n",
        "            if (i+1) % 100 == 0:\n",
        "                print ('Epoch [{}/{}], Step [{}/{}], Loss: {:.4f}' \n",
        "                       .format(epoch + 1, num_epochs, i + 1, total_step, loss.item()))\n",
        "                pass\n",
        "        \n",
        "        pass\n",
        "    pass\n",
        "train(num_epochs, model, loaders)"
      ],
      "execution_count": null,
      "outputs": [
        {
          "output_type": "stream",
          "name": "stdout",
          "text": [
            "Epoch [1/2], Step [100/600], Loss: 0.6104\n",
            "Epoch [1/2], Step [200/600], Loss: 0.2625\n",
            "Epoch [1/2], Step [300/600], Loss: 0.1447\n",
            "Epoch [1/2], Step [400/600], Loss: 0.2647\n",
            "Epoch [1/2], Step [500/600], Loss: 0.1042\n",
            "Epoch [1/2], Step [600/600], Loss: 0.0769\n",
            "Epoch [2/2], Step [100/600], Loss: 0.0376\n",
            "Epoch [2/2], Step [200/600], Loss: 0.0225\n",
            "Epoch [2/2], Step [300/600], Loss: 0.0473\n",
            "Epoch [2/2], Step [400/600], Loss: 0.0719\n",
            "Epoch [2/2], Step [500/600], Loss: 0.1155\n",
            "Epoch [2/2], Step [600/600], Loss: 0.1507\n"
          ]
        }
      ]
    },
    {
      "cell_type": "code",
      "metadata": {
        "colab": {
          "base_uri": "https://localhost:8080/"
        },
        "id": "jEL_iuSP0TdB",
        "outputId": "4783b124-6f8e-4a3d-cf81-bb387165ee66"
      },
      "source": [
        "# Test the model\n",
        "model.eval()\n",
        "with torch.no_grad():\n",
        "    correct = 0\n",
        "    total = 0\n",
        "    for images, labels in loaders['test']:\n",
        "        images = images.reshape(-1, sequence_length, input_size).to(device)\n",
        "        labels = labels.to(device)\n",
        "        outputs = model(images)\n",
        "        _, predicted = torch.max(outputs.data, 1)\n",
        "        total = total + labels.size(0)\n",
        "        correct = correct + (predicted == labels).sum().item()\n",
        "print('Test Accuracy of the model on the 10000 test images: {} %'.format(100 * correct / total))"
      ],
      "execution_count": null,
      "outputs": [
        {
          "output_type": "stream",
          "name": "stdout",
          "text": [
            "Test Accuracy of the model on the 10000 test images: 97.77 %\n"
          ]
        }
      ]
    },
    {
      "cell_type": "markdown",
      "metadata": {
        "id": "UFFmyRIfKmsX"
      },
      "source": [
        "# SAVEE Dataset"
      ]
    },
    {
      "cell_type": "code",
      "metadata": {
        "id": "XrVxEK2qKwoP"
      },
      "source": [
        "!unzip \"/content/drive/MyDrive/SaveeDataset.zip\""
      ],
      "execution_count": null,
      "outputs": []
    },
    {
      "cell_type": "code",
      "metadata": {
        "id": "NhaHFNX8LQG_"
      },
      "source": [
        "import librosa\n",
        "import numpy as np\n",
        "\n",
        "input_length = 16000*5\n",
        "\n",
        "batch_size = 32\n",
        "\n",
        "n_mels = 320\n",
        "\n",
        "def preprocess_audio_mel_T(audio, sample_rate=16000, window_size=20, #log_specgram\n",
        "                 step_size=10, eps=1e-10):\n",
        "\n",
        "    mel_spec = librosa.feature.melspectrogram(y=audio, sr=sample_rate, n_mels= n_mels)\n",
        "    mel_db = (librosa.power_to_db(mel_spec, ref=np.max) + 40)/40\n",
        "\n",
        "    return mel_db.T\n",
        "\n",
        "\n",
        "def load_audio_file(file_path, input_length=input_length):\n",
        "  data = librosa.core.load(file_path, sr=16000)[0] #, sr=16000\n",
        "  if len(data)>input_length:\n",
        "    max_offset = len(data)-input_length\n",
        "    \n",
        "    offset = np.random.randint(max_offset)\n",
        "    \n",
        "    data = data[offset:(input_length+offset)]\n",
        "            \n",
        "  else:\n",
        "    if input_length > len(data):\n",
        "      max_offset = input_length - len(data)\n",
        "\n",
        "      offset = np.random.randint(max_offset)\n",
        "    else:\n",
        "      offset = 0\n",
        "    data = np.pad(data, (offset, input_length - len(data) - offset), \"constant\")\n",
        "    \n",
        "  data = preprocess_audio_mel_T(data)\n",
        "  return data"
      ],
      "execution_count": null,
      "outputs": []
    },
    {
      "cell_type": "code",
      "metadata": {
        "id": "GZb16Wn0LU7X"
      },
      "source": [
        "# Preprocessing the dataset\n",
        "import os\n",
        "from scipy.io import wavfile\n",
        "import librosa\n",
        "import matplotlib.pyplot as plt\n",
        "import numpy as np\n",
        "import cv2\n",
        "\n",
        "rootDirectory = \"/content/AudioData/\"\n",
        "personNames = [\"DC\",\"JE\",\"JK\",\"KL\"]\n",
        "\n",
        "classes = [\"a\" , \"d\" , \"f\", \"h\", \"n\", \"sa\" , \"su\" ]\n",
        "\n",
        "X = list()\n",
        "y = list()\n",
        "\n",
        "for person in personNames:\n",
        "  directory = os.path.join(rootDirectory,person)\n",
        "  for filename in os.listdir(directory):\n",
        "    filePath = os.path.join(directory, filename)\n",
        "    data = load_audio_file(file_path=filePath)\n",
        "    # data = cv2.merge([a,a,a])\n",
        "    if(filename[0:1] in classes):\n",
        "      X.append(data)\n",
        "      y.append(classes.index(filename[0:1]))\n",
        "    elif(filename[0:2] in classes):\n",
        "      X.append(data)\n",
        "      y.append(classes.index(filename[0:2]))"
      ],
      "execution_count": null,
      "outputs": []
    },
    {
      "cell_type": "code",
      "metadata": {
        "id": "xRup6ozrLyqX"
      },
      "source": [
        "X = np.asarray(X, dtype=np.float32)\n",
        "y = np.asarray(y, dtype=np.float32)"
      ],
      "execution_count": null,
      "outputs": []
    },
    {
      "cell_type": "code",
      "metadata": {
        "colab": {
          "base_uri": "https://localhost:8080/"
        },
        "id": "LyNaWxjPMU8P",
        "outputId": "be8115c9-1df1-47af-fb88-35cec7fb2637"
      },
      "source": [
        "X.shape , y.shape"
      ],
      "execution_count": null,
      "outputs": [
        {
          "output_type": "execute_result",
          "data": {
            "text/plain": [
              "((480, 157, 320), (480,))"
            ]
          },
          "metadata": {},
          "execution_count": 11
        }
      ]
    },
    {
      "cell_type": "code",
      "metadata": {
        "id": "uueW4C1aLzNf"
      },
      "source": [
        "import pandas as pd\n",
        "import numpy as np\n",
        "import matplotlib.pyplot as plt\n",
        "import tensorflow as tf\n",
        "\n",
        "# dataset preparation\n",
        "\n",
        "from tensorflow.keras import datasets,layers,models\n",
        "from sklearn.model_selection import train_test_split\n",
        "X_train, X_test, y_train, y_test = train_test_split(X, y, test_size=0.4, train_size= 0.6 ,random_state=10)"
      ],
      "execution_count": null,
      "outputs": []
    },
    {
      "cell_type": "code",
      "metadata": {
        "id": "0nltPgw2L6_3"
      },
      "source": [
        "import os\n",
        "import tensorflow as tf\n",
        "import keras\n",
        "from tensorflow.keras import layers\n",
        "from tensorflow.keras import Model\n",
        "from os import getcwd"
      ],
      "execution_count": null,
      "outputs": []
    },
    {
      "cell_type": "code",
      "metadata": {
        "id": "s9t68HrkMCgX"
      },
      "source": [
        "model = tf.keras.models.Sequential([\n",
        "\ttf.keras.layers.Bidirectional(tf.keras.layers.LSTM(32, input_shape=(157,320), return_sequences=True)),\n",
        "\ttf.keras.layers.Bidirectional(tf.keras.layers.LSTM(32)),\n",
        "\ttf.keras.layers.Flatten(),\n",
        "\ttf.keras.layers.Dense(64, activation='relu'),\n",
        "\ttf.keras.layers.Dense(10, activation='softmax')\n",
        "\t])"
      ],
      "execution_count": null,
      "outputs": []
    },
    {
      "cell_type": "code",
      "metadata": {
        "colab": {
          "base_uri": "https://localhost:8080/"
        },
        "id": "nV3UayFUMoQ3",
        "outputId": "17c42323-5919-44aa-9595-9b92d09aa34d"
      },
      "source": [
        "model.compile(optimizer='adam',\n",
        "              loss='sparse_categorical_crossentropy',\n",
        "              metrics=['accuracy'])\n",
        "\n",
        "history = model.fit(X_train,y_train, batch_size = 50, epochs=50)"
      ],
      "execution_count": null,
      "outputs": [
        {
          "output_type": "stream",
          "name": "stdout",
          "text": [
            "Epoch 1/50\n",
            "6/6 [==============================] - 9s 127ms/step - loss: 2.1944 - accuracy: 0.1910\n",
            "Epoch 2/50\n",
            "6/6 [==============================] - 1s 126ms/step - loss: 2.0548 - accuracy: 0.2431\n",
            "Epoch 3/50\n",
            "6/6 [==============================] - 1s 126ms/step - loss: 1.9929 - accuracy: 0.2431\n",
            "Epoch 4/50\n",
            "6/6 [==============================] - 1s 127ms/step - loss: 1.9573 - accuracy: 0.2431\n",
            "Epoch 5/50\n",
            "6/6 [==============================] - 1s 129ms/step - loss: 1.9331 - accuracy: 0.2431\n",
            "Epoch 6/50\n",
            "6/6 [==============================] - 1s 127ms/step - loss: 1.9149 - accuracy: 0.2500\n",
            "Epoch 7/50\n",
            "6/6 [==============================] - 1s 130ms/step - loss: 1.9023 - accuracy: 0.2465\n",
            "Epoch 8/50\n",
            "6/6 [==============================] - 1s 125ms/step - loss: 1.9052 - accuracy: 0.2569\n",
            "Epoch 9/50\n",
            "6/6 [==============================] - 1s 127ms/step - loss: 1.8863 - accuracy: 0.2535\n",
            "Epoch 10/50\n",
            "6/6 [==============================] - 1s 125ms/step - loss: 1.8672 - accuracy: 0.2847\n",
            "Epoch 11/50\n",
            "6/6 [==============================] - 1s 126ms/step - loss: 1.8465 - accuracy: 0.2882\n",
            "Epoch 12/50\n",
            "6/6 [==============================] - 1s 127ms/step - loss: 1.8392 - accuracy: 0.2778\n",
            "Epoch 13/50\n",
            "6/6 [==============================] - 1s 132ms/step - loss: 1.8321 - accuracy: 0.2847\n",
            "Epoch 14/50\n",
            "6/6 [==============================] - 1s 131ms/step - loss: 1.8343 - accuracy: 0.2674\n",
            "Epoch 15/50\n",
            "6/6 [==============================] - 1s 127ms/step - loss: 1.8393 - accuracy: 0.2569\n",
            "Epoch 16/50\n",
            "6/6 [==============================] - 1s 124ms/step - loss: 1.8227 - accuracy: 0.2778\n",
            "Epoch 17/50\n",
            "6/6 [==============================] - 1s 130ms/step - loss: 1.7737 - accuracy: 0.3056\n",
            "Epoch 18/50\n",
            "6/6 [==============================] - 1s 126ms/step - loss: 1.7376 - accuracy: 0.3542\n",
            "Epoch 19/50\n",
            "6/6 [==============================] - 1s 129ms/step - loss: 1.8251 - accuracy: 0.3333\n",
            "Epoch 20/50\n",
            "6/6 [==============================] - 1s 127ms/step - loss: 1.8050 - accuracy: 0.2882\n",
            "Epoch 21/50\n",
            "6/6 [==============================] - 1s 131ms/step - loss: 1.7694 - accuracy: 0.3194\n",
            "Epoch 22/50\n",
            "6/6 [==============================] - 1s 127ms/step - loss: 1.7708 - accuracy: 0.3333\n",
            "Epoch 23/50\n",
            "6/6 [==============================] - 1s 131ms/step - loss: 1.7016 - accuracy: 0.3576\n",
            "Epoch 24/50\n",
            "6/6 [==============================] - 1s 124ms/step - loss: 1.7182 - accuracy: 0.3576\n",
            "Epoch 25/50\n",
            "6/6 [==============================] - 1s 129ms/step - loss: 1.6337 - accuracy: 0.3611\n",
            "Epoch 26/50\n",
            "6/6 [==============================] - 1s 131ms/step - loss: 1.5874 - accuracy: 0.4167\n",
            "Epoch 27/50\n",
            "6/6 [==============================] - 1s 125ms/step - loss: 1.5535 - accuracy: 0.3993\n",
            "Epoch 28/50\n",
            "6/6 [==============================] - 1s 125ms/step - loss: 1.5196 - accuracy: 0.3611\n",
            "Epoch 29/50\n",
            "6/6 [==============================] - 1s 128ms/step - loss: 1.5726 - accuracy: 0.3889\n",
            "Epoch 30/50\n",
            "6/6 [==============================] - 1s 128ms/step - loss: 1.4901 - accuracy: 0.4549\n",
            "Epoch 31/50\n",
            "6/6 [==============================] - 1s 126ms/step - loss: 1.3938 - accuracy: 0.4514\n",
            "Epoch 32/50\n",
            "6/6 [==============================] - 1s 129ms/step - loss: 1.4611 - accuracy: 0.4028\n",
            "Epoch 33/50\n",
            "6/6 [==============================] - 1s 130ms/step - loss: 1.3808 - accuracy: 0.4306\n",
            "Epoch 34/50\n",
            "6/6 [==============================] - 1s 128ms/step - loss: 1.3642 - accuracy: 0.4514\n",
            "Epoch 35/50\n",
            "6/6 [==============================] - 1s 128ms/step - loss: 1.3113 - accuracy: 0.4410\n",
            "Epoch 36/50\n",
            "6/6 [==============================] - 1s 129ms/step - loss: 1.2760 - accuracy: 0.4826\n",
            "Epoch 37/50\n",
            "6/6 [==============================] - 1s 125ms/step - loss: 1.2692 - accuracy: 0.4757\n",
            "Epoch 38/50\n",
            "6/6 [==============================] - 1s 128ms/step - loss: 1.3421 - accuracy: 0.4410\n",
            "Epoch 39/50\n",
            "6/6 [==============================] - 1s 129ms/step - loss: 1.2649 - accuracy: 0.4653\n",
            "Epoch 40/50\n",
            "6/6 [==============================] - 1s 129ms/step - loss: 1.2730 - accuracy: 0.4931\n",
            "Epoch 41/50\n",
            "6/6 [==============================] - 1s 128ms/step - loss: 1.2156 - accuracy: 0.5069\n",
            "Epoch 42/50\n",
            "6/6 [==============================] - 1s 131ms/step - loss: 1.1851 - accuracy: 0.5347\n",
            "Epoch 43/50\n",
            "6/6 [==============================] - 1s 123ms/step - loss: 1.1742 - accuracy: 0.5486\n",
            "Epoch 44/50\n",
            "6/6 [==============================] - 1s 128ms/step - loss: 1.3160 - accuracy: 0.4931\n",
            "Epoch 45/50\n",
            "6/6 [==============================] - 1s 127ms/step - loss: 1.2075 - accuracy: 0.5208\n",
            "Epoch 46/50\n",
            "6/6 [==============================] - 1s 128ms/step - loss: 1.1717 - accuracy: 0.5347\n",
            "Epoch 47/50\n",
            "6/6 [==============================] - 1s 125ms/step - loss: 1.1327 - accuracy: 0.5625\n",
            "Epoch 48/50\n",
            "6/6 [==============================] - 1s 128ms/step - loss: 1.1397 - accuracy: 0.5729\n",
            "Epoch 49/50\n",
            "6/6 [==============================] - 1s 129ms/step - loss: 1.0978 - accuracy: 0.5764\n",
            "Epoch 50/50\n",
            "6/6 [==============================] - 1s 126ms/step - loss: 1.0690 - accuracy: 0.5694\n"
          ]
        }
      ]
    },
    {
      "cell_type": "code",
      "metadata": {
        "colab": {
          "base_uri": "https://localhost:8080/"
        },
        "id": "DZXP0WQhNDdX",
        "outputId": "05154aa6-5e29-4386-b5eb-9e6f9627b9e6"
      },
      "source": [
        "model.evaluate(X_test, y_test)"
      ],
      "execution_count": null,
      "outputs": [
        {
          "output_type": "stream",
          "name": "stdout",
          "text": [
            "6/6 [==============================] - 2s 57ms/step - loss: 1.4087 - accuracy: 0.4323\n"
          ]
        },
        {
          "output_type": "execute_result",
          "data": {
            "text/plain": [
              "[1.408677577972412, 0.4322916567325592]"
            ]
          },
          "metadata": {},
          "execution_count": 20
        }
      ]
    },
    {
      "cell_type": "markdown",
      "metadata": {
        "id": "Fj_6FTfHNdIA"
      },
      "source": [
        "# EmoDB Dataset"
      ]
    },
    {
      "cell_type": "code",
      "metadata": {
        "id": "jZuopGMwNfcX"
      },
      "source": [
        "!unzip \"/content/drive/MyDrive/EmoDB.zip\""
      ],
      "execution_count": null,
      "outputs": []
    },
    {
      "cell_type": "code",
      "metadata": {
        "id": "h29DgzlZNl7_"
      },
      "source": [
        "import librosa\n",
        "import numpy as np\n",
        "\n",
        "input_length = 16000*5\n",
        "\n",
        "batch_size = 32\n",
        "\n",
        "n_mels = 320\n",
        "\n",
        "def preprocess_audio_mel_T(audio, sample_rate=16000, window_size=20, #log_specgram\n",
        "                 step_size=10, eps=1e-10):\n",
        "\n",
        "    mel_spec = librosa.feature.melspectrogram(y=audio, sr=sample_rate, n_mels= n_mels)\n",
        "    mel_db = (librosa.power_to_db(mel_spec, ref=np.max) + 40)/40\n",
        "\n",
        "    return mel_db.T\n",
        "\n",
        "\n",
        "def load_audio_file(file_path, input_length=input_length):\n",
        "  data = librosa.core.load(file_path, sr=16000)[0] #, sr=16000\n",
        "  if len(data)>input_length:\n",
        "    max_offset = len(data)-input_length\n",
        "    \n",
        "    offset = np.random.randint(max_offset)\n",
        "    \n",
        "    data = data[offset:(input_length+offset)]\n",
        "            \n",
        "  else:\n",
        "    if input_length > len(data):\n",
        "      max_offset = input_length - len(data)\n",
        "\n",
        "      offset = np.random.randint(max_offset)\n",
        "    else:\n",
        "      offset = 0\n",
        "    data = np.pad(data, (offset, input_length - len(data) - offset), \"constant\")\n",
        "    \n",
        "  data = preprocess_audio_mel_T(data)\n",
        "  return data"
      ],
      "execution_count": null,
      "outputs": []
    },
    {
      "cell_type": "code",
      "metadata": {
        "id": "kKTDd7ViNof-"
      },
      "source": [
        "# Preprocessing the dataset\n",
        "import os\n",
        "from scipy.io import wavfile\n",
        "import librosa\n",
        "import matplotlib.pyplot as plt\n",
        "import numpy as np\n",
        "import cv2\n",
        "\n",
        "directory = \"/content/wav/\"\n",
        "\n",
        "classes = [\"W\" ,\"L\" ,\"E\" ,\"A\" , \"F\" ,\"T\" ,\"N\" ]\n",
        "\n",
        "X = list()\n",
        "y = list()\n",
        "\n",
        "for filename in os.listdir(directory):\n",
        "  filePath = os.path.join(directory, filename)\n",
        "  data = load_audio_file(file_path=filePath)\n",
        "  if(filename[5:6] in classes):\n",
        "    X.append(data)\n",
        "    y.append(classes.index(filename[5:6]))"
      ],
      "execution_count": null,
      "outputs": []
    },
    {
      "cell_type": "code",
      "metadata": {
        "id": "2cW0fIXgNtJn"
      },
      "source": [
        "X = np.asarray(X, dtype=np.float32)\n",
        "y = np.asarray(y, dtype=np.float32)"
      ],
      "execution_count": null,
      "outputs": []
    },
    {
      "cell_type": "code",
      "metadata": {
        "id": "A11vmCe1Nu63"
      },
      "source": [
        "import pandas as pd\n",
        "import numpy as np\n",
        "import matplotlib.pyplot as plt\n",
        "import tensorflow as tf\n",
        "\n",
        "# dataset preparation\n",
        "\n",
        "from tensorflow.keras import datasets,layers,models\n",
        "from sklearn.model_selection import train_test_split\n",
        "X_train, X_test, y_train, y_test = train_test_split(X, y, test_size=0.3, train_size= 0.7 ,random_state=10)"
      ],
      "execution_count": null,
      "outputs": []
    },
    {
      "cell_type": "code",
      "metadata": {
        "id": "1hH1TD9kNyav"
      },
      "source": [
        "model = tf.keras.models.Sequential([\n",
        "\ttf.keras.layers.Bidirectional(tf.keras.layers.LSTM(32, input_shape=(157,320), return_sequences=True)),\n",
        "\ttf.keras.layers.Bidirectional(tf.keras.layers.LSTM(32)),\n",
        "\ttf.keras.layers.Flatten(),\n",
        "\ttf.keras.layers.Dense(64, activation='relu'),\n",
        "\ttf.keras.layers.Dense(10, activation='softmax')\n",
        "\t])"
      ],
      "execution_count": null,
      "outputs": []
    },
    {
      "cell_type": "code",
      "metadata": {
        "colab": {
          "base_uri": "https://localhost:8080/"
        },
        "id": "5-PjaTOqN5Dm",
        "outputId": "741db620-bea5-4f9b-a023-846f7a74f8cb"
      },
      "source": [
        "model.compile(optimizer='adam',\n",
        "              loss='sparse_categorical_crossentropy',\n",
        "              metrics=['accuracy'])\n",
        "\n",
        "history = model.fit(X_train,y_train, batch_size = 50, epochs=50)"
      ],
      "execution_count": null,
      "outputs": [
        {
          "output_type": "stream",
          "name": "stdout",
          "text": [
            "Epoch 1/50\n",
            "8/8 [==============================] - 10s 130ms/step - loss: 2.1718 - accuracy: 0.1631\n",
            "Epoch 2/50\n",
            "8/8 [==============================] - 1s 130ms/step - loss: 2.0208 - accuracy: 0.1898\n",
            "Epoch 3/50\n",
            "8/8 [==============================] - 1s 130ms/step - loss: 1.9197 - accuracy: 0.2540\n",
            "Epoch 4/50\n",
            "8/8 [==============================] - 1s 127ms/step - loss: 1.8459 - accuracy: 0.2701\n",
            "Epoch 5/50\n",
            "8/8 [==============================] - 1s 130ms/step - loss: 1.7682 - accuracy: 0.3289\n",
            "Epoch 6/50\n",
            "8/8 [==============================] - 1s 127ms/step - loss: 1.6464 - accuracy: 0.4439\n",
            "Epoch 7/50\n",
            "8/8 [==============================] - 1s 129ms/step - loss: 1.5401 - accuracy: 0.4064\n",
            "Epoch 8/50\n",
            "8/8 [==============================] - 1s 127ms/step - loss: 1.4142 - accuracy: 0.4171\n",
            "Epoch 9/50\n",
            "8/8 [==============================] - 1s 132ms/step - loss: 1.3430 - accuracy: 0.4866\n",
            "Epoch 10/50\n",
            "8/8 [==============================] - 1s 131ms/step - loss: 1.2661 - accuracy: 0.5107\n",
            "Epoch 11/50\n",
            "8/8 [==============================] - 1s 129ms/step - loss: 1.2101 - accuracy: 0.5053\n",
            "Epoch 12/50\n",
            "8/8 [==============================] - 1s 131ms/step - loss: 1.1619 - accuracy: 0.5374\n",
            "Epoch 13/50\n",
            "8/8 [==============================] - 1s 131ms/step - loss: 1.0971 - accuracy: 0.5481\n",
            "Epoch 14/50\n",
            "8/8 [==============================] - 1s 130ms/step - loss: 1.1003 - accuracy: 0.5508\n",
            "Epoch 15/50\n",
            "8/8 [==============================] - 1s 127ms/step - loss: 1.0850 - accuracy: 0.5615\n",
            "Epoch 16/50\n",
            "8/8 [==============================] - 1s 130ms/step - loss: 1.0485 - accuracy: 0.5802\n",
            "Epoch 17/50\n",
            "8/8 [==============================] - 1s 132ms/step - loss: 1.0593 - accuracy: 0.5642\n",
            "Epoch 18/50\n",
            "8/8 [==============================] - 1s 130ms/step - loss: 0.9345 - accuracy: 0.6310\n",
            "Epoch 19/50\n",
            "8/8 [==============================] - 1s 131ms/step - loss: 1.0418 - accuracy: 0.5989\n",
            "Epoch 20/50\n",
            "8/8 [==============================] - 1s 129ms/step - loss: 0.9683 - accuracy: 0.6310\n",
            "Epoch 21/50\n",
            "8/8 [==============================] - 1s 128ms/step - loss: 0.9145 - accuracy: 0.6123\n",
            "Epoch 22/50\n",
            "8/8 [==============================] - 1s 132ms/step - loss: 0.8651 - accuracy: 0.6471\n",
            "Epoch 23/50\n",
            "8/8 [==============================] - 1s 128ms/step - loss: 0.7903 - accuracy: 0.6658\n",
            "Epoch 24/50\n",
            "8/8 [==============================] - 1s 128ms/step - loss: 0.7931 - accuracy: 0.6898\n",
            "Epoch 25/50\n",
            "8/8 [==============================] - 1s 128ms/step - loss: 0.6393 - accuracy: 0.7487\n",
            "Epoch 26/50\n",
            "8/8 [==============================] - 1s 127ms/step - loss: 0.6302 - accuracy: 0.7567\n",
            "Epoch 27/50\n",
            "8/8 [==============================] - 1s 130ms/step - loss: 0.7492 - accuracy: 0.7086\n",
            "Epoch 28/50\n",
            "8/8 [==============================] - 1s 130ms/step - loss: 0.6786 - accuracy: 0.7299\n",
            "Epoch 29/50\n",
            "8/8 [==============================] - 1s 130ms/step - loss: 0.5873 - accuracy: 0.7594\n",
            "Epoch 30/50\n",
            "8/8 [==============================] - 1s 133ms/step - loss: 0.8354 - accuracy: 0.6979\n",
            "Epoch 31/50\n",
            "8/8 [==============================] - 1s 129ms/step - loss: 0.5967 - accuracy: 0.7807\n",
            "Epoch 32/50\n",
            "8/8 [==============================] - 1s 126ms/step - loss: 0.5241 - accuracy: 0.7941\n",
            "Epoch 33/50\n",
            "8/8 [==============================] - 1s 131ms/step - loss: 0.4724 - accuracy: 0.8209\n",
            "Epoch 34/50\n",
            "8/8 [==============================] - 1s 129ms/step - loss: 0.4658 - accuracy: 0.8396\n",
            "Epoch 35/50\n",
            "8/8 [==============================] - 1s 131ms/step - loss: 0.4471 - accuracy: 0.8396\n",
            "Epoch 36/50\n",
            "8/8 [==============================] - 1s 133ms/step - loss: 0.4040 - accuracy: 0.8476\n",
            "Epoch 37/50\n",
            "8/8 [==============================] - 1s 128ms/step - loss: 0.3737 - accuracy: 0.8636\n",
            "Epoch 38/50\n",
            "8/8 [==============================] - 1s 129ms/step - loss: 0.3504 - accuracy: 0.8850\n",
            "Epoch 39/50\n",
            "8/8 [==============================] - 1s 127ms/step - loss: 0.3232 - accuracy: 0.8850\n",
            "Epoch 40/50\n",
            "8/8 [==============================] - 1s 125ms/step - loss: 0.3720 - accuracy: 0.8556\n",
            "Epoch 41/50\n",
            "8/8 [==============================] - 1s 129ms/step - loss: 0.4313 - accuracy: 0.8289\n",
            "Epoch 42/50\n",
            "8/8 [==============================] - 1s 129ms/step - loss: 0.4042 - accuracy: 0.8262\n",
            "Epoch 43/50\n",
            "8/8 [==============================] - 1s 127ms/step - loss: 0.4327 - accuracy: 0.8316\n",
            "Epoch 44/50\n",
            "8/8 [==============================] - 1s 127ms/step - loss: 0.3212 - accuracy: 0.8850\n",
            "Epoch 45/50\n",
            "8/8 [==============================] - 1s 130ms/step - loss: 0.3093 - accuracy: 0.8824\n",
            "Epoch 46/50\n",
            "8/8 [==============================] - 1s 129ms/step - loss: 0.3036 - accuracy: 0.8930\n",
            "Epoch 47/50\n",
            "8/8 [==============================] - 1s 128ms/step - loss: 0.2900 - accuracy: 0.8930\n",
            "Epoch 48/50\n",
            "8/8 [==============================] - 1s 131ms/step - loss: 0.2550 - accuracy: 0.8984\n",
            "Epoch 49/50\n",
            "8/8 [==============================] - 1s 130ms/step - loss: 0.2239 - accuracy: 0.9144\n",
            "Epoch 50/50\n",
            "8/8 [==============================] - 1s 127ms/step - loss: 0.2858 - accuracy: 0.8984\n"
          ]
        }
      ]
    },
    {
      "cell_type": "code",
      "metadata": {
        "colab": {
          "base_uri": "https://localhost:8080/"
        },
        "id": "Uxz5iKS-N_fv",
        "outputId": "9d3529ed-70de-4b30-8f30-29efc3d962fe"
      },
      "source": [
        "model.evaluate(X_test, y_test)"
      ],
      "execution_count": null,
      "outputs": [
        {
          "output_type": "stream",
          "name": "stdout",
          "text": [
            "6/6 [==============================] - 2s 54ms/step - loss: 1.7593 - accuracy: 0.5590\n"
          ]
        },
        {
          "output_type": "execute_result",
          "data": {
            "text/plain": [
              "[1.7592660188674927, 0.5590062141418457]"
            ]
          },
          "metadata": {},
          "execution_count": 28
        }
      ]
    }
  ]
}