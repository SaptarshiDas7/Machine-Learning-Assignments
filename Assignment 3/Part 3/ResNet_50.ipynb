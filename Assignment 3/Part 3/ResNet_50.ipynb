{
  "nbformat": 4,
  "nbformat_minor": 0,
  "metadata": {
    "colab": {
      "name": "ResNet-50.ipynb",
      "provenance": [],
      "collapsed_sections": [],
      "toc_visible": true
    },
    "kernelspec": {
      "name": "python3",
      "display_name": "Python 3"
    },
    "language_info": {
      "name": "python"
    },
    "accelerator": "GPU"
  },
  "cells": [
    {
      "cell_type": "code",
      "metadata": {
        "colab": {
          "base_uri": "https://localhost:8080/"
        },
        "id": "vZjpT9BJGBr4",
        "outputId": "e454362b-5f9a-435c-f1dc-4452e70c23a2"
      },
      "source": [
        "from google.colab import drive\n",
        "drive.mount('/content/drive')"
      ],
      "execution_count": null,
      "outputs": [
        {
          "output_type": "stream",
          "name": "stdout",
          "text": [
            "Mounted at /content/drive\n"
          ]
        }
      ]
    },
    {
      "cell_type": "code",
      "metadata": {
        "colab": {
          "base_uri": "https://localhost:8080/"
        },
        "id": "M8GD6KYvgCxb",
        "outputId": "15df4048-609a-4170-a47a-8fad6275c919"
      },
      "source": [
        "from __future__ import print_function\n",
        "\n",
        "import numpy as np\n",
        "import warnings\n",
        "\n",
        "!pip install keras_applications\n",
        "\n",
        "from keras.layers import Input\n",
        "from keras import layers\n",
        "from keras.layers import Dense\n",
        "from keras.layers import Activation\n",
        "from keras.layers import Flatten\n",
        "from keras.layers import Conv2D\n",
        "from keras.layers import MaxPooling2D\n",
        "from keras.layers import GlobalMaxPooling2D\n",
        "from keras.layers import ZeroPadding2D\n",
        "from keras.layers import AveragePooling2D\n",
        "from keras.layers import GlobalAveragePooling2D\n",
        "from keras.layers import BatchNormalization\n",
        "from keras.models import Model\n",
        "from keras.preprocessing import image\n",
        "import keras.backend as K\n",
        "from keras.utils import layer_utils\n",
        "from keras.utils.data_utils import get_file\n",
        "from keras.applications.imagenet_utils import decode_predictions\n",
        "from keras.applications.imagenet_utils import preprocess_input\n",
        "from keras_applications.imagenet_utils import _obtain_input_shape\n",
        "from keras.utils.layer_utils import get_source_inputs\n",
        "\n",
        "import tensorflow as tf\n",
        "from tensorflow import keras\n",
        "import matplotlib.pyplot as plt\n",
        "%matplotlib inline\n",
        "import numpy as np\n",
        "import skimage.transform"
      ],
      "execution_count": null,
      "outputs": [
        {
          "output_type": "stream",
          "name": "stdout",
          "text": [
            "Requirement already satisfied: keras_applications in /usr/local/lib/python3.7/dist-packages (1.0.8)\n",
            "Requirement already satisfied: numpy>=1.9.1 in /usr/local/lib/python3.7/dist-packages (from keras_applications) (1.19.5)\n",
            "Requirement already satisfied: h5py in /usr/local/lib/python3.7/dist-packages (from keras_applications) (3.1.0)\n",
            "Requirement already satisfied: cached-property in /usr/local/lib/python3.7/dist-packages (from h5py->keras_applications) (1.5.2)\n"
          ]
        }
      ]
    },
    {
      "cell_type": "code",
      "metadata": {
        "id": "Tu8kZGW_gMmX"
      },
      "source": [
        "WEIGHTS_PATH = 'https://github.com/fchollet/deep-learning-models/releases/download/v0.2/resnet50_weights_tf_dim_ordering_tf_kernels.h5'\n",
        "WEIGHTS_PATH_NO_TOP = 'https://github.com/fchollet/deep-learning-models/releases/download/v0.2/resnet50_weights_tf_dim_ordering_tf_kernels_notop.h5'\n",
        "\n",
        "\n",
        "def identity_block(input_tensor, kernel_size, filters, stage, block):\n",
        "    \"\"\"The identity block is the block that has no conv layer at shortcut.\n",
        "    # Arguments\n",
        "        input_tensor: input tensor\n",
        "        kernel_size: defualt 3, the kernel size of middle conv layer at main path\n",
        "        filters: list of integers, the filterss of 3 conv layer at main path\n",
        "        stage: integer, current stage label, used for generating layer names\n",
        "        block: 'a','b'..., current block label, used for generating layer names\n",
        "    # Returns\n",
        "        Output tensor for the block.\n",
        "    \"\"\"\n",
        "    filters1, filters2, filters3 = filters\n",
        "    if K.image_data_format() == 'channels_last':\n",
        "        bn_axis = 3\n",
        "    else:\n",
        "        bn_axis = 1\n",
        "    conv_name_base = 'res' + str(stage) + block + '_branch'\n",
        "    bn_name_base = 'bn' + str(stage) + block + '_branch'\n",
        "\n",
        "    x = Conv2D(filters1, (1, 1), name=conv_name_base + '2a')(input_tensor)\n",
        "    x = BatchNormalization(axis=bn_axis, name=bn_name_base + '2a')(x)\n",
        "    x = Activation('relu')(x)\n",
        "\n",
        "    x = Conv2D(filters2, kernel_size,\n",
        "               padding='same', name=conv_name_base + '2b')(x)\n",
        "    x = BatchNormalization(axis=bn_axis, name=bn_name_base + '2b')(x)\n",
        "    x = Activation('relu')(x)\n",
        "\n",
        "    x = Conv2D(filters3, (1, 1), name=conv_name_base + '2c')(x)\n",
        "    x = BatchNormalization(axis=bn_axis, name=bn_name_base + '2c')(x)\n",
        "\n",
        "    x = layers.add([x, input_tensor])\n",
        "    x = Activation('relu')(x)\n",
        "    return x\n",
        "\n",
        "\n",
        "def conv_block(input_tensor, kernel_size, filters, stage, block, strides=(2, 2)):\n",
        "    \"\"\"conv_block is the block that has a conv layer at shortcut\n",
        "    # Arguments\n",
        "        input_tensor: input tensor\n",
        "        kernel_size: defualt 3, the kernel size of middle conv layer at main path\n",
        "        filters: list of integers, the filterss of 3 conv layer at main path\n",
        "        stage: integer, current stage label, used for generating layer names\n",
        "        block: 'a','b'..., current block label, used for generating layer names\n",
        "    # Returns\n",
        "        Output tensor for the block.\n",
        "    Note that from stage 3, the first conv layer at main path is with strides=(2,2)\n",
        "    And the shortcut should have strides=(2,2) as well\n",
        "    \"\"\"\n",
        "    filters1, filters2, filters3 = filters\n",
        "    if K.image_data_format() == 'channels_last':\n",
        "        bn_axis = 3\n",
        "    else:\n",
        "        bn_axis = 1\n",
        "    conv_name_base = 'res' + str(stage) + block + '_branch'\n",
        "    bn_name_base = 'bn' + str(stage) + block + '_branch'\n",
        "\n",
        "    x = Conv2D(filters1, (1, 1), strides=strides,\n",
        "               name=conv_name_base + '2a')(input_tensor)\n",
        "    x = BatchNormalization(axis=bn_axis, name=bn_name_base + '2a')(x)\n",
        "    x = Activation('relu')(x)\n",
        "\n",
        "    x = Conv2D(filters2, kernel_size, padding='same',\n",
        "               name=conv_name_base + '2b')(x)\n",
        "    x = BatchNormalization(axis=bn_axis, name=bn_name_base + '2b')(x)\n",
        "    x = Activation('relu')(x)\n",
        "\n",
        "    x = Conv2D(filters3, (1, 1), name=conv_name_base + '2c')(x)\n",
        "    x = BatchNormalization(axis=bn_axis, name=bn_name_base + '2c')(x)\n",
        "\n",
        "    shortcut = Conv2D(filters3, (1, 1), strides=strides,\n",
        "                      name=conv_name_base + '1')(input_tensor)\n",
        "    shortcut = BatchNormalization(axis=bn_axis, name=bn_name_base + '1')(shortcut)\n",
        "\n",
        "    x = layers.add([x, shortcut])\n",
        "    x = Activation('relu')(x)\n",
        "    return x\n",
        "\n",
        "\n",
        "def ResNet50(include_top=True, weights='imagenet',\n",
        "             input_tensor=None, input_shape=None,\n",
        "             pooling=None,\n",
        "             classes=1000):\n",
        "    \"\"\"Instantiates the ResNet50 architecture.\n",
        "    Optionally loads weights pre-trained\n",
        "    on ImageNet. Note that when using TensorFlow,\n",
        "    for best performance you should set\n",
        "    `image_data_format=\"channels_last\"` in your Keras config\n",
        "    at ~/.keras/keras.json.\n",
        "    The model and the weights are compatible with both\n",
        "    TensorFlow and Theano. The data format\n",
        "    convention used by the model is the one\n",
        "    specified in your Keras config file.\n",
        "    # Arguments\n",
        "        include_top: whether to include the fully-connected\n",
        "            layer at the top of the network.\n",
        "        weights: one of `None` (random initialization)\n",
        "            or \"imagenet\" (pre-training on ImageNet).\n",
        "        input_tensor: optional Keras tensor (i.e. output of `layers.Input()`)\n",
        "            to use as image input for the model.\n",
        "        input_shape: optional shape tuple, only to be specified\n",
        "            if `include_top` is False (otherwise the input shape\n",
        "            has to be `(224, 224, 3)` (with `channels_last` data format)\n",
        "            or `(3, 224, 244)` (with `channels_first` data format).\n",
        "            It should have exactly 3 inputs channels,\n",
        "            and width and height should be no smaller than 197.\n",
        "            E.g. `(200, 200, 3)` would be one valid value.\n",
        "        pooling: Optional pooling mode for feature extraction\n",
        "            when `include_top` is `False`.\n",
        "            - `None` means that the output of the model will be\n",
        "                the 4D tensor output of the\n",
        "                last convolutional layer.\n",
        "            - `avg` means that global average pooling\n",
        "                will be applied to the output of the\n",
        "                last convolutional layer, and thus\n",
        "                the output of the model will be a 2D tensor.\n",
        "            - `max` means that global max pooling will\n",
        "                be applied.\n",
        "        classes: optional number of classes to classify images\n",
        "            into, only to be specified if `include_top` is True, and\n",
        "            if no `weights` argument is specified.\n",
        "    # Returns\n",
        "        A Keras model instance.\n",
        "    # Raises\n",
        "        ValueError: in case of invalid argument for `weights`,\n",
        "            or invalid input shape.\n",
        "    \"\"\"\n",
        "    if weights not in {'imagenet', None}:\n",
        "        raise ValueError('The `weights` argument should be either '\n",
        "                         '`None` (random initialization) or `imagenet` '\n",
        "                         '(pre-training on ImageNet).')\n",
        "\n",
        "    if weights == 'imagenet' and include_top and classes != 1000:\n",
        "        raise ValueError('If using `weights` as imagenet with `include_top`'\n",
        "                         ' as true, `classes` should be 1000')\n",
        "\n",
        "    # Determine proper input shape\n",
        "    input_shape = _obtain_input_shape(input_shape,\n",
        "                                      default_size=224,\n",
        "                                      min_size=197,\n",
        "                                      data_format=K.image_data_format(),\n",
        "                                      require_flatten=include_top)\n",
        "\n",
        "    if input_tensor is None:\n",
        "        img_input = Input(shape=input_shape)\n",
        "    else:\n",
        "        if not K.is_keras_tensor(input_tensor):\n",
        "            img_input = Input(tensor=input_tensor, shape=input_shape)\n",
        "        else:\n",
        "            img_input = input_tensor\n",
        "    if K.image_data_format() == 'channels_last':\n",
        "        bn_axis = 3\n",
        "    else:\n",
        "        bn_axis = 1\n",
        "\n",
        "    x = ZeroPadding2D((3, 3))(img_input)\n",
        "    x = Conv2D(64, (7, 7), strides=(2, 2), name='conv1')(x)\n",
        "    x = BatchNormalization(axis=bn_axis, name='bn_conv1')(x)\n",
        "    x = Activation('relu')(x)\n",
        "    x = MaxPooling2D((3, 3), strides=(2, 2))(x)\n",
        "\n",
        "    x = conv_block(x, 3, [64, 64, 256], stage=2, block='a', strides=(1, 1))\n",
        "    x = identity_block(x, 3, [64, 64, 256], stage=2, block='b')\n",
        "    x = identity_block(x, 3, [64, 64, 256], stage=2, block='c')\n",
        "\n",
        "    x = conv_block(x, 3, [128, 128, 512], stage=3, block='a')\n",
        "    x = identity_block(x, 3, [128, 128, 512], stage=3, block='b')\n",
        "    x = identity_block(x, 3, [128, 128, 512], stage=3, block='c')\n",
        "    x = identity_block(x, 3, [128, 128, 512], stage=3, block='d')\n",
        "\n",
        "    x = conv_block(x, 3, [256, 256, 1024], stage=4, block='a')\n",
        "    x = identity_block(x, 3, [256, 256, 1024], stage=4, block='b')\n",
        "    x = identity_block(x, 3, [256, 256, 1024], stage=4, block='c')\n",
        "    x = identity_block(x, 3, [256, 256, 1024], stage=4, block='d')\n",
        "    x = identity_block(x, 3, [256, 256, 1024], stage=4, block='e')\n",
        "    x = identity_block(x, 3, [256, 256, 1024], stage=4, block='f')\n",
        "\n",
        "    x = conv_block(x, 3, [512, 512, 2048], stage=5, block='a')\n",
        "    x = identity_block(x, 3, [512, 512, 2048], stage=5, block='b')\n",
        "    x = identity_block(x, 3, [512, 512, 2048], stage=5, block='c')\n",
        "\n",
        "    x = AveragePooling2D((7, 7), name='avg_pool')(x)\n",
        "\n",
        "    if include_top:\n",
        "        x = Flatten()(x)\n",
        "        x = Dense(classes, activation='softmax', name='fc1000')(x)\n",
        "    else:\n",
        "        if pooling == 'avg':\n",
        "            x = GlobalAveragePooling2D()(x)\n",
        "        elif pooling == 'max':\n",
        "            x = GlobalMaxPooling2D()(x)\n",
        "\n",
        "    # Ensure that the model takes into account\n",
        "    # any potential predecessors of `input_tensor`.\n",
        "    if input_tensor is not None:\n",
        "        inputs = get_source_inputs(input_tensor)\n",
        "    else:\n",
        "        inputs = img_input\n",
        "    # Create model.\n",
        "    model = Model(inputs, x, name='resnet50')\n",
        "\n",
        "    # load weights\n",
        "    if weights == 'imagenet':\n",
        "        if include_top:\n",
        "            weights_path = get_file('resnet50_weights_tf_dim_ordering_tf_kernels.h5',\n",
        "                                    WEIGHTS_PATH,\n",
        "                                    cache_subdir='models',\n",
        "                                    md5_hash='a7b3fe01876f51b976af0dea6bc144eb')\n",
        "        else:\n",
        "            weights_path = get_file('resnet50_weights_tf_dim_ordering_tf_kernels_notop.h5',\n",
        "                                    WEIGHTS_PATH_NO_TOP,\n",
        "                                    cache_subdir='models',\n",
        "                                    md5_hash='a268eb855778b3df3c7506639542a6af')\n",
        "        model.load_weights(weights_path)\n",
        "        if K.backend() == 'theano':\n",
        "            layer_utils.convert_all_kernels_in_model(model)\n",
        "\n",
        "        if K.image_data_format() == 'channels_first':\n",
        "            if include_top:\n",
        "                maxpool = model.get_layer(name='avg_pool')\n",
        "                shape = maxpool.output_shape[1:]\n",
        "                dense = model.get_layer(name='fc1000')\n",
        "                layer_utils.convert_dense_weights_data_format(dense, shape, 'channels_first')\n",
        "\n",
        "            if K.backend() == 'tensorflow':\n",
        "                warnings.warn('You are using the TensorFlow backend, yet you '\n",
        "                              'are using the Theano '\n",
        "                              'image data format convention '\n",
        "                              '(`image_data_format=\"channels_first\"`). '\n",
        "                              'For best performance, set '\n",
        "                              '`image_data_format=\"channels_last\"` in '\n",
        "                              'your Keras config '\n",
        "                              'at ~/.keras/keras.json.')\n",
        "    return model"
      ],
      "execution_count": null,
      "outputs": []
    },
    {
      "cell_type": "code",
      "metadata": {
        "id": "dioWpDE6gfbc"
      },
      "source": [
        "def load_preprocess_training_batch(X_train):\n",
        "    \n",
        "    new = []\n",
        "    \n",
        "    for item in X_train:\n",
        "        tmpFeature = skimage.transform.resize(item, (224, 224), mode='constant')\n",
        "        new.append(tmpFeature)\n",
        "\n",
        "    return new"
      ],
      "execution_count": null,
      "outputs": []
    },
    {
      "cell_type": "code",
      "metadata": {
        "id": "o5YRr-1QhcDv"
      },
      "source": [
        "def preprocess_data(X_train):\n",
        "    \n",
        "    for item in X_train:\n",
        "      item = np.expand_dims(item, axis=0)\n",
        "      item = preprocess_input(item)\n",
        "\n",
        "    return X_train"
      ],
      "execution_count": null,
      "outputs": []
    },
    {
      "cell_type": "markdown",
      "metadata": {
        "id": "IVLwma3ZBH9I"
      },
      "source": [
        "# CIFAR-10 DATASET"
      ]
    },
    {
      "cell_type": "code",
      "metadata": {
        "colab": {
          "base_uri": "https://localhost:8080/"
        },
        "id": "ydr6kqaxguEh",
        "outputId": "4ad44cba-04a2-40dc-9220-3a7912339cff"
      },
      "source": [
        "(X_train, y_train) , (X_test, y_test) = keras.datasets.cifar10.load_data()\n",
        "\n",
        "X_train = X_train[0:2000]\n",
        "y_train = y_train[0:2000]\n",
        "X_test = X_test[0:2000]\n",
        "y_test = y_test[0:2000]"
      ],
      "execution_count": null,
      "outputs": [
        {
          "output_type": "stream",
          "name": "stdout",
          "text": [
            "Downloading data from https://www.cs.toronto.edu/~kriz/cifar-10-python.tar.gz\n",
            "170500096/170498071 [==============================] - 3s 0us/step\n",
            "170508288/170498071 [==============================] - 3s 0us/step\n"
          ]
        }
      ]
    },
    {
      "cell_type": "code",
      "metadata": {
        "id": "3zojelmOgvWs"
      },
      "source": [
        "X_train_resized = load_preprocess_training_batch(X_train)\n",
        "X_test_resized = load_preprocess_training_batch(X_test)"
      ],
      "execution_count": null,
      "outputs": []
    },
    {
      "cell_type": "code",
      "metadata": {
        "id": "Tz7r5Adzg9E3"
      },
      "source": [
        "X_train_resized = np.array(X_train_resized)\n",
        "X_test_resized = np.array(X_test_resized)"
      ],
      "execution_count": null,
      "outputs": []
    },
    {
      "cell_type": "code",
      "metadata": {
        "id": "SZhwxsGBhZdw"
      },
      "source": [
        "X_train_resized = X_train_resized / 255\n",
        "X_test_resized = X_test_resized / 255"
      ],
      "execution_count": null,
      "outputs": []
    },
    {
      "cell_type": "code",
      "metadata": {
        "id": "rBc_CFrshgZy"
      },
      "source": [
        "X_train_resized = preprocess_data(X_train_resized)\n",
        "X_test_resized = preprocess_data(X_test_resized)"
      ],
      "execution_count": null,
      "outputs": []
    },
    {
      "cell_type": "code",
      "metadata": {
        "colab": {
          "base_uri": "https://localhost:8080/"
        },
        "id": "0_IGEtlbhkfO",
        "outputId": "88f7e02d-8242-42c6-d185-cb978757d935"
      },
      "source": [
        "model = ResNet50(include_top=True, weights='imagenet')\n",
        "\n",
        "model.compile(optimizer='SGD',\n",
        "              loss='sparse_categorical_crossentropy',\n",
        "              metrics=['accuracy'])\n",
        "\n",
        "history = model.fit(X_train_resized, y_train, epochs=5)"
      ],
      "execution_count": null,
      "outputs": [
        {
          "output_type": "stream",
          "name": "stdout",
          "text": [
            "Downloading data from https://github.com/fchollet/deep-learning-models/releases/download/v0.2/resnet50_weights_tf_dim_ordering_tf_kernels.h5\n",
            "102858752/102853048 [==============================] - 1s 0us/step\n",
            "102866944/102853048 [==============================] - 1s 0us/step\n",
            "Epoch 1/5\n",
            "63/63 [==============================] - 81s 703ms/step - loss: 2.9229 - accuracy: 0.0975\n",
            "Epoch 2/5\n",
            "63/63 [==============================] - 42s 673ms/step - loss: 2.4506 - accuracy: 0.1040\n",
            "Epoch 3/5\n",
            "63/63 [==============================] - 42s 673ms/step - loss: 2.2995 - accuracy: 0.1755\n",
            "Epoch 4/5\n",
            "63/63 [==============================] - 42s 672ms/step - loss: 2.1401 - accuracy: 0.2325\n",
            "Epoch 5/5\n",
            "63/63 [==============================] - 42s 672ms/step - loss: 2.0272 - accuracy: 0.2715\n"
          ]
        }
      ]
    },
    {
      "cell_type": "code",
      "metadata": {
        "colab": {
          "base_uri": "https://localhost:8080/"
        },
        "id": "UKnmDeAphwHs",
        "outputId": "74f4042b-77f7-4a15-cbaa-8a87db3e78a7"
      },
      "source": [
        "model.evaluate(X_test_resized, y_test)"
      ],
      "execution_count": null,
      "outputs": [
        {
          "output_type": "stream",
          "name": "stdout",
          "text": [
            "63/63 [==============================] - 15s 217ms/step - loss: 16.8393 - accuracy: 0.0000e+00\n"
          ]
        },
        {
          "output_type": "execute_result",
          "data": {
            "text/plain": [
              "[16.839269638061523, 0.0]"
            ]
          },
          "metadata": {},
          "execution_count": 14
        }
      ]
    },
    {
      "cell_type": "markdown",
      "metadata": {
        "id": "ReTs5iDtBENI"
      },
      "source": [
        "# MNIST Dataset"
      ]
    },
    {
      "cell_type": "code",
      "metadata": {
        "id": "E31_FjSfjVaf",
        "colab": {
          "base_uri": "https://localhost:8080/"
        },
        "outputId": "b24db50e-d8bb-4495-b291-418a526ef367"
      },
      "source": [
        "(X_train, y_train) , (X_test, y_test) = keras.datasets.mnist.load_data()\n",
        "\n",
        "X_train = X_train[0:2000]\n",
        "y_train = y_train[0:2000]\n",
        "X_test = X_test[0:2000]\n",
        "y_test = y_test[0:2000]"
      ],
      "execution_count": null,
      "outputs": [
        {
          "output_type": "stream",
          "name": "stdout",
          "text": [
            "Downloading data from https://storage.googleapis.com/tensorflow/tf-keras-datasets/mnist.npz\n",
            "11493376/11490434 [==============================] - 0s 0us/step\n",
            "11501568/11490434 [==============================] - 0s 0us/step\n"
          ]
        }
      ]
    },
    {
      "cell_type": "code",
      "metadata": {
        "id": "vomE4AP5jvI-"
      },
      "source": [
        "X_train_resized = load_preprocess_training_batch(X_train)\n",
        "X_test_resized = load_preprocess_training_batch(X_test)\n",
        "\n",
        "X_train_resized = np.array(X_train_resized)\n",
        "X_test_resized = np.array(X_test_resized)\n",
        "\n",
        "X_train_resized = X_train_resized / 255.0\n",
        "X_test_resized = X_test_resized / 255.0\n",
        "\n",
        "X_train_resized = preprocess_data(X_train_resized)\n",
        "X_test_resized = preprocess_data(X_test_resized)"
      ],
      "execution_count": null,
      "outputs": []
    },
    {
      "cell_type": "code",
      "metadata": {
        "id": "5J9cPJhQj0Zt"
      },
      "source": [
        "import cv2\n",
        "\n",
        "X_train_new = list()\n",
        "\n",
        "for i in range(len(X_train_resized)):\n",
        "  g  = X_train_resized[i]\n",
        "  X_train_new.append(cv2.merge([g,g,g]))\n",
        "\n",
        "X_train_new = np.asarray(X_train_new,dtype=np.float32)\n",
        "\n",
        "X_test_new = list()\n",
        "\n",
        "for i in range(len(X_test_resized)):\n",
        "  g  = X_test_resized[i]\n",
        "  X_test_new.append(cv2.merge([g,g,g]))\n",
        "\n",
        "X_test_new = np.asarray(X_test_new,dtype=np.float32)"
      ],
      "execution_count": null,
      "outputs": []
    },
    {
      "cell_type": "code",
      "metadata": {
        "colab": {
          "base_uri": "https://localhost:8080/"
        },
        "id": "kRbu5QVRCsuA",
        "outputId": "0aad2b86-dff5-448c-f4a6-061955b1f875"
      },
      "source": [
        "model = ResNet50(include_top=True, weights='imagenet')\n",
        "\n",
        "model.compile(optimizer='SGD',\n",
        "              loss='sparse_categorical_crossentropy',\n",
        "              metrics=['accuracy'])\n",
        "\n",
        "history = model.fit(X_train_new, y_train, epochs=10)"
      ],
      "execution_count": null,
      "outputs": [
        {
          "output_type": "stream",
          "name": "stdout",
          "text": [
            "Downloading data from https://github.com/fchollet/deep-learning-models/releases/download/v0.2/resnet50_weights_tf_dim_ordering_tf_kernels.h5\n",
            "102858752/102853048 [==============================] - 5s 0us/step\n",
            "102866944/102853048 [==============================] - 5s 0us/step\n",
            "Epoch 1/10\n",
            "63/63 [==============================] - 81s 715ms/step - loss: 2.8611 - accuracy: 0.1030\n",
            "Epoch 2/10\n",
            "63/63 [==============================] - 44s 696ms/step - loss: 1.0983 - accuracy: 0.6265\n",
            "Epoch 3/10\n",
            "63/63 [==============================] - 44s 695ms/step - loss: 0.2511 - accuracy: 0.9315\n",
            "Epoch 4/10\n",
            "63/63 [==============================] - 44s 698ms/step - loss: 0.1633 - accuracy: 0.9570\n",
            "Epoch 5/10\n",
            "63/63 [==============================] - 44s 702ms/step - loss: 0.1118 - accuracy: 0.9710\n",
            "Epoch 6/10\n",
            "63/63 [==============================] - 44s 705ms/step - loss: 0.0647 - accuracy: 0.9825\n",
            "Epoch 7/10\n",
            "63/63 [==============================] - 44s 705ms/step - loss: 0.0655 - accuracy: 0.9815\n",
            "Epoch 8/10\n",
            "63/63 [==============================] - 44s 705ms/step - loss: 0.0429 - accuracy: 0.9890\n",
            "Epoch 9/10\n",
            "63/63 [==============================] - 44s 705ms/step - loss: 0.0272 - accuracy: 0.9950\n",
            "Epoch 10/10\n",
            "63/63 [==============================] - 44s 704ms/step - loss: 0.0121 - accuracy: 0.9985\n"
          ]
        }
      ]
    },
    {
      "cell_type": "code",
      "metadata": {
        "colab": {
          "base_uri": "https://localhost:8080/"
        },
        "id": "2ldVTRKeC4fn",
        "outputId": "20e96a02-ae33-4eab-b9b5-392cb23aca56"
      },
      "source": [
        "model.evaluate(X_test_new, y_test)"
      ],
      "execution_count": null,
      "outputs": [
        {
          "output_type": "stream",
          "name": "stdout",
          "text": [
            "63/63 [==============================] - 14s 227ms/step - loss: 13.1569 - accuracy: 0.0000e+00\n"
          ]
        },
        {
          "output_type": "execute_result",
          "data": {
            "text/plain": [
              "[13.156914710998535, 0.0]"
            ]
          },
          "metadata": {},
          "execution_count": 12
        }
      ]
    },
    {
      "cell_type": "markdown",
      "metadata": {
        "id": "ntvyK360C9N_"
      },
      "source": [
        "# SAVEE Dataset"
      ]
    },
    {
      "cell_type": "code",
      "metadata": {
        "id": "t3YeS2E1C_yH"
      },
      "source": [
        "!unzip \"/content/drive/MyDrive/SaveeDataset.zip\""
      ],
      "execution_count": null,
      "outputs": []
    },
    {
      "cell_type": "code",
      "metadata": {
        "id": "nLeMXQqBDCy_"
      },
      "source": [
        "import librosa\n",
        "import numpy as np\n",
        "\n",
        "input_length = 16000*5\n",
        "\n",
        "batch_size = 32\n",
        "\n",
        "n_mels = 320\n",
        "\n",
        "def preprocess_audio_mel_T(audio, sample_rate=16000, window_size=20, #log_specgram\n",
        "                 step_size=10, eps=1e-10):\n",
        "\n",
        "    mel_spec = librosa.feature.melspectrogram(y=audio, sr=sample_rate, n_mels= n_mels)\n",
        "    mel_db = (librosa.power_to_db(mel_spec, ref=np.max) + 40)/40\n",
        "\n",
        "    return mel_db.T\n",
        "\n",
        "\n",
        "def load_audio_file(file_path, input_length=input_length):\n",
        "  data = librosa.core.load(file_path, sr=16000)[0] #, sr=16000\n",
        "  if len(data)>input_length:\n",
        "    max_offset = len(data)-input_length\n",
        "    \n",
        "    offset = np.random.randint(max_offset)\n",
        "    \n",
        "    data = data[offset:(input_length+offset)]\n",
        "            \n",
        "  else:\n",
        "    if input_length > len(data):\n",
        "      max_offset = input_length - len(data)\n",
        "\n",
        "      offset = np.random.randint(max_offset)\n",
        "    else:\n",
        "      offset = 0\n",
        "    data = np.pad(data, (offset, input_length - len(data) - offset), \"constant\")\n",
        "    \n",
        "  data = preprocess_audio_mel_T(data)\n",
        "  return data"
      ],
      "execution_count": null,
      "outputs": []
    },
    {
      "cell_type": "code",
      "metadata": {
        "id": "7CzVX5dUDDb3"
      },
      "source": [
        "# Preprocessing the dataset\n",
        "import os\n",
        "from scipy.io import wavfile\n",
        "import librosa\n",
        "import matplotlib.pyplot as plt\n",
        "import numpy as np\n",
        "import cv2\n",
        "\n",
        "rootDirectory = \"/content/AudioData/\"\n",
        "personNames = [\"DC\",\"JE\",\"JK\",\"KL\"]\n",
        "\n",
        "classes = [\"a\" , \"d\" , \"f\", \"h\", \"n\", \"sa\" , \"su\" ]\n",
        "\n",
        "X = list()\n",
        "y = list()\n",
        "\n",
        "for person in personNames:\n",
        "  directory = os.path.join(rootDirectory,person)\n",
        "  for filename in os.listdir(directory):\n",
        "    filePath = os.path.join(directory, filename)\n",
        "    a = load_audio_file(file_path=filePath)\n",
        "    data = cv2.merge([a,a,a])\n",
        "    # data = np.reshape(data, data.shape + (1,))\n",
        "    if(filename[0:1] in classes):\n",
        "      X.append(data)\n",
        "      y.append(classes.index(filename[0:1]))\n",
        "    elif(filename[0:2] in classes):\n",
        "      X.append(data)\n",
        "      y.append(classes.index(filename[0:2]))"
      ],
      "execution_count": null,
      "outputs": []
    },
    {
      "cell_type": "code",
      "metadata": {
        "id": "5cBbGQp0DF4o"
      },
      "source": [
        "X = np.asarray(X, dtype=np.float32)\n",
        "y = np.asarray(y, dtype=np.float32)"
      ],
      "execution_count": null,
      "outputs": []
    },
    {
      "cell_type": "code",
      "metadata": {
        "id": "6JCv19FzDHev"
      },
      "source": [
        "import pandas as pd\n",
        "import numpy as np\n",
        "import matplotlib.pyplot as plt\n",
        "import tensorflow as tf\n",
        "\n",
        "# dataset preparation\n",
        "\n",
        "from tensorflow.keras import datasets,layers,models\n",
        "from sklearn.model_selection import train_test_split\n",
        "X_train, X_test, y_train, y_test = train_test_split(X, y, test_size=0.5, train_size= 0.5 ,random_state=10)"
      ],
      "execution_count": null,
      "outputs": []
    },
    {
      "cell_type": "code",
      "metadata": {
        "id": "Hp4V116WDJ3H"
      },
      "source": [
        "X_train_resized = load_preprocess_training_batch(X_train)\n",
        "X_test_resized = load_preprocess_training_batch(X_test)\n",
        "\n",
        "X_train_resized = np.array(X_train_resized)\n",
        "X_test_resized = np.array(X_test_resized)\n",
        "\n",
        "X_train_resized = preprocess_data(X_train_resized)\n",
        "X_test_resized = preprocess_data(X_test_resized)"
      ],
      "execution_count": null,
      "outputs": []
    },
    {
      "cell_type": "code",
      "metadata": {
        "colab": {
          "base_uri": "https://localhost:8080/"
        },
        "id": "nzNLuWNyDQDn",
        "outputId": "17e966de-1f6c-46fb-8650-192311ae7d9d"
      },
      "source": [
        "model = ResNet50(include_top=True, weights='imagenet')\n",
        "\n",
        "model.compile(optimizer='SGD',\n",
        "              loss='sparse_categorical_crossentropy',\n",
        "              metrics=['accuracy'])\n",
        "\n",
        "history = model.fit(X_train_resized, y_train, epochs=10)"
      ],
      "execution_count": null,
      "outputs": [
        {
          "output_type": "stream",
          "name": "stdout",
          "text": [
            "Epoch 1/10\n",
            "8/8 [==============================] - 10s 671ms/step - loss: 5.4114 - accuracy: 0.1042\n",
            "Epoch 2/10\n",
            "8/8 [==============================] - 5s 668ms/step - loss: 2.2010 - accuracy: 0.2875\n",
            "Epoch 3/10\n",
            "8/8 [==============================] - 5s 670ms/step - loss: 1.4778 - accuracy: 0.5125\n",
            "Epoch 4/10\n",
            "8/8 [==============================] - 5s 669ms/step - loss: 1.0197 - accuracy: 0.6833\n",
            "Epoch 5/10\n",
            "8/8 [==============================] - 5s 667ms/step - loss: 0.5054 - accuracy: 0.9167\n",
            "Epoch 6/10\n",
            "8/8 [==============================] - 5s 669ms/step - loss: 0.2390 - accuracy: 0.9833\n",
            "Epoch 7/10\n",
            "8/8 [==============================] - 5s 671ms/step - loss: 0.0966 - accuracy: 1.0000\n",
            "Epoch 8/10\n",
            "8/8 [==============================] - 5s 668ms/step - loss: 0.0691 - accuracy: 1.0000\n",
            "Epoch 9/10\n",
            "8/8 [==============================] - 5s 669ms/step - loss: 0.0550 - accuracy: 1.0000\n",
            "Epoch 10/10\n",
            "8/8 [==============================] - 5s 666ms/step - loss: 0.0281 - accuracy: 1.0000\n"
          ]
        }
      ]
    },
    {
      "cell_type": "code",
      "metadata": {
        "colab": {
          "base_uri": "https://localhost:8080/"
        },
        "id": "8I0qv8hHDVDx",
        "outputId": "9081fa7c-1128-46f8-d319-38dc417c900e"
      },
      "source": [
        "model.evaluate(X_test_resized, y_test)"
      ],
      "execution_count": null,
      "outputs": [
        {
          "output_type": "stream",
          "name": "stdout",
          "text": [
            "8/8 [==============================] - 3s 215ms/step - loss: 8.7594 - accuracy: 0.0000e+00\n"
          ]
        },
        {
          "output_type": "execute_result",
          "data": {
            "text/plain": [
              "[8.759380340576172, 0.0]"
            ]
          },
          "metadata": {},
          "execution_count": 13
        }
      ]
    },
    {
      "cell_type": "markdown",
      "metadata": {
        "id": "_v7i2oavDYPn"
      },
      "source": [
        "# EmoDB Dataset"
      ]
    },
    {
      "cell_type": "code",
      "metadata": {
        "id": "Wa9v4wthDak_"
      },
      "source": [
        "!unzip \"/content/drive/MyDrive/EmoDB.zip\""
      ],
      "execution_count": null,
      "outputs": []
    },
    {
      "cell_type": "code",
      "metadata": {
        "id": "Ak-AbYG3Dcd_"
      },
      "source": [
        "import librosa\n",
        "import numpy as np\n",
        "\n",
        "input_length = 16000*5\n",
        "\n",
        "batch_size = 32\n",
        "\n",
        "n_mels = 320\n",
        "\n",
        "def preprocess_audio_mel_T(audio, sample_rate=16000, window_size=20, #log_specgram\n",
        "                 step_size=10, eps=1e-10):\n",
        "\n",
        "    mel_spec = librosa.feature.melspectrogram(y=audio, sr=sample_rate, n_mels= n_mels)\n",
        "    mel_db = (librosa.power_to_db(mel_spec, ref=np.max) + 40)/40\n",
        "\n",
        "    return mel_db.T\n",
        "\n",
        "\n",
        "def load_audio_file(file_path, input_length=input_length):\n",
        "  data = librosa.core.load(file_path, sr=16000)[0] #, sr=16000\n",
        "  if len(data)>input_length:\n",
        "    max_offset = len(data)-input_length\n",
        "    \n",
        "    offset = np.random.randint(max_offset)\n",
        "    \n",
        "    data = data[offset:(input_length+offset)]\n",
        "            \n",
        "  else:\n",
        "    if input_length > len(data):\n",
        "      max_offset = input_length - len(data)\n",
        "\n",
        "      offset = np.random.randint(max_offset)\n",
        "    else:\n",
        "      offset = 0\n",
        "    data = np.pad(data, (offset, input_length - len(data) - offset), \"constant\")\n",
        "    \n",
        "  data = preprocess_audio_mel_T(data)\n",
        "  return data"
      ],
      "execution_count": null,
      "outputs": []
    },
    {
      "cell_type": "code",
      "metadata": {
        "id": "HPPg77QUDeBv"
      },
      "source": [
        "# Preprocessing the dataset\n",
        "import os\n",
        "from scipy.io import wavfile\n",
        "import librosa\n",
        "import matplotlib.pyplot as plt\n",
        "import numpy as np\n",
        "import cv2\n",
        "\n",
        "directory = \"/content/wav/\"\n",
        "\n",
        "classes = [\"W\" ,\"L\" ,\"E\" ,\"A\" , \"F\" ,\"T\" ,\"N\" ]\n",
        "\n",
        "X = list()\n",
        "y = list()\n",
        "\n",
        "for filename in os.listdir(directory):\n",
        "  filePath = os.path.join(directory, filename)\n",
        "  a = load_audio_file(file_path=filePath)\n",
        "  data = cv2.merge([a,a,a])\n",
        "  if(filename[5:6] in classes):\n",
        "    X.append(data)\n",
        "    y.append(classes.index(filename[5:6]))"
      ],
      "execution_count": null,
      "outputs": []
    },
    {
      "cell_type": "code",
      "metadata": {
        "id": "0b8sz7y_Dfzf"
      },
      "source": [
        "X = np.asarray(X, dtype=np.float32)\n",
        "y = np.asarray(y, dtype=np.float32)"
      ],
      "execution_count": null,
      "outputs": []
    },
    {
      "cell_type": "code",
      "metadata": {
        "id": "Z3SmZXSzDiXA"
      },
      "source": [
        "import pandas as pd\n",
        "import numpy as np\n",
        "import matplotlib.pyplot as plt\n",
        "import tensorflow as tf\n",
        "\n",
        "# dataset preparation\n",
        "\n",
        "from tensorflow.keras import datasets,layers,models\n",
        "from sklearn.model_selection import train_test_split\n",
        "X_train, X_test, y_train, y_test = train_test_split(X, y, test_size=0.5, train_size= 0.5 ,random_state=10)"
      ],
      "execution_count": null,
      "outputs": []
    },
    {
      "cell_type": "code",
      "metadata": {
        "id": "AZKbiKQCDi5_"
      },
      "source": [
        "X_train_resized = load_preprocess_training_batch(X_train)\n",
        "X_test_resized = load_preprocess_training_batch(X_test)\n",
        "\n",
        "X_train_resized = np.array(X_train_resized)\n",
        "X_test_resized = np.array(X_test_resized)\n",
        "\n",
        "X_train_resized = preprocess_data(X_train_resized)\n",
        "X_test_resized = preprocess_data(X_test_resized)"
      ],
      "execution_count": null,
      "outputs": []
    },
    {
      "cell_type": "code",
      "metadata": {
        "colab": {
          "base_uri": "https://localhost:8080/"
        },
        "id": "ggU4ZPycDn33",
        "outputId": "de02264f-36a1-4ebd-f527-8ad8b622751b"
      },
      "source": [
        "model = ResNet50(include_top=True, weights='imagenet')\n",
        "\n",
        "model.compile(optimizer='SGD',\n",
        "              loss='sparse_categorical_crossentropy',\n",
        "              metrics=['accuracy'])\n",
        "\n",
        "history = model.fit(X_train_resized, y_train, epochs=10)"
      ],
      "execution_count": null,
      "outputs": [
        {
          "output_type": "stream",
          "name": "stdout",
          "text": [
            "Epoch 1/10\n",
            "9/9 [==============================] - 12s 857ms/step - loss: 5.1684 - accuracy: 0.1685\n",
            "Epoch 2/10\n",
            "9/9 [==============================] - 6s 665ms/step - loss: 1.7511 - accuracy: 0.4157\n",
            "Epoch 3/10\n",
            "9/9 [==============================] - 6s 663ms/step - loss: 1.1062 - accuracy: 0.6367\n",
            "Epoch 4/10\n",
            "9/9 [==============================] - 6s 661ms/step - loss: 0.6534 - accuracy: 0.7678\n",
            "Epoch 5/10\n",
            "9/9 [==============================] - 6s 662ms/step - loss: 0.3835 - accuracy: 0.8914\n",
            "Epoch 6/10\n",
            "9/9 [==============================] - 6s 662ms/step - loss: 0.3716 - accuracy: 0.8689\n",
            "Epoch 7/10\n",
            "9/9 [==============================] - 6s 662ms/step - loss: 0.2297 - accuracy: 0.9213\n",
            "Epoch 8/10\n",
            "9/9 [==============================] - 6s 661ms/step - loss: 0.1096 - accuracy: 0.9775\n",
            "Epoch 9/10\n",
            "9/9 [==============================] - 6s 664ms/step - loss: 0.1170 - accuracy: 0.9850\n",
            "Epoch 10/10\n",
            "9/9 [==============================] - 6s 659ms/step - loss: 0.2414 - accuracy: 0.9251\n"
          ]
        }
      ]
    },
    {
      "cell_type": "code",
      "metadata": {
        "colab": {
          "base_uri": "https://localhost:8080/"
        },
        "id": "bNbKfNJ_DqKX",
        "outputId": "22876e3c-bc50-4c3e-e002-c434527a4eca"
      },
      "source": [
        "model.evaluate(X_test_resized, y_test)"
      ],
      "execution_count": null,
      "outputs": [
        {
          "output_type": "stream",
          "name": "stdout",
          "text": [
            "9/9 [==============================] - 4s 304ms/step - loss: 7.2902 - accuracy: 0.0000e+00\n"
          ]
        },
        {
          "output_type": "execute_result",
          "data": {
            "text/plain": [
              "[7.290168285369873, 0.0]"
            ]
          },
          "metadata": {},
          "execution_count": 21
        }
      ]
    }
  ]
}