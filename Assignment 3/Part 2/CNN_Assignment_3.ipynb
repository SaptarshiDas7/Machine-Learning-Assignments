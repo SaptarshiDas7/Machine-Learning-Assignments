{
  "nbformat": 4,
  "nbformat_minor": 0,
  "metadata": {
    "colab": {
      "name": "CNN_Assignment_3.ipynb",
      "provenance": [],
      "toc_visible": true
    },
    "kernelspec": {
      "name": "python3",
      "display_name": "Python 3"
    },
    "language_info": {
      "name": "python"
    }
  },
  "cells": [
    {
      "cell_type": "markdown",
      "metadata": {
        "id": "9ndQ7wZ9oIg8"
      },
      "source": [
        "# CIFAR 10 DATASET"
      ]
    },
    {
      "cell_type": "code",
      "metadata": {
        "colab": {
          "base_uri": "https://localhost:8080/"
        },
        "id": "9VgITHz7I_ow",
        "outputId": "d3ed9bb6-d19d-4425-c569-ccb37724400c"
      },
      "source": [
        "import pandas as pd\n",
        "import numpy as np\n",
        "import matplotlib.pyplot as plt\n",
        "import tensorflow as tf\n",
        "\n",
        "# dataset preparation\n",
        "\n",
        "from tensorflow.keras import datasets,layers,models\n",
        "\n",
        "(train_images,train_labels) , (test_images,test_labels) = datasets.cifar10.load_data()\n",
        "\n",
        "# Normalize pixel values to be within 0 , 1\n",
        "train_images , test_images = train_images/255.0 , test_images/255.0"
      ],
      "execution_count": null,
      "outputs": [
        {
          "output_type": "stream",
          "name": "stdout",
          "text": [
            "Downloading data from https://www.cs.toronto.edu/~kriz/cifar-10-python.tar.gz\n",
            "170500096/170498071 [==============================] - 5s 0us/step\n",
            "170508288/170498071 [==============================] - 5s 0us/step\n"
          ]
        }
      ]
    },
    {
      "cell_type": "code",
      "metadata": {
        "colab": {
          "base_uri": "https://localhost:8080/"
        },
        "id": "lFAYtO7rMc3D",
        "outputId": "c42d837e-70fe-4ee6-9aef-216f32bb1dc6"
      },
      "source": [
        "input_shape = train_images[0].shape\n",
        "\n",
        "model = models.Sequential()\n",
        "model.add(layers.Conv2D(32,(3,3),activation='relu',input_shape=input_shape))\n",
        "model.add(layers.MaxPool2D(2,2))\n",
        "model.add(layers.Conv2D(64,(3,3),activation='relu'))\n",
        "model.add(layers.MaxPool2D(2,2))\n",
        "model.add(layers.Conv2D(64,(3,3),activation='relu'))\n",
        "\n",
        "model.add(layers.Flatten())\n",
        "model.add(layers.Dense(64,activation='relu'))\n",
        "model.add(layers.Dense(10))\n",
        "\n",
        "\n",
        "model.summary()"
      ],
      "execution_count": null,
      "outputs": [
        {
          "output_type": "stream",
          "name": "stdout",
          "text": [
            "Model: \"sequential_2\"\n",
            "_________________________________________________________________\n",
            "Layer (type)                 Output Shape              Param #   \n",
            "=================================================================\n",
            "conv2d_6 (Conv2D)            (None, 30, 30, 32)        896       \n",
            "_________________________________________________________________\n",
            "max_pooling2d_4 (MaxPooling2 (None, 15, 15, 32)        0         \n",
            "_________________________________________________________________\n",
            "conv2d_7 (Conv2D)            (None, 13, 13, 64)        18496     \n",
            "_________________________________________________________________\n",
            "max_pooling2d_5 (MaxPooling2 (None, 6, 6, 64)          0         \n",
            "_________________________________________________________________\n",
            "conv2d_8 (Conv2D)            (None, 4, 4, 64)          36928     \n",
            "_________________________________________________________________\n",
            "flatten (Flatten)            (None, 1024)              0         \n",
            "_________________________________________________________________\n",
            "dense (Dense)                (None, 64)                65600     \n",
            "_________________________________________________________________\n",
            "dense_1 (Dense)              (None, 10)                650       \n",
            "=================================================================\n",
            "Total params: 122,570\n",
            "Trainable params: 122,570\n",
            "Non-trainable params: 0\n",
            "_________________________________________________________________\n"
          ]
        }
      ]
    },
    {
      "cell_type": "code",
      "metadata": {
        "colab": {
          "base_uri": "https://localhost:8080/"
        },
        "id": "RsR_LhcJOeVD",
        "outputId": "529e5dc0-0755-49de-f928-48eb51614614"
      },
      "source": [
        "model.compile(optimizer='adam',loss=tf.keras.losses.SparseCategoricalCrossentropy(from_logits=True),metrics=['accuracy'])\n",
        "\n",
        "history = model.fit(train_images,train_labels,epochs=20,validation_data=(test_images,test_labels))"
      ],
      "execution_count": null,
      "outputs": [
        {
          "output_type": "stream",
          "name": "stdout",
          "text": [
            "Epoch 1/20\n",
            "1563/1563 [==============================] - 70s 44ms/step - loss: 0.2745 - accuracy: 0.9006 - val_loss: 1.3694 - val_accuracy: 0.7010\n",
            "Epoch 2/20\n",
            "1563/1563 [==============================] - 69s 44ms/step - loss: 0.2427 - accuracy: 0.9127 - val_loss: 1.3809 - val_accuracy: 0.7018\n",
            "Epoch 3/20\n",
            "1563/1563 [==============================] - 69s 44ms/step - loss: 0.2303 - accuracy: 0.9174 - val_loss: 1.4147 - val_accuracy: 0.6924\n",
            "Epoch 4/20\n",
            "1563/1563 [==============================] - 69s 44ms/step - loss: 0.2162 - accuracy: 0.9225 - val_loss: 1.5722 - val_accuracy: 0.6976\n",
            "Epoch 5/20\n",
            "1563/1563 [==============================] - 69s 44ms/step - loss: 0.2094 - accuracy: 0.9242 - val_loss: 1.6244 - val_accuracy: 0.6903\n",
            "Epoch 6/20\n",
            "1563/1563 [==============================] - 69s 44ms/step - loss: 0.2012 - accuracy: 0.9265 - val_loss: 1.6622 - val_accuracy: 0.6973\n",
            "Epoch 7/20\n",
            "1563/1563 [==============================] - 70s 45ms/step - loss: 0.1879 - accuracy: 0.9339 - val_loss: 1.7336 - val_accuracy: 0.6903\n",
            "Epoch 8/20\n",
            "1563/1563 [==============================] - 69s 44ms/step - loss: 0.1822 - accuracy: 0.9340 - val_loss: 1.8062 - val_accuracy: 0.6902\n",
            "Epoch 9/20\n",
            "1563/1563 [==============================] - 69s 44ms/step - loss: 0.1690 - accuracy: 0.9390 - val_loss: 1.7974 - val_accuracy: 0.6880\n",
            "Epoch 10/20\n",
            "1563/1563 [==============================] - 69s 44ms/step - loss: 0.1707 - accuracy: 0.9386 - val_loss: 1.8944 - val_accuracy: 0.6849\n",
            "Epoch 11/20\n",
            "1563/1563 [==============================] - 69s 44ms/step - loss: 0.1561 - accuracy: 0.9437 - val_loss: 1.8716 - val_accuracy: 0.6910\n",
            "Epoch 12/20\n",
            "1563/1563 [==============================] - 69s 44ms/step - loss: 0.1498 - accuracy: 0.9463 - val_loss: 1.9775 - val_accuracy: 0.6986\n",
            "Epoch 13/20\n",
            "1563/1563 [==============================] - 69s 44ms/step - loss: 0.1524 - accuracy: 0.9466 - val_loss: 2.0503 - val_accuracy: 0.6936\n",
            "Epoch 14/20\n",
            "1563/1563 [==============================] - 69s 44ms/step - loss: 0.1490 - accuracy: 0.9477 - val_loss: 2.0715 - val_accuracy: 0.6861\n",
            "Epoch 15/20\n",
            "1563/1563 [==============================] - 69s 44ms/step - loss: 0.1429 - accuracy: 0.9497 - val_loss: 2.1616 - val_accuracy: 0.6852\n",
            "Epoch 16/20\n",
            "1563/1563 [==============================] - 69s 44ms/step - loss: 0.1356 - accuracy: 0.9520 - val_loss: 2.2363 - val_accuracy: 0.6877\n",
            "Epoch 17/20\n",
            "1563/1563 [==============================] - 69s 44ms/step - loss: 0.1327 - accuracy: 0.9537 - val_loss: 2.2239 - val_accuracy: 0.6806\n",
            "Epoch 18/20\n",
            "1563/1563 [==============================] - 69s 44ms/step - loss: 0.1348 - accuracy: 0.9538 - val_loss: 2.2102 - val_accuracy: 0.6943\n",
            "Epoch 19/20\n",
            "1563/1563 [==============================] - 69s 44ms/step - loss: 0.1250 - accuracy: 0.9571 - val_loss: 2.3900 - val_accuracy: 0.6802\n",
            "Epoch 20/20\n",
            "1563/1563 [==============================] - 69s 44ms/step - loss: 0.1245 - accuracy: 0.9565 - val_loss: 2.3173 - val_accuracy: 0.6842\n"
          ]
        }
      ]
    },
    {
      "cell_type": "code",
      "metadata": {
        "colab": {
          "base_uri": "https://localhost:8080/",
          "height": 283
        },
        "id": "sTlyqQWWRv6z",
        "outputId": "a6595085-1ceb-4a95-adb5-37b9dc0940bf"
      },
      "source": [
        "plt.plot(history.history['accuracy'],label='accuracy')\n",
        "plt.plot(history.history['val_accuracy'],label='val_accuracy')\n",
        "plt.xlabel('epoch')\n",
        "plt.ylabel('accuracy')\n",
        "plt.ylim([0.5,1])\n",
        "plt.legend(loc='lower right')\n",
        "\n",
        "plt.show()"
      ],
      "execution_count": null,
      "outputs": [
        {
          "output_type": "display_data",
          "data": {
            "image/png": "[encoded data removed]",
            "text/plain": [
              "<Figure size 432x288 with 1 Axes>"
            ]
          },
          "metadata": {
            "needs_background": "light"
          }
        }
      ]
    },
    {
      "cell_type": "code",
      "metadata": {
        "colab": {
          "base_uri": "https://localhost:8080/"
        },
        "id": "xVgsmjYjSk_b",
        "outputId": "2a06957e-0432-4ef1-b180-3ccbf868c2f4"
      },
      "source": [
        "test_loss , test_acc = model.evaluate(test_images,test_labels,verbose=2)"
      ],
      "execution_count": null,
      "outputs": [
        {
          "output_type": "stream",
          "name": "stdout",
          "text": [
            "313/313 - 3s - loss: 2.3173 - accuracy: 0.6842\n"
          ]
        }
      ]
    },
    {
      "cell_type": "markdown",
      "metadata": {
        "id": "YsjRbpUwoNle"
      },
      "source": [
        "# MNIST DATASET"
      ]
    },
    {
      "cell_type": "code",
      "metadata": {
        "id": "9h5KtV2Ro3A3"
      },
      "source": [
        "import pandas as pd\n",
        "import numpy as np\n",
        "import matplotlib.pyplot as plt\n",
        "import tensorflow as tf\n",
        "\n",
        "# dataset preparation\n",
        "\n",
        "from tensorflow.keras import datasets,layers,models\n",
        "\n",
        "(train_images,train_labels) , (test_images,test_labels) = datasets.mnist.load_data()\n",
        "\n",
        "# Normalize pixel values to be within 0 , 1\n",
        "train_images , test_images = train_images/255.0 , test_images/255.0"
      ],
      "execution_count": null,
      "outputs": []
    },
    {
      "cell_type": "code",
      "metadata": {
        "colab": {
          "base_uri": "https://localhost:8080/"
        },
        "id": "Ty1KhG4Isu8R",
        "outputId": "8b1dc1ba-d666-443b-fef0-0fc3b3f483c3"
      },
      "source": [
        "train_images = np.reshape(train_images, train_images.shape + (1,))\n",
        "test_images = np.reshape(test_images, test_images.shape + (1,))\n",
        "\n",
        "train_images[0].shape"
      ],
      "execution_count": null,
      "outputs": [
        {
          "output_type": "execute_result",
          "data": {
            "text/plain": [
              "(28, 28, 1)"
            ]
          },
          "metadata": {},
          "execution_count": 46
        }
      ]
    },
    {
      "cell_type": "code",
      "metadata": {
        "colab": {
          "base_uri": "https://localhost:8080/"
        },
        "id": "4O53x93grDJx",
        "outputId": "2d55ccca-3533-4d72-b22f-a1ffe59d30c0"
      },
      "source": [
        "model = models.Sequential()\n",
        "model.add(layers.Conv2D(32,(3,3),activation='relu',input_shape=(28,28,1)))\n",
        "model.add(layers.MaxPool2D(2,2))\n",
        "model.add(layers.Conv2D(64,(3,3),activation='relu'))\n",
        "model.add(layers.MaxPool2D(2,2))\n",
        "model.add(layers.Conv2D(64,(3,3),activation='relu'))\n",
        "\n",
        "model.add(layers.Flatten())\n",
        "model.add(layers.Dense(64,activation='relu'))\n",
        "model.add(layers.Dense(10))\n",
        "\n",
        "\n",
        "model.summary()"
      ],
      "execution_count": null,
      "outputs": [
        {
          "output_type": "stream",
          "name": "stdout",
          "text": [
            "Model: \"sequential_8\"\n",
            "_________________________________________________________________\n",
            "Layer (type)                 Output Shape              Param #   \n",
            "=================================================================\n",
            "conv2d_18 (Conv2D)           (None, 26, 26, 32)        320       \n",
            "_________________________________________________________________\n",
            "max_pooling2d_10 (MaxPooling (None, 13, 13, 32)        0         \n",
            "_________________________________________________________________\n",
            "conv2d_19 (Conv2D)           (None, 11, 11, 64)        18496     \n",
            "_________________________________________________________________\n",
            "max_pooling2d_11 (MaxPooling (None, 5, 5, 64)          0         \n",
            "_________________________________________________________________\n",
            "conv2d_20 (Conv2D)           (None, 3, 3, 64)          36928     \n",
            "_________________________________________________________________\n",
            "flatten_3 (Flatten)          (None, 576)               0         \n",
            "_________________________________________________________________\n",
            "dense_6 (Dense)              (None, 64)                36928     \n",
            "_________________________________________________________________\n",
            "dense_7 (Dense)              (None, 10)                650       \n",
            "=================================================================\n",
            "Total params: 93,322\n",
            "Trainable params: 93,322\n",
            "Non-trainable params: 0\n",
            "_________________________________________________________________\n"
          ]
        }
      ]
    },
    {
      "cell_type": "code",
      "metadata": {
        "colab": {
          "base_uri": "https://localhost:8080/"
        },
        "id": "dcQosqPts86I",
        "outputId": "157b411c-ce05-49c7-acc7-6b338a59854a"
      },
      "source": [
        "model.compile(optimizer='adam',loss=tf.keras.losses.SparseCategoricalCrossentropy(from_logits=True),metrics=['accuracy'])\n",
        "\n",
        "history = model.fit(train_images,train_labels,epochs=20,validation_data=(test_images,test_labels))"
      ],
      "execution_count": null,
      "outputs": [
        {
          "output_type": "stream",
          "name": "stdout",
          "text": [
            "Epoch 1/20\n",
            "1875/1875 [==============================] - 61s 32ms/step - loss: 0.1508 - accuracy: 0.9537 - val_loss: 0.0494 - val_accuracy: 0.9833\n",
            "Epoch 2/20\n",
            "1875/1875 [==============================] - 57s 31ms/step - loss: 0.0487 - accuracy: 0.9843 - val_loss: 0.0383 - val_accuracy: 0.9869\n",
            "Epoch 3/20\n",
            "1875/1875 [==============================] - 57s 31ms/step - loss: 0.0340 - accuracy: 0.9896 - val_loss: 0.0357 - val_accuracy: 0.9883\n",
            "Epoch 4/20\n",
            "1875/1875 [==============================] - 57s 31ms/step - loss: 0.0261 - accuracy: 0.9916 - val_loss: 0.0289 - val_accuracy: 0.9915\n",
            "Epoch 5/20\n",
            "1875/1875 [==============================] - 57s 31ms/step - loss: 0.0206 - accuracy: 0.9934 - val_loss: 0.0263 - val_accuracy: 0.9924\n",
            "Epoch 6/20\n",
            "1875/1875 [==============================] - 57s 30ms/step - loss: 0.0169 - accuracy: 0.9946 - val_loss: 0.0380 - val_accuracy: 0.9891\n",
            "Epoch 7/20\n",
            "1875/1875 [==============================] - 57s 30ms/step - loss: 0.0130 - accuracy: 0.9958 - val_loss: 0.0329 - val_accuracy: 0.9924\n",
            "Epoch 8/20\n",
            "1875/1875 [==============================] - 57s 30ms/step - loss: 0.0117 - accuracy: 0.9964 - val_loss: 0.0343 - val_accuracy: 0.9915\n",
            "Epoch 9/20\n",
            "1875/1875 [==============================] - 57s 30ms/step - loss: 0.0099 - accuracy: 0.9966 - val_loss: 0.0414 - val_accuracy: 0.9898\n",
            "Epoch 10/20\n",
            "1875/1875 [==============================] - 57s 30ms/step - loss: 0.0088 - accuracy: 0.9972 - val_loss: 0.0340 - val_accuracy: 0.9917\n",
            "Epoch 11/20\n",
            "1875/1875 [==============================] - 57s 30ms/step - loss: 0.0079 - accuracy: 0.9973 - val_loss: 0.0319 - val_accuracy: 0.9913\n",
            "Epoch 12/20\n",
            "1875/1875 [==============================] - 57s 31ms/step - loss: 0.0084 - accuracy: 0.9973 - val_loss: 0.0329 - val_accuracy: 0.9921\n",
            "Epoch 13/20\n",
            "1875/1875 [==============================] - 57s 31ms/step - loss: 0.0067 - accuracy: 0.9980 - val_loss: 0.0343 - val_accuracy: 0.9918\n",
            "Epoch 14/20\n",
            "1875/1875 [==============================] - 58s 31ms/step - loss: 0.0078 - accuracy: 0.9973 - val_loss: 0.0390 - val_accuracy: 0.9908\n",
            "Epoch 15/20\n",
            "1875/1875 [==============================] - 58s 31ms/step - loss: 0.0048 - accuracy: 0.9985 - val_loss: 0.0374 - val_accuracy: 0.9930\n",
            "Epoch 16/20\n",
            "1875/1875 [==============================] - 58s 31ms/step - loss: 0.0069 - accuracy: 0.9980 - val_loss: 0.0336 - val_accuracy: 0.9923\n",
            "Epoch 17/20\n",
            "1875/1875 [==============================] - 57s 31ms/step - loss: 0.0049 - accuracy: 0.9985 - val_loss: 0.0430 - val_accuracy: 0.9916\n",
            "Epoch 18/20\n",
            "1875/1875 [==============================] - 57s 31ms/step - loss: 0.0053 - accuracy: 0.9982 - val_loss: 0.0397 - val_accuracy: 0.9915\n",
            "Epoch 19/20\n",
            "1875/1875 [==============================] - 58s 31ms/step - loss: 0.0048 - accuracy: 0.9986 - val_loss: 0.0540 - val_accuracy: 0.9903\n",
            "Epoch 20/20\n",
            "1875/1875 [==============================] - 58s 31ms/step - loss: 0.0043 - accuracy: 0.9987 - val_loss: 0.0419 - val_accuracy: 0.9919\n"
          ]
        }
      ]
    },
    {
      "cell_type": "code",
      "metadata": {
        "colab": {
          "base_uri": "https://localhost:8080/",
          "height": 283
        },
        "id": "JQChvJWGvhMJ",
        "outputId": "a44c01d8-b624-4cca-a6ae-96a9364a84db"
      },
      "source": [
        "plt.plot(history.history['accuracy'],label='accuracy')\n",
        "plt.plot(history.history['val_accuracy'],label='val_accuracy')\n",
        "plt.xlabel('epoch')\n",
        "plt.ylabel('accuracy')\n",
        "plt.ylim([0.5,1])\n",
        "plt.legend(loc='lower right')\n",
        "\n",
        "plt.show()"
      ],
      "execution_count": null,
      "outputs": [
        {
          "output_type": "display_data",
          "data": {
            "image/png": "[encoded data removed]",
            "text/plain": [
              "<Figure size 432x288 with 1 Axes>"
            ]
          },
          "metadata": {
            "needs_background": "light"
          }
        }
      ]
    },
    {
      "cell_type": "code",
      "metadata": {
        "colab": {
          "base_uri": "https://localhost:8080/"
        },
        "id": "9UI2l9ekvl2Z",
        "outputId": "80c6667c-841a-4199-afeb-4dfef9ae35ba"
      },
      "source": [
        "test_loss , test_acc = model.evaluate(test_images,test_labels,verbose=2)"
      ],
      "execution_count": null,
      "outputs": [
        {
          "output_type": "stream",
          "name": "stdout",
          "text": [
            "313/313 - 3s - loss: 0.0419 - accuracy: 0.9919\n"
          ]
        }
      ]
    },
    {
      "cell_type": "markdown",
      "metadata": {
        "id": "IjydE7YhvqzQ"
      },
      "source": [
        "# SAVEE DATASET"
      ]
    },
    {
      "cell_type": "code",
      "metadata": {
        "id": "TG1Yp8ctv-IB"
      },
      "source": [
        "!unzip \"/content/drive/MyDrive/SaveeDataset.zip\""
      ],
      "execution_count": null,
      "outputs": []
    },
    {
      "cell_type": "code",
      "metadata": {
        "id": "5RFZN-bMTD0r"
      },
      "source": [
        "import librosa\n",
        "import numpy as np\n",
        "\n",
        "input_length = 16000*5\n",
        "\n",
        "batch_size = 32\n",
        "\n",
        "n_mels = 320\n",
        "\n",
        "def preprocess_audio_mel_T(audio, sample_rate=16000, window_size=20, #log_specgram\n",
        "                 step_size=10, eps=1e-10):\n",
        "\n",
        "    mel_spec = librosa.feature.melspectrogram(y=audio, sr=sample_rate, n_mels= n_mels)\n",
        "    mel_db = (librosa.power_to_db(mel_spec, ref=np.max) + 40)/40\n",
        "\n",
        "    return mel_db.T\n",
        "\n",
        "\n",
        "def load_audio_file(file_path, input_length=input_length):\n",
        "  data = librosa.core.load(file_path, sr=16000)[0] #, sr=16000\n",
        "  if len(data)>input_length:\n",
        "    max_offset = len(data)-input_length\n",
        "    \n",
        "    offset = np.random.randint(max_offset)\n",
        "    \n",
        "    data = data[offset:(input_length+offset)]\n",
        "            \n",
        "  else:\n",
        "    if input_length > len(data):\n",
        "      max_offset = input_length - len(data)\n",
        "\n",
        "      offset = np.random.randint(max_offset)\n",
        "    else:\n",
        "      offset = 0\n",
        "    data = np.pad(data, (offset, input_length - len(data) - offset), \"constant\")\n",
        "    \n",
        "  data = preprocess_audio_mel_T(data)\n",
        "  return data"
      ],
      "execution_count": null,
      "outputs": []
    },
    {
      "cell_type": "code",
      "metadata": {
        "id": "I3HqB5J-kNB-"
      },
      "source": [
        "# Preprocessing the dataset\n",
        "import os\n",
        "from scipy.io import wavfile\n",
        "import librosa\n",
        "import matplotlib.pyplot as plt\n",
        "import numpy as np\n",
        "\n",
        "rootDirectory = \"/content/AudioData/\"\n",
        "personNames = [\"DC\",\"JE\",\"JK\",\"KL\"]\n",
        "\n",
        "classes = [\"a\" , \"d\" , \"f\", \"h\", \"n\", \"sa\" , \"su\" ]\n",
        "\n",
        "X = list()\n",
        "y = list()\n",
        "\n",
        "for person in personNames:\n",
        "  directory = os.path.join(rootDirectory,person)\n",
        "  for filename in os.listdir(directory):\n",
        "    filePath = os.path.join(directory, filename)\n",
        "    data = load_audio_file(file_path=filePath)\n",
        "    data = np.reshape(data, data.shape + (1,))\n",
        "    if(filename[0:1] in classes):\n",
        "      X.append(data)\n",
        "      y.append(classes.index(filename[0:1]))\n",
        "    elif(filename[0:2] in classes):\n",
        "      X.append(data)\n",
        "      y.append(classes.index(filename[0:2]))"
      ],
      "execution_count": null,
      "outputs": []
    },
    {
      "cell_type": "code",
      "metadata": {
        "id": "DXcyq7wRSWsk"
      },
      "source": [
        "X = np.asarray(X, dtype=np.float32)\n",
        "y = np.asarray(y, dtype=np.float32)"
      ],
      "execution_count": null,
      "outputs": []
    },
    {
      "cell_type": "code",
      "metadata": {
        "id": "NT2_8BtWv3NR"
      },
      "source": [
        "import pandas as pd\n",
        "import numpy as np\n",
        "import matplotlib.pyplot as plt\n",
        "import tensorflow as tf\n",
        "\n",
        "# dataset preparation\n",
        "\n",
        "from tensorflow.keras import datasets,layers,models\n",
        "from sklearn.model_selection import train_test_split\n",
        "X_train, X_test, y_train, y_test = train_test_split(X, y, test_size=0.3, train_size= 0.7 ,random_state=10)"
      ],
      "execution_count": null,
      "outputs": []
    },
    {
      "cell_type": "code",
      "metadata": {
        "colab": {
          "base_uri": "https://localhost:8080/"
        },
        "id": "pw6PG7kEZq2q",
        "outputId": "2ba1f3de-7d8e-4702-fb77-f3099f252952"
      },
      "source": [
        "model = models.Sequential()\n",
        "model.add(layers.Conv2D(32,(3,3),activation='relu',input_shape=(157,320,1)))\n",
        "model.add(layers.MaxPool2D(2,2))\n",
        "model.add(layers.Conv2D(64,(3,3),activation='relu'))\n",
        "model.add(layers.MaxPool2D(2,2))\n",
        "model.add(layers.Conv2D(64,(3,3),activation='relu'))\n",
        "\n",
        "model.add(layers.Flatten())\n",
        "model.add(layers.Dense(64,activation='relu'))\n",
        "model.add(layers.Dense(10))\n",
        "\n",
        "\n",
        "model.summary()"
      ],
      "execution_count": null,
      "outputs": [
        {
          "output_type": "stream",
          "name": "stdout",
          "text": [
            "Model: \"sequential_3\"\n",
            "_________________________________________________________________\n",
            "Layer (type)                 Output Shape              Param #   \n",
            "=================================================================\n",
            "conv2d_9 (Conv2D)            (None, 155, 318, 32)      320       \n",
            "_________________________________________________________________\n",
            "max_pooling2d_6 (MaxPooling2 (None, 77, 159, 32)       0         \n",
            "_________________________________________________________________\n",
            "conv2d_10 (Conv2D)           (None, 75, 157, 64)       18496     \n",
            "_________________________________________________________________\n",
            "max_pooling2d_7 (MaxPooling2 (None, 37, 78, 64)        0         \n",
            "_________________________________________________________________\n",
            "conv2d_11 (Conv2D)           (None, 35, 76, 64)        36928     \n",
            "_________________________________________________________________\n",
            "flatten_3 (Flatten)          (None, 170240)            0         \n",
            "_________________________________________________________________\n",
            "dense_6 (Dense)              (None, 64)                10895424  \n",
            "_________________________________________________________________\n",
            "dense_7 (Dense)              (None, 10)                650       \n",
            "=================================================================\n",
            "Total params: 10,951,818\n",
            "Trainable params: 10,951,818\n",
            "Non-trainable params: 0\n",
            "_________________________________________________________________\n"
          ]
        }
      ]
    },
    {
      "cell_type": "code",
      "metadata": {
        "colab": {
          "base_uri": "https://localhost:8080/"
        },
        "id": "8mAUhVSiZxnb",
        "outputId": "71298d55-d9bf-424e-feda-4fa29507aa24"
      },
      "source": [
        "model.compile(optimizer='adam',loss=tf.keras.losses.SparseCategoricalCrossentropy(from_logits=True),metrics=['accuracy'])\n",
        "\n",
        "history = model.fit(X_train,y_train,epochs=30,validation_data=(X_test,y_test))"
      ],
      "execution_count": null,
      "outputs": [
        {
          "output_type": "stream",
          "name": "stdout",
          "text": [
            "Epoch 1/30\n",
            "11/11 [==============================] - 27s 2s/step - loss: 2.2280 - accuracy: 0.2292 - val_loss: 2.0372 - val_accuracy: 0.2014\n",
            "Epoch 2/30\n",
            "11/11 [==============================] - 27s 2s/step - loss: 1.8426 - accuracy: 0.3065 - val_loss: 1.9880 - val_accuracy: 0.1806\n",
            "Epoch 3/30\n",
            "11/11 [==============================] - 28s 3s/step - loss: 1.4952 - accuracy: 0.4405 - val_loss: 2.0152 - val_accuracy: 0.2639\n",
            "Epoch 4/30\n",
            "11/11 [==============================] - 27s 2s/step - loss: 1.0324 - accuracy: 0.6250 - val_loss: 2.2066 - val_accuracy: 0.2917\n",
            "Epoch 5/30\n",
            "11/11 [==============================] - 27s 2s/step - loss: 0.7728 - accuracy: 0.7232 - val_loss: 2.1330 - val_accuracy: 0.2917\n",
            "Epoch 6/30\n",
            "11/11 [==============================] - 27s 2s/step - loss: 0.3062 - accuracy: 0.9137 - val_loss: 2.9733 - val_accuracy: 0.3403\n",
            "Epoch 7/30\n",
            "11/11 [==============================] - 28s 3s/step - loss: 0.0756 - accuracy: 0.9792 - val_loss: 3.9447 - val_accuracy: 0.3056\n",
            "Epoch 8/30\n",
            "11/11 [==============================] - 27s 2s/step - loss: 0.0934 - accuracy: 0.9732 - val_loss: 4.2430 - val_accuracy: 0.3056\n",
            "Epoch 9/30\n",
            "11/11 [==============================] - 27s 3s/step - loss: 0.0404 - accuracy: 0.9911 - val_loss: 4.5465 - val_accuracy: 0.2986\n",
            "Epoch 10/30\n",
            "11/11 [==============================] - 27s 2s/step - loss: 0.0185 - accuracy: 0.9940 - val_loss: 5.1782 - val_accuracy: 0.2847\n",
            "Epoch 11/30\n",
            "11/11 [==============================] - 27s 2s/step - loss: 0.0056 - accuracy: 1.0000 - val_loss: 5.4073 - val_accuracy: 0.2986\n",
            "Epoch 12/30\n",
            "11/11 [==============================] - 27s 2s/step - loss: 0.0016 - accuracy: 1.0000 - val_loss: 5.6686 - val_accuracy: 0.3194\n",
            "Epoch 13/30\n",
            "11/11 [==============================] - 27s 2s/step - loss: 7.3751e-04 - accuracy: 1.0000 - val_loss: 5.9985 - val_accuracy: 0.3194\n",
            "Epoch 14/30\n",
            "11/11 [==============================] - 27s 2s/step - loss: 3.9167e-04 - accuracy: 1.0000 - val_loss: 6.1370 - val_accuracy: 0.2986\n",
            "Epoch 15/30\n",
            "11/11 [==============================] - 27s 2s/step - loss: 2.2983e-04 - accuracy: 1.0000 - val_loss: 6.3381 - val_accuracy: 0.3125\n",
            "Epoch 16/30\n",
            "11/11 [==============================] - 27s 2s/step - loss: 1.4817e-04 - accuracy: 1.0000 - val_loss: 6.4548 - val_accuracy: 0.2986\n",
            "Epoch 17/30\n",
            "11/11 [==============================] - 27s 2s/step - loss: 9.9702e-05 - accuracy: 1.0000 - val_loss: 6.5436 - val_accuracy: 0.2986\n",
            "Epoch 18/30\n",
            "11/11 [==============================] - 27s 2s/step - loss: 7.5942e-05 - accuracy: 1.0000 - val_loss: 6.6651 - val_accuracy: 0.3125\n",
            "Epoch 19/30\n",
            "11/11 [==============================] - 27s 2s/step - loss: 5.5134e-05 - accuracy: 1.0000 - val_loss: 6.7051 - val_accuracy: 0.3056\n",
            "Epoch 20/30\n",
            "11/11 [==============================] - 27s 2s/step - loss: 4.4343e-05 - accuracy: 1.0000 - val_loss: 6.7970 - val_accuracy: 0.3056\n",
            "Epoch 21/30\n",
            "11/11 [==============================] - 27s 2s/step - loss: 3.5339e-05 - accuracy: 1.0000 - val_loss: 6.8344 - val_accuracy: 0.3125\n",
            "Epoch 22/30\n",
            "11/11 [==============================] - 27s 2s/step - loss: 2.9881e-05 - accuracy: 1.0000 - val_loss: 6.9048 - val_accuracy: 0.3125\n",
            "Epoch 23/30\n",
            "11/11 [==============================] - 27s 2s/step - loss: 2.5174e-05 - accuracy: 1.0000 - val_loss: 6.9693 - val_accuracy: 0.3056\n",
            "Epoch 24/30\n",
            "11/11 [==============================] - 27s 2s/step - loss: 2.2025e-05 - accuracy: 1.0000 - val_loss: 7.0087 - val_accuracy: 0.3056\n",
            "Epoch 25/30\n",
            "11/11 [==============================] - 27s 2s/step - loss: 1.9328e-05 - accuracy: 1.0000 - val_loss: 7.0391 - val_accuracy: 0.2986\n",
            "Epoch 26/30\n",
            "11/11 [==============================] - 27s 2s/step - loss: 1.7196e-05 - accuracy: 1.0000 - val_loss: 7.0967 - val_accuracy: 0.2986\n",
            "Epoch 27/30\n",
            "11/11 [==============================] - 27s 2s/step - loss: 1.5431e-05 - accuracy: 1.0000 - val_loss: 7.1239 - val_accuracy: 0.3056\n",
            "Epoch 28/30\n",
            "11/11 [==============================] - 27s 2s/step - loss: 1.3852e-05 - accuracy: 1.0000 - val_loss: 7.1493 - val_accuracy: 0.2986\n",
            "Epoch 29/30\n",
            "11/11 [==============================] - 27s 2s/step - loss: 1.2641e-05 - accuracy: 1.0000 - val_loss: 7.2041 - val_accuracy: 0.2986\n",
            "Epoch 30/30\n",
            "11/11 [==============================] - 27s 2s/step - loss: 1.1668e-05 - accuracy: 1.0000 - val_loss: 7.2112 - val_accuracy: 0.2986\n"
          ]
        }
      ]
    },
    {
      "cell_type": "code",
      "metadata": {
        "colab": {
          "base_uri": "https://localhost:8080/",
          "height": 283
        },
        "id": "ozYM21LZeFdi",
        "outputId": "34a3b99a-e803-4703-f5fe-71529dee9626"
      },
      "source": [
        "plt.plot(history.history['accuracy'],label='accuracy')\n",
        "plt.plot(history.history['val_accuracy'],label='val_accuracy')\n",
        "plt.xlabel('epoch')\n",
        "plt.ylabel('accuracy')\n",
        "plt.ylim([0.5,1])\n",
        "plt.legend(loc='lower right')\n",
        "\n",
        "plt.show()"
      ],
      "execution_count": null,
      "outputs": [
        {
          "output_type": "display_data",
          "data": {
            "image/png": "[encoded data removed]",
            "text/plain": [
              "<Figure size 432x288 with 1 Axes>"
            ]
          },
          "metadata": {
            "needs_background": "light"
          }
        }
      ]
    },
    {
      "cell_type": "code",
      "metadata": {
        "colab": {
          "base_uri": "https://localhost:8080/"
        },
        "id": "uq-NiJlreIBB",
        "outputId": "19b9eed8-dd9f-46d0-c8c0-83361c22ec15"
      },
      "source": [
        "test_loss , test_acc = model.evaluate(X_test,y_test,verbose=2)"
      ],
      "execution_count": null,
      "outputs": [
        {
          "output_type": "stream",
          "name": "stdout",
          "text": [
            "5/5 - 3s - loss: 7.2112 - accuracy: 0.2986\n"
          ]
        }
      ]
    },
    {
      "cell_type": "markdown",
      "metadata": {
        "id": "KZTXeW4xf8Vb"
      },
      "source": [
        "# EmoDB DATASET"
      ]
    },
    {
      "cell_type": "code",
      "metadata": {
        "id": "QdseivqxgAeq"
      },
      "source": [
        "!unzip \"/content/drive/MyDrive/EmoDB.zip\""
      ],
      "execution_count": null,
      "outputs": []
    },
    {
      "cell_type": "code",
      "metadata": {
        "id": "4z-HciHJi0Pq"
      },
      "source": [
        "import librosa\n",
        "import numpy as np\n",
        "\n",
        "input_length = 16000*5\n",
        "\n",
        "batch_size = 32\n",
        "\n",
        "n_mels = 320\n",
        "\n",
        "def preprocess_audio_mel_T(audio, sample_rate=16000, window_size=20, #log_specgram\n",
        "                 step_size=10, eps=1e-10):\n",
        "\n",
        "    mel_spec = librosa.feature.melspectrogram(y=audio, sr=sample_rate, n_mels= n_mels)\n",
        "    mel_db = (librosa.power_to_db(mel_spec, ref=np.max) + 40)/40\n",
        "\n",
        "    return mel_db.T\n",
        "\n",
        "\n",
        "def load_audio_file(file_path, input_length=input_length):\n",
        "  data = librosa.core.load(file_path, sr=16000)[0] #, sr=16000\n",
        "  if len(data)>input_length:\n",
        "    max_offset = len(data)-input_length\n",
        "    \n",
        "    offset = np.random.randint(max_offset)\n",
        "    \n",
        "    data = data[offset:(input_length+offset)]\n",
        "            \n",
        "  else:\n",
        "    if input_length > len(data):\n",
        "      max_offset = input_length - len(data)\n",
        "\n",
        "      offset = np.random.randint(max_offset)\n",
        "    else:\n",
        "      offset = 0\n",
        "    data = np.pad(data, (offset, input_length - len(data) - offset), \"constant\")\n",
        "    \n",
        "  data = preprocess_audio_mel_T(data)\n",
        "  return data"
      ],
      "execution_count": null,
      "outputs": []
    },
    {
      "cell_type": "code",
      "metadata": {
        "id": "RS0qp3Pli5XT"
      },
      "source": [
        "# Preprocessing the dataset\n",
        "import os\n",
        "from scipy.io import wavfile\n",
        "import librosa\n",
        "import matplotlib.pyplot as plt\n",
        "import numpy as np\n",
        "\n",
        "directory = \"/content/wav/\"\n",
        "\n",
        "classes = [\"W\" ,\"L\" ,\"E\" ,\"A\" , \"F\" ,\"T\" ,\"N\" ]\n",
        "\n",
        "X = list()\n",
        "y = list()\n",
        "\n",
        "for filename in os.listdir(directory):\n",
        "  filePath = os.path.join(directory, filename)\n",
        "  data = load_audio_file(file_path=filePath)\n",
        "  data = np.reshape(data, data.shape + (1,))\n",
        "  if(filename[5:6] in classes):\n",
        "    X.append(data)\n",
        "    y.append(classes.index(filename[5:6]))"
      ],
      "execution_count": null,
      "outputs": []
    },
    {
      "cell_type": "code",
      "metadata": {
        "id": "I8ExKcXhkE-B"
      },
      "source": [
        "X = np.asarray(X, dtype=np.float32)\n",
        "y = np.asarray(y, dtype=np.float32)"
      ],
      "execution_count": null,
      "outputs": []
    },
    {
      "cell_type": "code",
      "metadata": {
        "id": "bDvCSDc0kMhS"
      },
      "source": [
        "import pandas as pd\n",
        "import numpy as np\n",
        "import matplotlib.pyplot as plt\n",
        "import tensorflow as tf\n",
        "\n",
        "# dataset preparation\n",
        "\n",
        "from tensorflow.keras import datasets,layers,models\n",
        "from sklearn.model_selection import train_test_split\n",
        "X_train, X_test, y_train, y_test = train_test_split(X, y, test_size=0.3, train_size= 0.7 ,random_state=10)"
      ],
      "execution_count": null,
      "outputs": []
    },
    {
      "cell_type": "code",
      "metadata": {
        "colab": {
          "base_uri": "https://localhost:8080/"
        },
        "id": "lPu4UPNIkRK5",
        "outputId": "8b4f29f9-eb1a-47ec-f0f5-ba5adee0ab9a"
      },
      "source": [
        "model = models.Sequential()\n",
        "model.add(layers.Conv2D(32,(3,3),activation='relu',input_shape=(157,320,1)))\n",
        "model.add(layers.MaxPool2D(2,2))\n",
        "model.add(layers.Conv2D(64,(3,3),activation='relu'))\n",
        "model.add(layers.MaxPool2D(2,2))\n",
        "model.add(layers.Conv2D(64,(3,3),activation='relu'))\n",
        "\n",
        "model.add(layers.Flatten())\n",
        "model.add(layers.Dense(64,activation='relu'))\n",
        "model.add(layers.Dense(10))\n",
        "\n",
        "\n",
        "model.summary()"
      ],
      "execution_count": null,
      "outputs": [
        {
          "output_type": "stream",
          "name": "stdout",
          "text": [
            "Model: \"sequential_4\"\n",
            "_________________________________________________________________\n",
            "Layer (type)                 Output Shape              Param #   \n",
            "=================================================================\n",
            "conv2d_12 (Conv2D)           (None, 155, 318, 32)      320       \n",
            "_________________________________________________________________\n",
            "max_pooling2d_8 (MaxPooling2 (None, 77, 159, 32)       0         \n",
            "_________________________________________________________________\n",
            "conv2d_13 (Conv2D)           (None, 75, 157, 64)       18496     \n",
            "_________________________________________________________________\n",
            "max_pooling2d_9 (MaxPooling2 (None, 37, 78, 64)        0         \n",
            "_________________________________________________________________\n",
            "conv2d_14 (Conv2D)           (None, 35, 76, 64)        36928     \n",
            "_________________________________________________________________\n",
            "flatten_4 (Flatten)          (None, 170240)            0         \n",
            "_________________________________________________________________\n",
            "dense_8 (Dense)              (None, 64)                10895424  \n",
            "_________________________________________________________________\n",
            "dense_9 (Dense)              (None, 10)                650       \n",
            "=================================================================\n",
            "Total params: 10,951,818\n",
            "Trainable params: 10,951,818\n",
            "Non-trainable params: 0\n",
            "_________________________________________________________________\n"
          ]
        }
      ]
    },
    {
      "cell_type": "code",
      "metadata": {
        "colab": {
          "base_uri": "https://localhost:8080/"
        },
        "id": "3eeKO6Xokfzy",
        "outputId": "30446ef1-bd7a-4f90-dda1-de0fdf693109"
      },
      "source": [
        "model.compile(optimizer='adam',loss=tf.keras.losses.SparseCategoricalCrossentropy(from_logits=True),metrics=['accuracy'])\n",
        "\n",
        "history = model.fit(X_train,y_train,epochs=20,validation_data=(X_test,y_test))"
      ],
      "execution_count": null,
      "outputs": [
        {
          "output_type": "stream",
          "name": "stdout",
          "text": [
            "Epoch 1/20\n",
            "12/12 [==============================] - 31s 3s/step - loss: 2.8697 - accuracy: 0.1925 - val_loss: 1.8472 - val_accuracy: 0.2671\n",
            "Epoch 2/20\n",
            "12/12 [==============================] - 30s 3s/step - loss: 1.5236 - accuracy: 0.4171 - val_loss: 1.4638 - val_accuracy: 0.4099\n",
            "Epoch 3/20\n",
            "12/12 [==============================] - 30s 3s/step - loss: 1.1452 - accuracy: 0.5749 - val_loss: 1.4165 - val_accuracy: 0.4348\n",
            "Epoch 4/20\n",
            "12/12 [==============================] - 29s 2s/step - loss: 0.8066 - accuracy: 0.6872 - val_loss: 1.4341 - val_accuracy: 0.4783\n",
            "Epoch 5/20\n",
            "12/12 [==============================] - 30s 3s/step - loss: 0.6022 - accuracy: 0.7674 - val_loss: 1.6373 - val_accuracy: 0.4410\n",
            "Epoch 6/20\n",
            "12/12 [==============================] - 30s 2s/step - loss: 0.3856 - accuracy: 0.8449 - val_loss: 1.8029 - val_accuracy: 0.5155\n",
            "Epoch 7/20\n",
            "12/12 [==============================] - 30s 3s/step - loss: 0.2206 - accuracy: 0.9091 - val_loss: 2.2736 - val_accuracy: 0.4783\n",
            "Epoch 8/20\n",
            "12/12 [==============================] - 30s 3s/step - loss: 0.1474 - accuracy: 0.9572 - val_loss: 2.9066 - val_accuracy: 0.4845\n",
            "Epoch 9/20\n",
            "12/12 [==============================] - 30s 3s/step - loss: 0.0876 - accuracy: 0.9679 - val_loss: 2.6968 - val_accuracy: 0.5031\n",
            "Epoch 10/20\n",
            "12/12 [==============================] - 30s 3s/step - loss: 0.0295 - accuracy: 0.9947 - val_loss: 2.8821 - val_accuracy: 0.5031\n",
            "Epoch 11/20\n",
            "12/12 [==============================] - 30s 2s/step - loss: 0.0132 - accuracy: 0.9973 - val_loss: 3.4734 - val_accuracy: 0.5217\n",
            "Epoch 12/20\n",
            "12/12 [==============================] - 30s 3s/step - loss: 0.0064 - accuracy: 1.0000 - val_loss: 3.6145 - val_accuracy: 0.5280\n",
            "Epoch 13/20\n",
            "12/12 [==============================] - 30s 3s/step - loss: 0.0026 - accuracy: 1.0000 - val_loss: 3.7270 - val_accuracy: 0.5342\n",
            "Epoch 14/20\n",
            "12/12 [==============================] - 30s 2s/step - loss: 0.0012 - accuracy: 1.0000 - val_loss: 3.9037 - val_accuracy: 0.5155\n",
            "Epoch 15/20\n",
            "12/12 [==============================] - 30s 2s/step - loss: 7.0827e-04 - accuracy: 1.0000 - val_loss: 4.0446 - val_accuracy: 0.4969\n",
            "Epoch 16/20\n",
            "12/12 [==============================] - 30s 2s/step - loss: 4.9740e-04 - accuracy: 1.0000 - val_loss: 4.1150 - val_accuracy: 0.5093\n",
            "Epoch 17/20\n",
            "12/12 [==============================] - 30s 3s/step - loss: 3.8747e-04 - accuracy: 1.0000 - val_loss: 4.1542 - val_accuracy: 0.5031\n",
            "Epoch 18/20\n",
            "12/12 [==============================] - 30s 2s/step - loss: 3.0542e-04 - accuracy: 1.0000 - val_loss: 4.2023 - val_accuracy: 0.5031\n",
            "Epoch 19/20\n",
            "12/12 [==============================] - 31s 3s/step - loss: 2.5256e-04 - accuracy: 1.0000 - val_loss: 4.2239 - val_accuracy: 0.5031\n",
            "Epoch 20/20\n",
            "12/12 [==============================] - 30s 2s/step - loss: 2.1154e-04 - accuracy: 1.0000 - val_loss: 4.2753 - val_accuracy: 0.5093\n"
          ]
        }
      ]
    },
    {
      "cell_type": "code",
      "metadata": {
        "colab": {
          "base_uri": "https://localhost:8080/",
          "height": 283
        },
        "id": "p3UFl2BEkzCq",
        "outputId": "aa4c8eee-394d-449a-e010-25a7c9f17ad4"
      },
      "source": [
        "plt.plot(history.history['accuracy'],label='accuracy')\n",
        "plt.plot(history.history['val_accuracy'],label='val_accuracy')\n",
        "plt.xlabel('epoch')\n",
        "plt.ylabel('accuracy')\n",
        "plt.ylim([0,1])\n",
        "plt.legend(loc='lower right')\n",
        "\n",
        "plt.show()"
      ],
      "execution_count": null,
      "outputs": [
        {
          "output_type": "display_data",
          "data": {
            "image/png": "[encoded data removed]",
            "text/plain": [
              "<Figure size 432x288 with 1 Axes>"
            ]
          },
          "metadata": {
            "needs_background": "light"
          }
        }
      ]
    },
    {
      "cell_type": "code",
      "metadata": {
        "colab": {
          "base_uri": "https://localhost:8080/"
        },
        "id": "gfh4la8gk2Vq",
        "outputId": "e37e5e20-2be3-4d17-de85-1a3fdffefb1d"
      },
      "source": [
        "test_loss , test_acc = model.evaluate(X_test,y_test,verbose=2)"
      ],
      "execution_count": null,
      "outputs": [
        {
          "output_type": "stream",
          "name": "stdout",
          "text": [
            "6/6 - 3s - loss: 4.2753 - accuracy: 0.5093\n"
          ]
        }
      ]
    }
  ]
}