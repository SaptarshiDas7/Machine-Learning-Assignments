{
  "cells": [
    {
      "cell_type": "markdown",
      "metadata": {},
      "source": [
        "# ML ASSIGNMENT 4 by Rajarshi Kesh\n",
        "### I have used this notebook just for testing the code. The scripts have been uploaded separately"
      ]
    },
    {
      "cell_type": "code",
      "execution_count": 2,
      "metadata": {
        "id": "rsDUI_7jkcbR"
      },
      "outputs": [],
      "source": [
        "import numpy as np\n",
        "import pandas as pd\n",
        "import matplotlib.pyplot as plt\n",
        "\n",
        "from sklearn.datasets import load_iris, load_wine\n",
        "from sklearn.model_selection import train_test_split\n",
        "from sklearn.metrics import adjusted_rand_score, mutual_info_score, adjusted_mutual_info_score, normalized_mutual_info_score, homogeneity_score, completeness_score, v_measure_score, silhouette_score, calinski_harabasz_score, davies_bouldin_score"
      ]
    },
    {
      "cell_type": "markdown",
      "metadata": {
        "id": "FxtcZJ6JnLpW"
      },
      "source": [
        "## IRIS DATASET"
      ]
    },
    {
      "cell_type": "code",
      "execution_count": 72,
      "metadata": {
        "id": "R3Pq-oQNkudc"
      },
      "outputs": [],
      "source": [
        "# IRIS DATASET\n",
        "iris = load_iris()\n",
        "X = iris.data\n",
        "y = iris.target"
      ]
    },
    {
      "cell_type": "code",
      "execution_count": 73,
      "metadata": {
        "id": "PlPlpaxYGmIW"
      },
      "outputs": [],
      "source": [
        "def scale_data(X):\n",
        "  from sklearn.preprocessing import StandardScaler\n",
        "  sc = StandardScaler()\n",
        "  X = sc.fit_transform(X)\n",
        "  return X"
      ]
    },
    {
      "cell_type": "code",
      "execution_count": 74,
      "metadata": {
        "id": "nTFZsXbhG1Wc"
      },
      "outputs": [],
      "source": [
        "X = scale_data(X)"
      ]
    },
    {
      "cell_type": "code",
      "execution_count": null,
      "metadata": {
        "colab": {
          "base_uri": "https://localhost:8080/"
        },
        "id": "3hGaMYqLHHnA",
        "outputId": "b6067304-f76e-46ea-b5f3-e525ae5137a7"
      },
      "outputs": [
        {
          "data": {
            "text/plain": [
              "array([[-0.90068117,  1.01900435, -1.34022653, -1.3154443 ],\n",
              "       [-1.14301691, -0.13197948, -1.34022653, -1.3154443 ],\n",
              "       [-1.38535265,  0.32841405, -1.39706395, -1.3154443 ],\n",
              "       [-1.50652052,  0.09821729, -1.2833891 , -1.3154443 ],\n",
              "       [-1.02184904,  1.24920112, -1.34022653, -1.3154443 ]])"
            ]
          },
          "execution_count": 6,
          "metadata": {},
          "output_type": "execute_result"
        }
      ],
      "source": [
        "X[:5]"
      ]
    },
    {
      "cell_type": "code",
      "execution_count": 11,
      "metadata": {
        "colab": {
          "base_uri": "https://localhost:8080/",
          "height": 0
        },
        "id": "jWDbHeN0lGVu",
        "outputId": "a0acf56d-b12d-4d26-9d97-1f262212bdd8"
      },
      "outputs": [
        {
          "data": {
            "image/png": "[encoded data removed]",
            "text/plain": [
              "<Figure size 432x288 with 1 Axes>"
            ]
          },
          "metadata": {
            "needs_background": "light"
          },
          "output_type": "display_data"
        }
      ],
      "source": [
        "plt.scatter(X[:,0], X[:,1], label='True Position')\n",
        "plt.show()"
      ]
    },
    {
      "cell_type": "markdown",
      "metadata": {
        "id": "L9BKJQqE3xei"
      },
      "source": [
        "### Partition Based"
      ]
    },
    {
      "cell_type": "markdown",
      "metadata": {
        "id": "9ovAdKxq33ET"
      },
      "source": [
        "K-Means"
      ]
    },
    {
      "cell_type": "code",
      "execution_count": null,
      "metadata": {
        "id": "vaAmOlDUk9u2"
      },
      "outputs": [],
      "source": [
        "from sklearn.cluster import KMeans"
      ]
    },
    {
      "cell_type": "code",
      "execution_count": null,
      "metadata": {
        "id": "J2dXi_SRwLsq"
      },
      "outputs": [],
      "source": [
        "n_clusters = 3"
      ]
    },
    {
      "cell_type": "code",
      "execution_count": null,
      "metadata": {
        "colab": {
          "base_uri": "https://localhost:8080/"
        },
        "id": "C5ei4Rg-pKZa",
        "outputId": "bb81a866-9470-4d48-e36f-9a6c713b26d1"
      },
      "outputs": [
        {
          "data": {
            "text/plain": [
              "KMeans(algorithm='auto', copy_x=True, init='k-means++', max_iter=300,\n",
              "       n_clusters=3, n_init=10, n_jobs=None, precompute_distances='auto',\n",
              "       random_state=None, tol=0.0001, verbose=0)"
            ]
          },
          "execution_count": 93,
          "metadata": {},
          "output_type": "execute_result"
        }
      ],
      "source": [
        "kmeans = KMeans(n_clusters=n_clusters)\n",
        "kmeans.fit(X)"
      ]
    },
    {
      "cell_type": "code",
      "execution_count": null,
      "metadata": {
        "colab": {
          "base_uri": "https://localhost:8080/"
        },
        "id": "skgR6t-spUkv",
        "outputId": "f49e8103-4d3a-42e1-ba14-16d250cea8c7"
      },
      "outputs": [
        {
          "name": "stdout",
          "output_type": "stream",
          "text": [
            "KMeans Cluster Center:\n",
            "[[-0.05021989 -0.88337647  0.34773781  0.2815273 ]\n",
            " [-1.01457897  0.85326268 -1.30498732 -1.25489349]\n",
            " [ 1.13597027  0.08842168  0.99615451  1.01752612]]\n"
          ]
        }
      ],
      "source": [
        "print(\"KMeans Cluster Center:\")\n",
        "print(kmeans.cluster_centers_)"
      ]
    },
    {
      "cell_type": "code",
      "execution_count": null,
      "metadata": {
        "colab": {
          "base_uri": "https://localhost:8080/"
        },
        "id": "A1rvojI9pc3a",
        "outputId": "8d4cfbe6-93da-4b9d-bbfa-40003db2aa5a"
      },
      "outputs": [
        {
          "name": "stdout",
          "output_type": "stream",
          "text": [
            "Cluster Labels:\n",
            "[1 1 1 1 1 1 1 1 1 1 1 1 1 1 1 1 1 1 1 1 1 1 1 1 1 1 1 1 1 1 1 1 1 1 1 1 1\n",
            " 1 1 1 1 1 1 1 1 1 1 1 1 1 2 2 2 0 0 0 2 0 0 0 0 0 0 0 0 2 0 0 0 0 2 0 0 0\n",
            " 0 2 2 2 0 0 0 0 0 0 0 2 2 0 0 0 0 0 0 0 0 0 0 0 0 0 2 0 2 2 2 2 0 2 2 2 2\n",
            " 2 2 0 0 2 2 2 2 0 2 0 2 0 2 2 0 2 2 2 2 2 2 0 0 2 2 2 0 2 2 2 0 2 2 2 0 2\n",
            " 2 0]\n"
          ]
        }
      ],
      "source": [
        "print(\"Cluster Labels:\")\n",
        "print(kmeans.labels_)"
      ]
    },
    {
      "cell_type": "code",
      "execution_count": null,
      "metadata": {
        "colab": {
          "base_uri": "https://localhost:8080/",
          "height": 265
        },
        "id": "mVGUcyALpmPZ",
        "outputId": "976e33ff-17fa-4cf4-cc56-ba16336e7497"
      },
      "outputs": [
        {
          "data": {
            "image/png": "[encoded data removed]",
            "text/plain": [
              "<Figure size 432x288 with 1 Axes>"
            ]
          },
          "metadata": {
            "needs_background": "light"
          },
          "output_type": "display_data"
        }
      ],
      "source": [
        "plt.scatter(X[:,0], X[:,1], c=kmeans.labels_, cmap='rainbow')\n",
        "plt.show()"
      ]
    },
    {
      "cell_type": "code",
      "execution_count": null,
      "metadata": {
        "colab": {
          "base_uri": "https://localhost:8080/"
        },
        "id": "ym_PnRptp1ao",
        "outputId": "c0c316d9-b8b9-4dae-c050-8371addf8928"
      },
      "outputs": [
        {
          "name": "stdout",
          "output_type": "stream",
          "text": [
            "For n_clusters = 3, Silhouette Score: 0.45994823920518635\n"
          ]
        }
      ],
      "source": [
        "print(f\"For n_clusters = {n_clusters}, Silhouette Score: {silhouette_score(X, kmeans.labels_)}\")"
      ]
    },
    {
      "cell_type": "code",
      "execution_count": null,
      "metadata": {
        "colab": {
          "base_uri": "https://localhost:8080/"
        },
        "id": "NmYUcCA7qVld",
        "outputId": "c99dd26e-2a27-4233-d784-aae665ac0b09"
      },
      "outputs": [
        {
          "name": "stdout",
          "output_type": "stream",
          "text": [
            "For n_clusters = 3, Calinski-Harabasz Score: 241.90440170183157\n"
          ]
        }
      ],
      "source": [
        "print(f\"For n_clusters = {n_clusters}, Calinski-Harabasz Score: {calinski_harabasz_score(X, kmeans.labels_)}\")"
      ]
    },
    {
      "cell_type": "code",
      "execution_count": null,
      "metadata": {
        "colab": {
          "base_uri": "https://localhost:8080/"
        },
        "id": "hnHcwAhmw8yw",
        "outputId": "d499b435-ea7a-4f44-ccdf-c120f90b9cdf"
      },
      "outputs": [
        {
          "name": "stdout",
          "output_type": "stream",
          "text": [
            "For n_clusters = 3, Davies-Bouldin Score: 0.8335949464754334\n"
          ]
        }
      ],
      "source": [
        "print(f\"For n_clusters = {n_clusters}, Davies-Bouldin Score: {davies_bouldin_score(X, kmeans.labels_)}\")"
      ]
    },
    {
      "cell_type": "markdown",
      "metadata": {
        "id": "j-yKBo5L39ZO"
      },
      "source": [
        "K-Medoids"
      ]
    },
    {
      "cell_type": "code",
      "execution_count": null,
      "metadata": {
        "colab": {
          "base_uri": "https://localhost:8080/"
        },
        "id": "T3hzNCg4qAg8",
        "outputId": "dd2a6aeb-e2b9-4618-a1be-0b64b0c80842"
      },
      "outputs": [
        {
          "name": "stdout",
          "output_type": "stream",
          "text": [
            "Collecting scikit-learn-extra\n",
            "  Downloading scikit_learn_extra-0.2.0-cp37-cp37m-manylinux2010_x86_64.whl (1.7 MB)\n",
            "\u001b[K     |████████████████████████████████| 1.7 MB 5.5 MB/s \n",
            "\u001b[?25hCollecting scikit-learn>=0.23.0\n",
            "  Downloading scikit_learn-1.0.1-cp37-cp37m-manylinux_2_12_x86_64.manylinux2010_x86_64.whl (23.2 MB)\n",
            "\u001b[K     |████████████████████████████████| 23.2 MB 1.5 MB/s \n",
            "\u001b[?25hRequirement already satisfied: numpy>=1.13.3 in /usr/local/lib/python3.7/dist-packages (from scikit-learn-extra) (1.19.5)\n",
            "Requirement already satisfied: scipy>=0.19.1 in /usr/local/lib/python3.7/dist-packages (from scikit-learn-extra) (1.4.1)\n",
            "Requirement already satisfied: joblib>=0.11 in /usr/local/lib/python3.7/dist-packages (from scikit-learn>=0.23.0->scikit-learn-extra) (1.0.1)\n",
            "Collecting threadpoolctl>=2.0.0\n",
            "  Downloading threadpoolctl-3.0.0-py3-none-any.whl (14 kB)\n",
            "Installing collected packages: threadpoolctl, scikit-learn, scikit-learn-extra\n",
            "  Attempting uninstall: scikit-learn\n",
            "    Found existing installation: scikit-learn 0.22.2.post1\n",
            "    Uninstalling scikit-learn-0.22.2.post1:\n",
            "      Successfully uninstalled scikit-learn-0.22.2.post1\n",
            "Successfully installed scikit-learn-1.0.1 scikit-learn-extra-0.2.0 threadpoolctl-3.0.0\n"
          ]
        }
      ],
      "source": [
        "!python3 -m pip install scikit-learn-extra"
      ]
    },
    {
      "cell_type": "code",
      "execution_count": null,
      "metadata": {
        "id": "Wvqw7iRn3JUQ"
      },
      "outputs": [],
      "source": [
        "from sklearn_extra.cluster import KMedoids"
      ]
    },
    {
      "cell_type": "code",
      "execution_count": 75,
      "metadata": {
        "id": "OA_1xS983JUR"
      },
      "outputs": [],
      "source": [
        "n_clusters = 3"
      ]
    },
    {
      "cell_type": "code",
      "execution_count": 76,
      "metadata": {
        "colab": {
          "base_uri": "https://localhost:8080/"
        },
        "id": "xBiwC68C3JUR",
        "outputId": "343b033f-f7e0-4c64-c68e-95d0ed062f28"
      },
      "outputs": [
        {
          "data": {
            "text/plain": [
              "KMedoids(init='heuristic', max_iter=300, method='alternate', metric='euclidean',\n",
              "         n_clusters=3, random_state=None)"
            ]
          },
          "execution_count": 76,
          "metadata": {},
          "output_type": "execute_result"
        }
      ],
      "source": [
        "kmeds = KMedoids(n_clusters=n_clusters)\n",
        "kmeds.fit(X)"
      ]
    },
    {
      "cell_type": "code",
      "execution_count": 77,
      "metadata": {
        "colab": {
          "base_uri": "https://localhost:8080/"
        },
        "id": "U8Dav7PW3JUR",
        "outputId": "64114e60-6d52-4939-99ea-b852be7ac08d"
      },
      "outputs": [
        {
          "name": "stdout",
          "output_type": "stream",
          "text": [
            "KMediods Cluster Center:\n",
            "[[-1.02184904  0.78880759 -1.2833891  -1.3154443 ]\n",
            " [-0.17367395 -0.59237301  0.42173371  0.13250973]\n",
            " [ 1.2803405   0.09821729  0.93327055  1.18556721]]\n"
          ]
        }
      ],
      "source": [
        "print(\"KMediods Cluster Center:\")\n",
        "print(kmeds.cluster_centers_)"
      ]
    },
    {
      "cell_type": "code",
      "execution_count": 78,
      "metadata": {
        "colab": {
          "base_uri": "https://localhost:8080/"
        },
        "id": "oks5ytmW3JUR",
        "outputId": "6fdfd587-c6db-4c07-d756-462b901c6603"
      },
      "outputs": [
        {
          "name": "stdout",
          "output_type": "stream",
          "text": [
            "Cluster Labels:\n",
            "[0 0 0 0 0 0 0 0 0 0 0 0 0 0 0 0 0 0 0 0 0 0 0 0 0 0 0 0 0 0 0 0 0 0 0 0 0\n",
            " 0 0 0 0 0 0 0 0 0 0 0 0 0 2 2 2 1 1 1 2 1 1 1 1 1 1 1 1 2 1 1 1 1 1 1 1 1\n",
            " 1 2 2 2 1 1 1 1 1 1 1 1 2 1 1 1 1 1 1 1 1 1 1 1 1 1 2 1 2 2 2 2 1 2 2 2 2\n",
            " 2 2 1 1 2 2 2 2 1 2 1 2 1 2 2 1 1 2 2 2 2 2 1 1 2 2 2 1 2 2 2 1 2 2 2 1 2\n",
            " 2 1]\n"
          ]
        }
      ],
      "source": [
        "print(\"Cluster Labels:\")\n",
        "print(kmeds.labels_)"
      ]
    },
    {
      "cell_type": "code",
      "execution_count": 79,
      "metadata": {
        "colab": {
          "base_uri": "https://localhost:8080/",
          "height": 0
        },
        "id": "_YlnlFzJ3JUR",
        "outputId": "0920899f-506d-4276-9ac0-ea428848ff3e"
      },
      "outputs": [
        {
          "data": {
            "image/png": "[encoded data removed]",
            "text/plain": [
              "<Figure size 432x288 with 1 Axes>"
            ]
          },
          "metadata": {
            "needs_background": "light"
          },
          "output_type": "display_data"
        }
      ],
      "source": [
        "plt.scatter(X[:,0], X[:,1], c=kmeds.labels_, cmap='rainbow')\n",
        "plt.show()"
      ]
    },
    {
      "cell_type": "code",
      "execution_count": 80,
      "metadata": {
        "colab": {
          "base_uri": "https://localhost:8080/"
        },
        "id": "J5b-AFdI3JUR",
        "outputId": "7fb7ac92-3b46-4e6a-95c4-76e25bf62675"
      },
      "outputs": [
        {
          "name": "stdout",
          "output_type": "stream",
          "text": [
            "For n_clusters = 3, Silhouette Score: 0.4590416105554613\n"
          ]
        }
      ],
      "source": [
        "print(f\"For n_clusters = {n_clusters}, Silhouette Score: {silhouette_score(X, kmeds.labels_)}\")"
      ]
    },
    {
      "cell_type": "code",
      "execution_count": 81,
      "metadata": {
        "colab": {
          "base_uri": "https://localhost:8080/"
        },
        "id": "YLCm9xhJ3JUR",
        "outputId": "fa3c7f8c-739e-4432-f618-1ee5dd826745"
      },
      "outputs": [
        {
          "name": "stdout",
          "output_type": "stream",
          "text": [
            "For n_clusters = 3, Calinski-Harabasz Score: 239.7482681281416\n"
          ]
        }
      ],
      "source": [
        "print(f\"For n_clusters = {n_clusters}, Calinski-Harabasz Score: {calinski_harabasz_score(X, kmeds.labels_)}\")"
      ]
    },
    {
      "cell_type": "code",
      "execution_count": 82,
      "metadata": {
        "colab": {
          "base_uri": "https://localhost:8080/"
        },
        "id": "9Y7QqHaX3JUS",
        "outputId": "e2d84d0f-80b2-4924-d0b3-077204d3fcb1"
      },
      "outputs": [
        {
          "name": "stdout",
          "output_type": "stream",
          "text": [
            "For n_clusters = 3, Davies-Bouldin Score: 0.8384547897989041\n"
          ]
        }
      ],
      "source": [
        "print(f\"For n_clusters = {n_clusters}, Davies-Bouldin Score: {davies_bouldin_score(X, kmeds.labels_)}\")"
      ]
    },
    {
      "cell_type": "code",
      "execution_count": 86,
      "metadata": {
        "colab": {
          "base_uri": "https://localhost:8080/"
        },
        "id": "Iw3SQFkxokLC",
        "outputId": "5edb7e03-729c-4ecb-9a33-917b373cb3a6"
      },
      "outputs": [
        {
          "name": "stdout",
          "output_type": "stream",
          "text": [
            "Evaluation Metrics:\n",
            "-----------------------------------\n",
            "-----------------------------------\n",
            "Silhouette Score: 0.4590416105554613\n",
            "-----------------------------------\n",
            "Calinski-Harabasz Score: 239.7482681281416\n",
            "-----------------------------------\n",
            "Davies-Bouldin Score: 0.8384547897989041\n",
            "-----------------------------------\n",
            "Cohesion Score:  148.61035574513318\n",
            "-----------------------------------\n",
            "Seperation Score 451.38964425486694\n",
            "-----------------------------------\n"
          ]
        }
      ],
      "source": [
        "from ass_4 import evaluation_metrics_1, evaluation_metrics_2\n",
        "evaluation_metrics_1(X, kmeds)\n",
        "evaluation_metrics_2(X, kmeds)"
      ]
    },
    {
      "cell_type": "markdown",
      "metadata": {
        "id": "JWYjncS5axKn"
      },
      "source": [
        "### KMeans++"
      ]
    },
    {
      "cell_type": "code",
      "execution_count": null,
      "metadata": {
        "colab": {
          "base_uri": "https://localhost:8080/"
        },
        "id": "LMZCEJeab9gJ",
        "outputId": "3a386fd2-7bdb-4a09-edfe-7ceafc5eacb4"
      },
      "outputs": [
        {
          "data": {
            "text/plain": [
              "array([[-0.90068117,  1.01900435, -1.34022653, -1.3154443 ],\n",
              "       [-1.14301691, -0.13197948, -1.34022653, -1.3154443 ],\n",
              "       [-1.38535265,  0.32841405, -1.39706395, -1.3154443 ],\n",
              "       [-1.50652052,  0.09821729, -1.2833891 , -1.3154443 ],\n",
              "       [-1.02184904,  1.24920112, -1.34022653, -1.3154443 ]])"
            ]
          },
          "execution_count": 36,
          "metadata": {},
          "output_type": "execute_result"
        }
      ],
      "source": [
        "X[:5]"
      ]
    },
    {
      "cell_type": "code",
      "execution_count": 54,
      "metadata": {
        "colab": {
          "base_uri": "https://localhost:8080/",
          "height": 0
        },
        "id": "1X4csuh1cARj",
        "outputId": "d0d5eca6-87d3-422c-9a11-a2f3efb6d7b3"
      },
      "outputs": [
        {
          "data": {
            "image/png": "[encoded data removed]",
            "text/plain": [
              "<Figure size 432x288 with 1 Axes>"
            ]
          },
          "metadata": {
            "needs_background": "light"
          },
          "output_type": "display_data"
        },
        {
          "data": {
            "image/png": "[encoded data removed]",
            "text/plain": [
              "<Figure size 432x288 with 1 Axes>"
            ]
          },
          "metadata": {
            "needs_background": "light"
          },
          "output_type": "display_data"
        },
        {
          "data": {
            "image/png": "[encoded data removed]",
            "text/plain": [
              "<Figure size 432x288 with 1 Axes>"
            ]
          },
          "metadata": {
            "needs_background": "light"
          },
          "output_type": "display_data"
        }
      ],
      "source": [
        "import sys\n",
        "# function to plot the selected centroids\n",
        "def plot(data, centroids):\n",
        "    plt.scatter(data[:, 0], data[:, 1], marker = '.',\n",
        "                color = 'gray', label = 'data points')\n",
        "    plt.scatter(centroids[:-1, 0], centroids[:-1, 1],\n",
        "                color = 'black', label = 'previously selected centroids')\n",
        "    plt.scatter(centroids[-1, 0], centroids[-1, 1],\n",
        "                color = 'red', label = 'next centroid')\n",
        "    plt.title('Select % d centroid'%(centroids.shape[0]))\n",
        "     \n",
        "    plt.legend()\n",
        "    plt.xlim(-4, 4)\n",
        "    plt.ylim(-4, 4)\n",
        "    plt.show()\n",
        "          \n",
        "# function to compute euclidean distance\n",
        "def distance(p1, p2):\n",
        "    return np.sum((p1 - p2)**2)\n",
        "  \n",
        "# initialization algorithm\n",
        "def initialize(data, k):\n",
        "    '''\n",
        "    initialized the centroids for K-means++\n",
        "    inputs:\n",
        "        data - numpy array of data points having shape (200, 2)\n",
        "        k - number of clusters\n",
        "    '''\n",
        "    ## initialize the centroids list and add\n",
        "    ## a randomly selected data point to the list\n",
        "    centroids = []\n",
        "    centroids.append(data[np.random.randint(\n",
        "            data.shape[0]), :])\n",
        "    plot(data, np.array(centroids))\n",
        "  \n",
        "    ## compute remaining k - 1 centroids\n",
        "    for c_id in range(k - 1):\n",
        "         \n",
        "        ## initialize a list to store distances of data\n",
        "        ## points from nearest centroid\n",
        "        dist = []\n",
        "        for i in range(data.shape[0]):\n",
        "            point = data[i, :]\n",
        "            d = sys.maxsize\n",
        "             \n",
        "            ## compute distance of 'point' from each of the previously\n",
        "            ## selected centroid and store the minimum distance\n",
        "            for j in range(len(centroids)):\n",
        "                temp_dist = distance(point, centroids[j])\n",
        "                d = min(d, temp_dist)\n",
        "            dist.append(d)\n",
        "             \n",
        "        ## select data point with maximum distance as our next centroid\n",
        "        dist = np.array(dist)\n",
        "        next_centroid = data[np.argmax(dist), :]\n",
        "        centroids.append(next_centroid)\n",
        "        dist = []\n",
        "        plot(data, np.array(centroids))\n",
        "    return centroids\n",
        "  \n",
        "# call the initialize function to get the centroids\n",
        "centroids = initialize(X, k = 3)"
      ]
    },
    {
      "cell_type": "code",
      "execution_count": 55,
      "metadata": {
        "id": "tRp8aNfmc4uQ"
      },
      "outputs": [],
      "source": [
        "centroids = np.asarray(centroids)"
      ]
    },
    {
      "cell_type": "code",
      "execution_count": 56,
      "metadata": {
        "colab": {
          "base_uri": "https://localhost:8080/"
        },
        "id": "_E9s7OyRcoI8",
        "outputId": "dd7d1928-a192-4f42-cc03-e20cb9d8c589"
      },
      "outputs": [
        {
          "name": "stderr",
          "output_type": "stream",
          "text": [
            "/usr/local/lib/python3.7/dist-packages/ipykernel_launcher.py:2: RuntimeWarning: Explicit initial center position passed: performing only one init in k-means instead of n_init=10\n",
            "  \n"
          ]
        },
        {
          "data": {
            "text/plain": [
              "KMeans(algorithm='auto', copy_x=True,\n",
              "       init=array([[ 1.64384411, -0.13197948,  1.16062026,  0.52740629],\n",
              "       [-1.87002413, -0.13197948, -1.51073881, -1.44707648],\n",
              "       [-0.17367395,  3.09077525, -1.2833891 , -1.05217993]]),\n",
              "       max_iter=300, n_clusters=3, n_init=10, n_jobs=None,\n",
              "       precompute_distances='auto', random_state=None, tol=0.0001, verbose=0)"
            ]
          },
          "execution_count": 56,
          "metadata": {},
          "output_type": "execute_result"
        }
      ],
      "source": [
        "kmeans_pp = KMeans(n_clusters=3, init=centroids)\n",
        "kmeans_pp.fit(X)"
      ]
    },
    {
      "cell_type": "code",
      "execution_count": 57,
      "metadata": {
        "colab": {
          "base_uri": "https://localhost:8080/"
        },
        "id": "rZ7GeWgQdI6f",
        "outputId": "c1c7905a-68ff-49a6-f46d-5f5cbd07e323"
      },
      "outputs": [
        {
          "name": "stdout",
          "output_type": "stream",
          "text": [
            "KMediods Cluster Center:\n",
            "[[ 0.57100359 -0.37176778  0.69111943  0.66315198]\n",
            " [-1.32765367 -0.373138   -1.13723572 -1.11486192]\n",
            " [-0.81623084  1.31895771 -1.28683379 -1.2197118 ]]\n"
          ]
        }
      ],
      "source": [
        "print(\"KMediods Cluster Center:\")\n",
        "print(kmeans_pp.cluster_centers_)"
      ]
    },
    {
      "cell_type": "code",
      "execution_count": 58,
      "metadata": {
        "colab": {
          "base_uri": "https://localhost:8080/"
        },
        "id": "qCOREnT7dI6k",
        "outputId": "46e7e590-357d-4adc-82f1-4d3b43000704"
      },
      "outputs": [
        {
          "name": "stdout",
          "output_type": "stream",
          "text": [
            "Cluster Labels:\n",
            "[2 1 1 1 2 2 2 2 1 1 2 2 1 1 2 2 2 2 2 2 2 2 2 2 2 1 2 2 2 1 1 2 2 2 1 1 2\n",
            " 2 1 2 2 1 1 2 2 1 2 1 2 2 0 0 0 0 0 0 0 1 0 0 1 0 0 0 0 0 0 0 0 0 0 0 0 0\n",
            " 0 0 0 0 0 0 0 0 0 0 0 0 0 0 0 0 0 0 0 1 0 0 0 0 1 0 0 0 0 0 0 0 0 0 0 0 0\n",
            " 0 0 0 0 0 0 0 0 0 0 0 0 0 0 0 0 0 0 0 0 0 0 0 0 0 0 0 0 0 0 0 0 0 0 0 0 0\n",
            " 0 0]\n"
          ]
        }
      ],
      "source": [
        "print(\"Cluster Labels:\")\n",
        "print(kmeans_pp.labels_)"
      ]
    },
    {
      "cell_type": "code",
      "execution_count": 59,
      "metadata": {
        "colab": {
          "base_uri": "https://localhost:8080/",
          "height": 0
        },
        "id": "PmT5wRqCdI6l",
        "outputId": "6f0d1360-e83a-40e2-d5a9-2d23ebafc743"
      },
      "outputs": [
        {
          "data": {
            "image/png": "[encoded data removed]",
            "text/plain": [
              "<Figure size 432x288 with 1 Axes>"
            ]
          },
          "metadata": {
            "needs_background": "light"
          },
          "output_type": "display_data"
        }
      ],
      "source": [
        "plt.scatter(X[:,0], X[:,1], c=kmeans_pp.labels_, cmap='rainbow')\n",
        "plt.show()"
      ]
    },
    {
      "cell_type": "code",
      "execution_count": null,
      "metadata": {
        "colab": {
          "base_uri": "https://localhost:8080/"
        },
        "id": "34DlXYVrdI6l",
        "outputId": "3d82b17c-e862-4432-b30e-c68ac6c62dff"
      },
      "outputs": [
        {
          "name": "stdout",
          "output_type": "stream",
          "text": [
            "For n_clusters = 3, Silhouette Score: 0.4630420362927048\n"
          ]
        }
      ],
      "source": [
        "print(f\"For n_clusters = {n_clusters}, Silhouette Score: {silhouette_score(X, kmeans_pp.labels_)}\")"
      ]
    },
    {
      "cell_type": "code",
      "execution_count": null,
      "metadata": {
        "colab": {
          "base_uri": "https://localhost:8080/"
        },
        "id": "zjU5VNUgdI6l",
        "outputId": "606a3089-da88-467d-9d29-3ce80ece1c3e"
      },
      "outputs": [
        {
          "name": "stdout",
          "output_type": "stream",
          "text": [
            "For n_clusters = 3, Calinski-Harabasz Score: 241.42632349435513\n"
          ]
        }
      ],
      "source": [
        "print(f\"For n_clusters = {n_clusters}, Calinski-Harabasz Score: {calinski_harabasz_score(X, kmeans_pp.labels_)}\")"
      ]
    },
    {
      "cell_type": "code",
      "execution_count": null,
      "metadata": {
        "colab": {
          "base_uri": "https://localhost:8080/"
        },
        "id": "7pd3KF0xdI6l",
        "outputId": "006dbf3c-ca0e-41d4-8228-1dc34dad5bfa"
      },
      "outputs": [
        {
          "name": "stdout",
          "output_type": "stream",
          "text": [
            "For n_clusters = 3, Davies-Bouldin Score: 0.8324162130910141\n"
          ]
        }
      ],
      "source": [
        "print(f\"For n_clusters = {n_clusters}, Davies-Bouldin Score: {davies_bouldin_score(X, kmeans_pp.labels_)}\")"
      ]
    },
    {
      "cell_type": "code",
      "execution_count": 65,
      "metadata": {
        "colab": {
          "base_uri": "https://localhost:8080/"
        },
        "id": "wn5ycSMPjoog",
        "outputId": "855e55c9-028c-47a5-814c-7cd95af8ba7f"
      },
      "outputs": [
        {
          "name": "stdout",
          "output_type": "stream",
          "text": [
            "/content/drive/MyDrive\n"
          ]
        }
      ],
      "source": [
        "cd /content/drive/MyDrive/"
      ]
    },
    {
      "cell_type": "code",
      "execution_count": 67,
      "metadata": {
        "colab": {
          "base_uri": "https://localhost:8080/"
        },
        "id": "-_-4IelKjULF",
        "outputId": "4be9aea9-fcb9-4a2e-87e1-fe0b5e44d52a"
      },
      "outputs": [
        {
          "name": "stdout",
          "output_type": "stream",
          "text": [
            "Evaluation Metrics:\n",
            "-----------------------------------\n",
            "-----------------------------------\n",
            "Silhouette Score: 0.4798814508199816\n",
            "-----------------------------------\n",
            "Calinski-Harabasz Score: 157.36015312192248\n",
            "-----------------------------------\n",
            "Davies-Bouldin Score: 0.7893630242997912\n",
            "-----------------------------------\n",
            "Cohesion Score:  191.02473685317966\n",
            "-----------------------------------\n",
            "Seperation Score 408.97526314682045\n",
            "-----------------------------------\n"
          ]
        }
      ],
      "source": [
        "from ass_4 import evaluation_metrics_1, evaluation_metrics_2\n",
        "evaluation_metrics_1(X, kmeans_pp)\n",
        "evaluation_metrics_2(X, kmeans_pp)"
      ]
    },
    {
      "cell_type": "code",
      "execution_count": null,
      "metadata": {
        "colab": {
          "base_uri": "https://localhost:8080/"
        },
        "id": "AA1f0h9Ac_zL",
        "outputId": "a496f475-2d90-4b82-fa05-19d51889fb04"
      },
      "outputs": [
        {
          "name": "stdout",
          "output_type": "stream",
          "text": [
            "Evaluation Metrics:\n",
            "-----------------------------------\n",
            "-----------------------------------\n",
            "Silhouette Score: 0.45994823920518635\n",
            "-----------------------------------\n",
            "Calinski-Harabasz Score: 241.90440170183157\n",
            "-----------------------------------\n",
            "Davies-Bouldin Score: 0.8335949464754334\n",
            "-----------------------------------\n",
            "Cohesion Score:  139.82049635974982\n",
            "-----------------------------------\n",
            "Seperation Score 460.1795036402503\n",
            "-----------------------------------\n"
          ]
        }
      ],
      "source": [
        "!python /content/drive/MyDrive/ass_4.py"
      ]
    },
    {
      "cell_type": "markdown",
      "metadata": {
        "id": "AKxtFvPXJe8R"
      },
      "source": [
        "### Bisecting K-Means"
      ]
    },
    {
      "cell_type": "code",
      "execution_count": 68,
      "metadata": {
        "colab": {
          "base_uri": "https://localhost:8080/",
          "height": 0
        },
        "id": "Es5ahM9fNdK_",
        "outputId": "472d401d-2962-4505-a9e1-a9927bd81656"
      },
      "outputs": [
        {
          "data": {
            "image/png": "[encoded data removed]",
            "text/plain": [
              "<Figure size 432x288 with 1 Axes>"
            ]
          },
          "metadata": {
            "needs_background": "light"
          },
          "output_type": "display_data"
        },
        {
          "data": {
            "image/png": "[encoded data removed]",
            "text/plain": [
              "<Figure size 432x288 with 1 Axes>"
            ]
          },
          "metadata": {
            "needs_background": "light"
          },
          "output_type": "display_data"
        }
      ],
      "source": [
        "from sklearn.cluster import KMeans\n",
        "\n",
        "def plot(data, centroids, next_centroid):\n",
        "    plt.scatter(data[:, 0], data[:, 1], marker = '.',\n",
        "                color = 'gray', label = 'data points')\n",
        "    plt.scatter(centroids[:, 0], centroids[:, 1],\n",
        "                color = 'black', label = 'previously selected centroids')\n",
        "    plt.scatter(next_centroid[0], next_centroid[1],\n",
        "                color = 'red', label = 'next centroid')\n",
        "    plt.title('Iteration: % d'%(centroids.shape[0]))\n",
        "     \n",
        "    plt.legend()\n",
        "    plt.xlim(-4, 4)\n",
        "    plt.ylim(-4, 5)\n",
        "    plt.show()\n",
        "\n",
        "K = 3\n",
        "current_clusters = 1\n",
        "centroids = []\n",
        "clusters = []\n",
        "X_ = X\n",
        "labels = []\n",
        "label = 0\n",
        "while current_clusters != K:\n",
        "    kmeans = KMeans(n_clusters=2).fit(X_)\n",
        "    current_clusters += 1\n",
        "    # split += 1\n",
        "    cluster_centers = kmeans.cluster_centers_\n",
        "    # print(cluster_centers)\n",
        "\n",
        "    # identify next cluster for kmeans\n",
        "    sse = [0]*2\n",
        "    for point, label in zip(X_, kmeans.labels_):\n",
        "        sse[label] += np.square(point-cluster_centers[label]).sum()\n",
        "    chosen_cluster = np.argmax(sse, axis=0)\n",
        "    # print(chosen_cluster)\n",
        "\n",
        "    # save the other cluster\n",
        "    centroids.append(cluster_centers[1-chosen_cluster])\n",
        "    clusters.append(X_[kmeans.labels_ == 1-chosen_cluster])\n",
        "\n",
        "    # reassign chosen cluster for next iteration\n",
        "    plot(X_, np.array(centroids), cluster_centers[chosen_cluster])\n",
        "    chosen_cluster_data = X_[kmeans.labels_ == chosen_cluster]\n",
        "    X_ = chosen_cluster_data\n",
        "    # plot_data = clusters.append(X_)\n",
        "\n",
        "centroids.append(X_.mean(0))\n",
        "clusters.append(X_)"
      ]
    },
    {
      "cell_type": "code",
      "execution_count": 13,
      "metadata": {
        "colab": {
          "base_uri": "https://localhost:8080/"
        },
        "id": "D8jDtQD8Nyvi",
        "outputId": "cb595dfd-0fe4-4883-962b-25f3fa5efe30"
      },
      "outputs": [
        {
          "data": {
            "text/plain": [
              "[array([-1.01457897,  0.85326268, -1.30498732, -1.25489349]),\n",
              " array([-0.05021989, -0.88337647,  0.34773781,  0.2815273 ]),\n",
              " array([1.13597027, 0.08842168, 0.99615451, 1.01752612])]"
            ]
          },
          "execution_count": 13,
          "metadata": {},
          "output_type": "execute_result"
        }
      ],
      "source": [
        "centroids"
      ]
    },
    {
      "cell_type": "code",
      "execution_count": 14,
      "metadata": {
        "colab": {
          "base_uri": "https://localhost:8080/"
        },
        "id": "43pLKYoMPpMQ",
        "outputId": "93dc2685-8e36-4540-d6da-9e77dca44bd5"
      },
      "outputs": [
        {
          "name": "stdout",
          "output_type": "stream",
          "text": [
            "50\n",
            "53\n",
            "47\n"
          ]
        }
      ],
      "source": [
        "for cluster in clusters:\n",
        "  print(cluster.shape[0])"
      ]
    },
    {
      "cell_type": "code",
      "execution_count": 15,
      "metadata": {
        "id": "KzL7CvBsPSJH"
      },
      "outputs": [],
      "source": [
        "labels = np.zeros(X.shape[0])\n",
        "labels[clusters[0].shape[0]:clusters[0].shape[0]+clusters[1].shape[0]] = 1\n",
        "labels[clusters[0].shape[0]+clusters[1].shape[0]:] = 2"
      ]
    },
    {
      "cell_type": "code",
      "execution_count": 16,
      "metadata": {
        "id": "7Q8UEIFsQefd"
      },
      "outputs": [],
      "source": [
        "labels = labels.astype(int)"
      ]
    },
    {
      "cell_type": "code",
      "execution_count": 17,
      "metadata": {
        "id": "7VEyVO_zRhpA"
      },
      "outputs": [],
      "source": [
        "X_ = np.array([item for sublist in clusters for item in sublist])\n"
      ]
    },
    {
      "cell_type": "code",
      "execution_count": 18,
      "metadata": {
        "colab": {
          "base_uri": "https://localhost:8080/",
          "height": 0
        },
        "id": "H0Z2n5OHbakE",
        "outputId": "da75662d-c9ec-4b83-b9fe-893da9d98a5d"
      },
      "outputs": [
        {
          "data": {
            "image/png": "[encoded data removed]",
            "text/plain": [
              "<Figure size 432x288 with 1 Axes>"
            ]
          },
          "metadata": {
            "needs_background": "light"
          },
          "output_type": "display_data"
        }
      ],
      "source": [
        "plt.scatter(X_[:,0], X_[:,1], c=labels, cmap='rainbow')\n",
        "plt.show()"
      ]
    },
    {
      "cell_type": "code",
      "execution_count": null,
      "metadata": {
        "colab": {
          "base_uri": "https://localhost:8080/"
        },
        "id": "4i8Q9kklRXgF",
        "outputId": "1163b6af-dd5d-42de-e9f7-929b6b555d32"
      },
      "outputs": [
        {
          "name": "stdout",
          "output_type": "stream",
          "text": [
            "Silhouette Score: 0.36401782604954924\n"
          ]
        }
      ],
      "source": [
        "print(f\"Silhouette Score: {silhouette_score(X, labels)}\")"
      ]
    },
    {
      "cell_type": "code",
      "execution_count": null,
      "metadata": {
        "colab": {
          "base_uri": "https://localhost:8080/"
        },
        "id": "wi23oXGURXgf",
        "outputId": "d1b965b8-f1ee-4fbb-d83a-40f35f3f6ab3"
      },
      "outputs": [
        {
          "name": "stdout",
          "output_type": "stream",
          "text": [
            "Calinski-Harabasz Score: 181.1171183165638\n"
          ]
        }
      ],
      "source": [
        "print(f\"Calinski-Harabasz Score: {calinski_harabasz_score(X, labels)}\")"
      ]
    },
    {
      "cell_type": "code",
      "execution_count": null,
      "metadata": {
        "colab": {
          "base_uri": "https://localhost:8080/"
        },
        "id": "yoJptj4HRXgg",
        "outputId": "642de30a-a9c3-4859-b7fa-6bf6defef1b4"
      },
      "outputs": [
        {
          "name": "stdout",
          "output_type": "stream",
          "text": [
            "Davies-Bouldin Score: 1.147030344116083\n"
          ]
        }
      ],
      "source": [
        "print(f\"Davies-Bouldin Score: {davies_bouldin_score(X, labels)}\")"
      ]
    },
    {
      "cell_type": "code",
      "execution_count": null,
      "metadata": {
        "colab": {
          "base_uri": "https://localhost:8080/"
        },
        "id": "2M1wGqkTN2EQ",
        "outputId": "74ef0b92-de52-4447-d48b-33f262fa06c1"
      },
      "outputs": [
        {
          "name": "stdout",
          "output_type": "stream",
          "text": [
            "Cohesion Score:  139.82049635974982\n",
            "-----------------------------------\n",
            "Seperation Score 460.1795036402504\n",
            "-----------------------------------\n"
          ]
        }
      ],
      "source": [
        "from scipy.cluster.vq import vq\n",
        "codebook = centroids\n",
        "partition, euc_distance_to_centroids = vq(X_, codebook)\n",
        "\n",
        "tss = np.sum((X_-X_.mean(0))**2)\n",
        "sse = np.sum(euc_distance_to_centroids**2)\n",
        "ssb = tss - sse\n",
        "print(\"Cohesion Score: \", sse)\n",
        "print('-----------------------------------')\n",
        "print(\"Seperation Score\", ssb)\n",
        "print('-----------------------------------')\n"
      ]
    },
    {
      "cell_type": "code",
      "execution_count": null,
      "metadata": {
        "id": "6y57Y5yvbRBt"
      },
      "outputs": [],
      "source": [
        "plt.scatter(X[:,0], X[:,1], c=kmeans.labels_, cmap='rainbow')\n",
        "plt.show()"
      ]
    },
    {
      "cell_type": "markdown",
      "metadata": {
        "id": "Vzph3B4u4CIc"
      },
      "source": [
        "### Hierarchical"
      ]
    },
    {
      "cell_type": "code",
      "execution_count": null,
      "metadata": {
        "id": "ilc2w6dz4J-e"
      },
      "outputs": [],
      "source": [
        "from scipy.cluster.hierarchy import dendrogram, linkage"
      ]
    },
    {
      "cell_type": "code",
      "execution_count": null,
      "metadata": {
        "id": "e8__Ceg84kjd"
      },
      "outputs": [],
      "source": [
        "linked = linkage(X, 'single')"
      ]
    },
    {
      "cell_type": "code",
      "execution_count": null,
      "metadata": {
        "id": "W9XHLUdu4nCK"
      },
      "outputs": [],
      "source": [
        "labelList = range(1, 4)"
      ]
    },
    {
      "cell_type": "code",
      "execution_count": null,
      "metadata": {
        "id": "aJsKYd0h4rpO"
      },
      "outputs": [],
      "source": [
        "plt.figure(figsize=(10, 7))\n",
        "dendrogram(linked,\n",
        "           orientation ='top',\n",
        "           labels=labelList,\n",
        "           distance_sort='descending',\n",
        "           show_leaf_counts=True)\n",
        "plt.show()"
      ]
    },
    {
      "cell_type": "markdown",
      "metadata": {
        "id": "g74YTl7X9PMl"
      },
      "source": [
        "AGNES - Agglomerative Clustering"
      ]
    },
    {
      "cell_type": "code",
      "execution_count": null,
      "metadata": {
        "id": "jg9oAy0T4sjO"
      },
      "outputs": [],
      "source": [
        "from sklearn.cluster import AgglomerativeClustering"
      ]
    },
    {
      "cell_type": "code",
      "execution_count": null,
      "metadata": {
        "colab": {
          "base_uri": "https://localhost:8080/"
        },
        "id": "DkOJkAKJ8gls",
        "outputId": "5b4be275-29d2-431a-ead2-68dcae610ff1"
      },
      "outputs": [
        {
          "data": {
            "text/plain": [
              "array([1, 1, 1, 1, 1, 1, 1, 1, 1, 1, 1, 1, 1, 1, 1, 1, 1, 1, 1, 1, 1, 1,\n",
              "       1, 1, 1, 1, 1, 1, 1, 1, 1, 1, 1, 1, 1, 1, 1, 1, 1, 1, 1, 1, 1, 1,\n",
              "       1, 1, 1, 1, 1, 1, 0, 0, 0, 0, 0, 0, 0, 0, 0, 0, 0, 0, 0, 0, 0, 0,\n",
              "       0, 0, 0, 0, 0, 0, 0, 0, 0, 0, 0, 2, 0, 0, 0, 0, 0, 0, 0, 0, 0, 0,\n",
              "       0, 0, 0, 0, 0, 0, 0, 0, 0, 0, 0, 0, 2, 0, 2, 2, 2, 2, 0, 2, 2, 2,\n",
              "       2, 2, 2, 0, 0, 2, 2, 2, 2, 0, 2, 0, 2, 0, 2, 2, 0, 0, 2, 2, 2, 2,\n",
              "       2, 0, 0, 2, 2, 2, 0, 2, 2, 2, 0, 2, 2, 2, 0, 2, 2, 0])"
            ]
          },
          "execution_count": 85,
          "metadata": {},
          "output_type": "execute_result"
        }
      ],
      "source": [
        "cluster = AgglomerativeClustering(n_clusters=3, affinity='euclidean', linkage='ward')\n",
        "cluster.fit_predict(X)"
      ]
    },
    {
      "cell_type": "code",
      "execution_count": null,
      "metadata": {
        "colab": {
          "base_uri": "https://localhost:8080/"
        },
        "id": "HLgrycXT8q0G",
        "outputId": "280b2dde-ee99-47f8-eba5-7278b5389b76"
      },
      "outputs": [
        {
          "name": "stdout",
          "output_type": "stream",
          "text": [
            "Cluster Labels:\n",
            "[1 1 1 1 1 1 1 1 1 1 1 1 1 1 1 1 1 1 1 1 1 1 1 1 1 1 1 1 1 1 1 1 1 1 1 1 1\n",
            " 1 1 1 1 1 1 1 1 1 1 1 1 1 0 0 0 0 0 0 0 0 0 0 0 0 0 0 0 0 0 0 0 0 0 0 0 0\n",
            " 0 0 0 2 0 0 0 0 0 0 0 0 0 0 0 0 0 0 0 0 0 0 0 0 0 0 2 0 2 2 2 2 0 2 2 2 2\n",
            " 2 2 0 0 2 2 2 2 0 2 0 2 0 2 2 0 0 2 2 2 2 2 0 0 2 2 2 0 2 2 2 0 2 2 2 0 2\n",
            " 2 0]\n"
          ]
        }
      ],
      "source": [
        "print(\"Cluster Labels:\")\n",
        "print(cluster.labels_)"
      ]
    },
    {
      "cell_type": "code",
      "execution_count": null,
      "metadata": {
        "colab": {
          "base_uri": "https://localhost:8080/",
          "height": 268
        },
        "id": "WbwXtR0K8vuj",
        "outputId": "76b320e6-4d15-4b46-d62a-eca13c8703ad"
      },
      "outputs": [
        {
          "data": {
            "image/png": "[encoded data removed]",
            "text/plain": [
              "<Figure size 432x288 with 1 Axes>"
            ]
          },
          "metadata": {
            "needs_background": "light"
          },
          "output_type": "display_data"
        }
      ],
      "source": [
        "plt.scatter(X[:,0], X[:, 1], c=cluster.labels_, cmap='rainbow')\n",
        "plt.show()"
      ]
    },
    {
      "cell_type": "code",
      "execution_count": null,
      "metadata": {
        "colab": {
          "base_uri": "https://localhost:8080/"
        },
        "id": "-VMAgl4P9BdC",
        "outputId": "2d2636c5-7ecd-417b-98c8-e4d8ff90867b"
      },
      "outputs": [
        {
          "name": "stdout",
          "output_type": "stream",
          "text": [
            "For n_clusters = 3, Silhouette Score: 0.5543236611296415\n"
          ]
        }
      ],
      "source": [
        "print(f\"For n_clusters = {n_clusters}, Silhouette Score: {silhouette_score(X, cluster.labels_)}\")"
      ]
    },
    {
      "cell_type": "code",
      "execution_count": null,
      "metadata": {
        "colab": {
          "base_uri": "https://localhost:8080/"
        },
        "id": "sls2M4-h9BdD",
        "outputId": "b0ec5f6f-7c9d-4dfd-b6ff-391245c3dfa6"
      },
      "outputs": [
        {
          "name": "stdout",
          "output_type": "stream",
          "text": [
            "For n_clusters = 3, Calinski-Harabasz Score: 558.0580408128307\n"
          ]
        }
      ],
      "source": [
        "print(f\"For n_clusters = {n_clusters}, Calinski-Harabasz Score: {calinski_harabasz_score(X, cluster.labels_)}\")"
      ]
    },
    {
      "cell_type": "code",
      "execution_count": null,
      "metadata": {
        "colab": {
          "base_uri": "https://localhost:8080/"
        },
        "id": "nmq1OuVe9BdD",
        "outputId": "bcfc6091-b6ad-4618-f090-128be9519e97"
      },
      "outputs": [
        {
          "name": "stdout",
          "output_type": "stream",
          "text": [
            "For n_clusters = 3, Davies-Bouldin Score: 0.6562564540642065\n"
          ]
        }
      ],
      "source": [
        "print(f\"For n_clusters = {n_clusters}, Davies-Bouldin Score: {davies_bouldin_score(X, cluster.labels_)}\")"
      ]
    },
    {
      "cell_type": "markdown",
      "metadata": {
        "id": "rOQv4ON_9U-j"
      },
      "source": [
        "BIRCH"
      ]
    },
    {
      "cell_type": "code",
      "execution_count": null,
      "metadata": {
        "id": "e3vpSW2q9Ll2"
      },
      "outputs": [],
      "source": [
        "from sklearn.cluster import Birch"
      ]
    },
    {
      "cell_type": "code",
      "execution_count": null,
      "metadata": {
        "id": "stdOjCXu9hCd"
      },
      "outputs": [],
      "source": [
        "n_clusters = 3"
      ]
    },
    {
      "cell_type": "code",
      "execution_count": null,
      "metadata": {
        "colab": {
          "base_uri": "https://localhost:8080/"
        },
        "id": "IHoHJ53f9a1B",
        "outputId": "273d0023-b559-4499-f41f-339889cf6af1"
      },
      "outputs": [
        {
          "data": {
            "text/plain": [
              "Birch(branching_factor=50, compute_labels=True, copy=True, n_clusters=3,\n",
              "      threshold=0.5)"
            ]
          },
          "execution_count": 108,
          "metadata": {},
          "output_type": "execute_result"
        }
      ],
      "source": [
        "birch = Birch(n_clusters=n_clusters)\n",
        "birch.fit(X)"
      ]
    },
    {
      "cell_type": "code",
      "execution_count": null,
      "metadata": {
        "colab": {
          "base_uri": "https://localhost:8080/"
        },
        "id": "JjPn673o9naD",
        "outputId": "129a1de6-b05b-41c8-9c1e-f2660a0de321"
      },
      "outputs": [
        {
          "name": "stdout",
          "output_type": "stream",
          "text": [
            "Cluster Labels:\n",
            "[2 2 2 2 2 2 2 2 2 2 2 2 2 2 2 2 2 2 2 2 2 2 2 2 2 2 2 2 2 2 2 2 2 2 2 2 2\n",
            " 2 2 2 2 2 2 2 2 2 2 2 2 2 0 0 0 1 0 0 0 1 0 1 1 0 1 0 1 0 0 1 0 1 0 1 0 0\n",
            " 0 0 0 0 0 1 1 1 1 0 0 0 0 0 1 1 1 0 1 1 1 1 1 0 1 1 0 0 0 0 0 0 1 0 0 0 0\n",
            " 0 0 0 0 0 0 0 0 0 0 0 0 0 0 0 0 0 0 0 0 0 0 0 0 0 0 0 0 0 0 0 0 0 0 0 0 0\n",
            " 0 0]\n"
          ]
        }
      ],
      "source": [
        "print(\"Cluster Labels:\")\n",
        "print(birch.labels_)"
      ]
    },
    {
      "cell_type": "code",
      "execution_count": null,
      "metadata": {
        "colab": {
          "base_uri": "https://localhost:8080/",
          "height": 268
        },
        "id": "Dkg7O1ie9x2J",
        "outputId": "c6ece486-e189-4ca5-a7c3-cfb65f478b86"
      },
      "outputs": [
        {
          "data": {
            "image/png": "[encoded data removed]",
            "text/plain": [
              "<Figure size 432x288 with 1 Axes>"
            ]
          },
          "metadata": {
            "needs_background": "light"
          },
          "output_type": "display_data"
        }
      ],
      "source": [
        "plt.scatter(X[:,0], X[:,1], c=birch.labels_, cmap='rainbow')\n",
        "plt.show()"
      ]
    },
    {
      "cell_type": "code",
      "execution_count": null,
      "metadata": {
        "colab": {
          "base_uri": "https://localhost:8080/"
        },
        "id": "eygqmMpi-Cel",
        "outputId": "e75a6189-c90e-425c-e188-15a696063538"
      },
      "outputs": [
        {
          "name": "stdout",
          "output_type": "stream",
          "text": [
            "For n_clusters = 3, Silhouette Score: 0.5019524848046075\n"
          ]
        }
      ],
      "source": [
        "print(f\"For n_clusters = {n_clusters}, Silhouette Score: {silhouette_score(X, birch.labels_)}\")"
      ]
    },
    {
      "cell_type": "code",
      "execution_count": null,
      "metadata": {
        "colab": {
          "base_uri": "https://localhost:8080/"
        },
        "id": "l6lgdh8A-Cel",
        "outputId": "ee8036c5-3d98-483d-ef54-97096ceade2d"
      },
      "outputs": [
        {
          "name": "stdout",
          "output_type": "stream",
          "text": [
            "For n_clusters = 3, Calinski-Harabasz Score: 458.47251055625765\n"
          ]
        }
      ],
      "source": [
        "print(f\"For n_clusters = {n_clusters}, Calinski-Harabasz Score: {calinski_harabasz_score(X, birch.labels_)}\")"
      ]
    },
    {
      "cell_type": "code",
      "execution_count": null,
      "metadata": {
        "colab": {
          "base_uri": "https://localhost:8080/"
        },
        "id": "LN4F3SN9-Cel",
        "outputId": "de304827-5a21-4d8d-d98e-b5793d176d1f"
      },
      "outputs": [
        {
          "name": "stdout",
          "output_type": "stream",
          "text": [
            "For n_clusters = 3, Davies-Bouldin Score: 0.6258305924331691\n"
          ]
        }
      ],
      "source": [
        "print(f\"For n_clusters = {n_clusters}, Davies-Bouldin Score: {davies_bouldin_score(X, birch.labels_)}\")"
      ]
    },
    {
      "cell_type": "markdown",
      "metadata": {
        "id": "Gi3RWkKZ-TjK"
      },
      "source": [
        "### Density based Clustering"
      ]
    },
    {
      "cell_type": "markdown",
      "metadata": {
        "id": "oYQ8dtN_-bYv"
      },
      "source": [
        "DBSCAN"
      ]
    },
    {
      "cell_type": "code",
      "execution_count": null,
      "metadata": {
        "colab": {
          "base_uri": "https://localhost:8080/",
          "height": 320
        },
        "id": "8deSzcWg6Doi",
        "outputId": "1aa797f9-2e9f-4cf6-d0ae-6ae4c687f25a"
      },
      "outputs": [
        {
          "name": "stderr",
          "output_type": "stream",
          "text": [
            "/usr/local/lib/python3.7/dist-packages/ipykernel_launcher.py:5: RuntimeWarning: invalid value encountered in sqrt\n",
            "  \"\"\"\n"
          ]
        },
        {
          "data": {
            "image/png": "[encoded data removed]",
            "text/plain": [
              "<Figure size 432x288 with 1 Axes>"
            ]
          },
          "metadata": {
            "needs_background": "light"
          },
          "output_type": "display_data"
        }
      ],
      "source": [
        "def k_distances2(x, k):\n",
        "    dim0 = x.shape[0]\n",
        "    dim1 = x.shape[1]\n",
        "    p=-2*x.dot(x.T)+np.sum(x**2, axis=1).T+ np.repeat(np.sum(x**2, axis=1),dim0,axis=0).reshape(dim0,dim0)\n",
        "    p = np.sqrt(p)\n",
        "    p.sort(axis=1)\n",
        "    p=p[:,:k]\n",
        "    pm= p.flatten()\n",
        "    pm= np.sort(pm)\n",
        "    return p, pm\n",
        "m, m2= k_distances2(X, 2)\n",
        "plt.plot(m2)\n",
        "plt.ylabel(\"k-distances\")\n",
        "plt.grid(True)\n",
        "plt.show()"
      ]
    },
    {
      "cell_type": "code",
      "execution_count": null,
      "metadata": {
        "id": "UERzus6u-JYP"
      },
      "outputs": [],
      "source": [
        "from sklearn.cluster import DBSCAN"
      ]
    },
    {
      "cell_type": "code",
      "execution_count": null,
      "metadata": {
        "id": "VIzKbaJ1-g3H"
      },
      "outputs": [],
      "source": [
        "dbscan = DBSCAN(eps=0.6, min_samples=8).fit(X)"
      ]
    },
    {
      "cell_type": "code",
      "execution_count": null,
      "metadata": {
        "colab": {
          "base_uri": "https://localhost:8080/"
        },
        "id": "xankwjp9-5mX",
        "outputId": "7ab5124b-78df-4d0c-fe77-8a6feed6315d"
      },
      "outputs": [
        {
          "name": "stdout",
          "output_type": "stream",
          "text": [
            "Cluster Labels:\n",
            "[ 0  0  0  0  0  0  0  0  0  0  0  0  0  0 -1 -1  0  0  0  0  0  0  0  0\n",
            "  0  0  0  0  0  0  0  0 -1 -1  0  0  0  0  0  0  0 -1  0  0  0  0  0  0\n",
            "  0  0  1  1  1  1  1  1 -1 -1  1  1 -1  1 -1  1  1  1  1  1 -1  1  1  1\n",
            " -1  1  1  1  1  1  1  1  1  1  1  1  1 -1  1 -1  1  1  1  1  1 -1  1  1\n",
            "  1  1 -1  1  1  1  1  1  1 -1 -1 -1 -1 -1  1  1  1 -1 -1  1  1 -1 -1 -1\n",
            "  1 -1 -1  1  1 -1  1  1  1 -1 -1 -1  1  1  1 -1  1  1  1  1  1  1  1  1\n",
            "  1  1  1  1  1  1]\n"
          ]
        }
      ],
      "source": [
        "print(\"Cluster Labels:\")\n",
        "print(dbscan.labels_)"
      ]
    },
    {
      "cell_type": "code",
      "execution_count": null,
      "metadata": {
        "colab": {
          "base_uri": "https://localhost:8080/",
          "height": 265
        },
        "id": "yl4G2ZZh-923",
        "outputId": "2b3cb9bb-fe94-43da-a4b3-3398ef96b008"
      },
      "outputs": [
        {
          "data": {
            "image/png": "[encoded data removed]",
            "text/plain": [
              "<Figure size 432x288 with 1 Axes>"
            ]
          },
          "metadata": {
            "needs_background": "light"
          },
          "output_type": "display_data"
        }
      ],
      "source": [
        "plt.scatter(X[:,0], X[:,1], c=dbscan.labels_, cmap='rainbow')\n",
        "plt.show()"
      ]
    },
    {
      "cell_type": "code",
      "execution_count": null,
      "metadata": {
        "colab": {
          "base_uri": "https://localhost:8080/"
        },
        "id": "85lRJYlX_aGd",
        "outputId": "9a7d51e1-74f2-4b91-eddb-5f8a1d97a78c"
      },
      "outputs": [
        {
          "name": "stdout",
          "output_type": "stream",
          "text": [
            "Silhouette Score: 0.362376823123382\n"
          ]
        }
      ],
      "source": [
        "print(f\"Silhouette Score: {silhouette_score(X, dbscan.labels_)}\")"
      ]
    },
    {
      "cell_type": "code",
      "execution_count": null,
      "metadata": {
        "colab": {
          "base_uri": "https://localhost:8080/"
        },
        "id": "DmY3yEdw_aGd",
        "outputId": "3ac6b797-4f31-4b00-c6e4-0a54b358be11"
      },
      "outputs": [
        {
          "name": "stdout",
          "output_type": "stream",
          "text": [
            "Calinski-Harabasz Score: 84.33804491999796\n"
          ]
        }
      ],
      "source": [
        "print(f\"Calinski-Harabasz Score: {calinski_harabasz_score(X, dbscan.labels_)}\")"
      ]
    },
    {
      "cell_type": "code",
      "execution_count": null,
      "metadata": {
        "colab": {
          "base_uri": "https://localhost:8080/"
        },
        "id": "Hsa-ahRv_aGe",
        "outputId": "a05617d9-29b5-49bd-89d9-a0879241a0fa"
      },
      "outputs": [
        {
          "name": "stdout",
          "output_type": "stream",
          "text": [
            "Davies-Bouldin Score: 7.673865381740794\n"
          ]
        }
      ],
      "source": [
        "print(f\"Davies-Bouldin Score: {davies_bouldin_score(X, dbscan.labels_)}\")"
      ]
    },
    {
      "cell_type": "code",
      "execution_count": null,
      "metadata": {
        "id": "ImNuRTnnGy_H"
      },
      "outputs": [],
      "source": []
    },
    {
      "cell_type": "markdown",
      "metadata": {
        "id": "8NzRL3jpGzd7"
      },
      "source": [
        "**ROUGH**"
      ]
    },
    {
      "cell_type": "code",
      "execution_count": null,
      "metadata": {
        "colab": {
          "base_uri": "https://localhost:8080/"
        },
        "id": "HWGXLx7a_tag",
        "outputId": "a7a30988-8cdb-4e44-f642-5000c74f4b16"
      },
      "outputs": [
        {
          "name": "stdout",
          "output_type": "stream",
          "text": [
            "Performance Evaluation:\n",
            "-----------------------------------\n",
            "-----------------------------------\n",
            "Silhouette Coefficient\n",
            "0.4331447303818133\n",
            "-----------------------------------\n",
            "Calinski Harabasz Score\n",
            "155.78362790355087\n",
            "-----------------------------------\n",
            "Davies Bouldin Score\n",
            "0.8185417093133035\n",
            "-----------------------------------\n",
            "Cohesion Score\n",
            "424.24867916368026\n",
            "-----------------------------------\n",
            "Seperation Score\n",
            "5594.114581997901\n",
            "-----------------------------------\n",
            "1323.4459359447349 424.24867916367975 899.1972567810551 899.197256781056\n"
          ]
        }
      ],
      "source": [
        "!python3 ass4.py"
      ]
    },
    {
      "cell_type": "code",
      "execution_count": 4,
      "metadata": {
        "colab": {
          "base_uri": "https://localhost:8080/"
        },
        "id": "qABD8gl7G4VZ",
        "outputId": "89926bf3-c1cb-4b42-f62d-ed7eaf53ef92"
      },
      "outputs": [
        {
          "name": "stdout",
          "output_type": "stream",
          "text": [
            "<Figure size 640x480 with 1 Axes>\n",
            "KMEANS\n",
            "<Figure size 640x480 with 1 Axes>\n",
            "Evaluation Metrics:\n",
            "-----------------------------------\n",
            "-----------------------------------\n",
            "Silhouette Score: 0.45994823920518635\n",
            "-----------------------------------\n",
            "Calinski-Harabasz Score: 241.90440170183157\n",
            "-----------------------------------\n",
            "Davies-Bouldin Score: 0.8335949464754334\n",
            "-----------------------------------\n",
            "Cohesion Score:  139.82049635974982\n",
            "-----------------------------------\n",
            "Seperation Score 460.1795036402503\n",
            "-----------------------------------\n",
            "AGNES\n",
            "<Figure size 640x480 with 1 Axes>\n",
            "Evaluation Metrics:\n",
            "-----------------------------------\n",
            "-----------------------------------\n",
            "Silhouette Score: 0.4466890410285909\n",
            "-----------------------------------\n",
            "Calinski-Harabasz Score: 222.71916382215363\n",
            "-----------------------------------\n",
            "Davies-Bouldin Score: 0.8034665302876753\n",
            "-----------------------------------\n",
            "Cohesion Score:  146.5143826153116\n",
            "-----------------------------------\n",
            "Seperation Score 453.4856173846885\n",
            "-----------------------------------\n",
            "BIRCH\n",
            "<Figure size 640x480 with 1 Axes>\n",
            "Evaluation Metrics:\n",
            "-----------------------------------\n",
            "-----------------------------------\n",
            "Silhouette Score: 0.4535501305989079\n",
            "-----------------------------------\n",
            "Calinski-Harabasz Score: 219.8187692728255\n",
            "-----------------------------------\n",
            "Davies-Bouldin Score: 0.8218303312861609\n",
            "-----------------------------------\n",
            "Cohesion Score:  143.68576033027296\n",
            "-----------------------------------\n",
            "Seperation Score 456.31423966972716\n",
            "-----------------------------------\n",
            "DBSCAN\n",
            "<Figure size 640x480 with 1 Axes>\n",
            "Evaluation Metrics:\n",
            "-----------------------------------\n",
            "-----------------------------------\n",
            "Silhouette Score: 0.362376823123382\n",
            "-----------------------------------\n",
            "Calinski-Harabasz Score: 84.33804491999796\n",
            "-----------------------------------\n",
            "Davies-Bouldin Score: 7.673865381740794\n",
            "-----------------------------------\n",
            "Cohesion Score:  219.18940658957712\n",
            "-----------------------------------\n",
            "Seperation Score 380.810593410423\n",
            "-----------------------------------\n",
            "OPTICS\n",
            "<Figure size 640x480 with 1 Axes>\n",
            "Evaluation Metrics:\n",
            "-----------------------------------\n",
            "-----------------------------------\n",
            "Silhouette Score: 0.017390378538224213\n",
            "-----------------------------------\n",
            "Calinski-Harabasz Score: 25.745957481328595\n",
            "-----------------------------------\n",
            "Davies-Bouldin Score: 2.1266218235317575\n",
            "-----------------------------------\n",
            "Cohesion Score:  121.62436985767891\n",
            "-----------------------------------\n",
            "Seperation Score 478.3756301423212\n",
            "-----------------------------------\n"
          ]
        }
      ],
      "source": [
        "!python /content/drive/MyDrive/ass_4.py"
      ]
    },
    {
      "cell_type": "code",
      "execution_count": null,
      "metadata": {
        "id": "ZVAq069JMe3-"
      },
      "outputs": [],
      "source": [
        "import numpy as np\n",
        "import pandas as pd\n",
        "import matplotlib.pyplot as plt\n",
        "from scipy.cluster.vq import kmeans\n",
        "\n",
        "from sklearn.datasets import load_iris, load_wine\n",
        "from sklearn.preprocessing import scale\n",
        "from sklearn.metrics import silhouette_score, calinski_harabasz_score, davies_bouldin_score\n",
        "\n",
        "def preprocess_data(key):\n",
        "    data_dict = {\n",
        "        'iris': load_iris(),\n",
        "        'wine': load_wine()\n",
        "    }\n",
        "\n",
        "    data = data_dict[key]\n",
        "    X = scale(data.data)\n",
        "    y = data.target\n",
        "\n",
        "    return X, y\n",
        "\n",
        "def display_scatter_plot(X, model=None, clustered=False):\n",
        "    if not clustered:\n",
        "        plt.scatter(X[:,0], X[:,1], label='True Position')\n",
        "        plt.show()\n",
        "    else:\n",
        "        plt.scatter(X[:,0], X[:,1], c=model.labels_, cmap='rainbow')\n",
        "        plt.show()\n",
        "\n",
        "def evaluation_metrics_1(X, model):\n",
        "    print(\"Evaluation Metrics:\")\n",
        "    print(\"-----------------------------------\")\n",
        "    print(\"-----------------------------------\")\n",
        "    print(f\"Silhouette Score: {silhouette_score(X, model.labels_)}\")\n",
        "    print(\"-----------------------------------\")\n",
        "    print(f\"Calinski-Harabasz Score: {calinski_harabasz_score(X, model.labels_)}\")\n",
        "    print(\"-----------------------------------\")\n",
        "    print(f\"Davies-Bouldin Score: {davies_bouldin_score(X, model.labels_)}\")\n",
        "    print(\"-----------------------------------\")\n",
        "\n",
        "\n",
        "def evaluation_metrics_2(X, model, kmeans=True):\n",
        "    from scipy.cluster.vq import vq\n",
        "    n_clusters = 3\n",
        "    if kmeans:\n",
        "      codebook = model.cluster_centers_\n",
        "    else:\n",
        "      # labels = model.labels_\n",
        "      # labels[labels == -1] = 2\n",
        "      codebook = []\n",
        "      for i in np.unique(model.labels_):\n",
        "        cluster_data = X[model.labels_ == i]\n",
        "        centroid = cluster_data.mean(0)\n",
        "        codebook.append(centroid)\n",
        "\n",
        "    partition, euc_distance_to_centroids = vq(X, codebook)\n",
        "\n",
        "    tss = np.sum((X-X.mean(0))**2)\n",
        "    sse = np.sum(euc_distance_to_centroids**2)\n",
        "    ssb = tss - sse\n",
        "    print(\"Cohesion Score: \", sse)\n",
        "    print('-----------------------------------')\n",
        "    print(\"Seperation Score\", ssb)\n",
        "    print('-----------------------------------')\n",
        "\n",
        "def create_dendrogram(X, y):\n",
        "    from scipy.cluster.hierarchy import dendrogram, linkage\n",
        "    linked = linkage(X, 'single')\n",
        "    labelList = range(X.shape[0]+1)\n",
        "\n",
        "    dendrogram(linked, orientation='top', labels=labelList, distance_sort='descending', show_leaf_counts=True)\n",
        "    plt.savefig(\"dgram_iris.png\")\n",
        "\n",
        "print(\"IRIS DATASET\")\n",
        "X, y = preprocess_data('wine')\n",
        "display_scatter_plot(X)\n",
        "n_clusters = 2\n",
        "\n",
        "print(\"KMEANS\")\n",
        "from sklearn.cluster import KMeans\n",
        "kmeans = KMeans(n_clusters=n_clusters).fit(X)\n",
        "display_scatter_plot(X, kmeans, True)\n",
        "evaluation_metrics_1(X=X, model=kmeans)\n",
        "evaluation_metrics_2(X=X, model=kmeans)\n",
        "\n",
        "print(\"AGNES\")\n",
        "from sklearn.cluster import AgglomerativeClustering\n",
        "cluster = AgglomerativeClustering(n_clusters=n_clusters, affinity='euclidean', linkage='ward').fit(X)\n",
        "display_scatter_plot(X, cluster, True)\n",
        "evaluation_metrics_1(X=X, model=cluster)\n",
        "evaluation_metrics_2(X=X, model=cluster, kmeans=False)\n",
        "\n",
        "print(\"BIRCH\")\n",
        "from sklearn.cluster import Birch\n",
        "birch = Birch(n_clusters=n_clusters).fit(X)\n",
        "display_scatter_plot(X, birch, True)\n",
        "evaluation_metrics_1(X=X, model=birch)\n",
        "evaluation_metrics_2(X=X, model=birch, kmeans=False)\n",
        "\n",
        "print(\"DBSCAN\")\n",
        "from sklearn.cluster import DBSCAN\n",
        "dbscan = DBSCAN(eps=0.6, min_samples=8).fit(X)\n",
        "display_scatter_plot(X, dbscan, True)\n",
        "evaluation_metrics_1(X=X, model=dbscan)\n",
        "evaluation_metrics_2(X=X, model=dbscan, kmeans=False)\n",
        "\n",
        "print(\"OPTICS\")\n",
        "from sklearn.cluster import OPTICS\n",
        "optics = OPTICS(min_samples=8, max_eps=0.6).fit(X)\n",
        "display_scatter_plot(X, optics, True)\n",
        "evaluation_metrics_1(X=X, model=optics)\n",
        "evaluation_metrics_2(X=X, model=optics, kmeans=False)\n"
      ]
    },
    {
      "cell_type": "markdown",
      "metadata": {
        "id": "_XfZw5bGl2-2"
      },
      "source": [
        "## WINE DATASET"
      ]
    },
    {
      "cell_type": "code",
      "execution_count": 20,
      "metadata": {
        "id": "y77Fto8Bl2-8"
      },
      "outputs": [],
      "source": [
        "# IRIS DATASET\n",
        "wine = load_wine()\n",
        "X = wine.data\n",
        "y = wine.target"
      ]
    },
    {
      "cell_type": "code",
      "execution_count": 21,
      "metadata": {
        "colab": {
          "base_uri": "https://localhost:8080/"
        },
        "id": "Qyb63sxqfyO3",
        "outputId": "d30d5c31-9a79-4a83-e8c9-ea510a268cd4"
      },
      "outputs": [
        {
          "data": {
            "text/plain": [
              "array([0, 0, 0, 0, 0, 0, 0, 0, 0, 0, 0, 0, 0, 0, 0, 0, 0, 0, 0, 0, 0, 0,\n",
              "       0, 0, 0, 0, 0, 0, 0, 0, 0, 0, 0, 0, 0, 0, 0, 0, 0, 0, 0, 0, 0, 0,\n",
              "       0, 0, 0, 0, 0, 0, 0, 0, 0, 0, 0, 0, 0, 0, 0, 1, 1, 1, 1, 1, 1, 1,\n",
              "       1, 1, 1, 1, 1, 1, 1, 1, 1, 1, 1, 1, 1, 1, 1, 1, 1, 1, 1, 1, 1, 1,\n",
              "       1, 1, 1, 1, 1, 1, 1, 1, 1, 1, 1, 1, 1, 1, 1, 1, 1, 1, 1, 1, 1, 1,\n",
              "       1, 1, 1, 1, 1, 1, 1, 1, 1, 1, 1, 1, 1, 1, 1, 1, 1, 1, 1, 1, 2, 2,\n",
              "       2, 2, 2, 2, 2, 2, 2, 2, 2, 2, 2, 2, 2, 2, 2, 2, 2, 2, 2, 2, 2, 2,\n",
              "       2, 2, 2, 2, 2, 2, 2, 2, 2, 2, 2, 2, 2, 2, 2, 2, 2, 2, 2, 2, 2, 2,\n",
              "       2, 2])"
            ]
          },
          "execution_count": 21,
          "metadata": {},
          "output_type": "execute_result"
        }
      ],
      "source": [
        "y"
      ]
    },
    {
      "cell_type": "code",
      "execution_count": 22,
      "metadata": {
        "id": "bOJ7t80al2-8"
      },
      "outputs": [],
      "source": [
        "def scale_data(X):\n",
        "  from sklearn.preprocessing import StandardScaler\n",
        "  sc = StandardScaler()\n",
        "  X = sc.fit_transform(X)\n",
        "  return X"
      ]
    },
    {
      "cell_type": "code",
      "execution_count": 6,
      "metadata": {
        "id": "s6IOigRRl2-8"
      },
      "outputs": [],
      "source": [
        "X = scale_data(X)"
      ]
    },
    {
      "cell_type": "code",
      "execution_count": 7,
      "metadata": {
        "colab": {
          "base_uri": "https://localhost:8080/"
        },
        "id": "Xvl3j4PXl2-8",
        "outputId": "7afb419a-2368-4a88-cb1e-d45d8afe769f"
      },
      "outputs": [
        {
          "data": {
            "text/plain": [
              "array([[ 1.51861254, -0.5622498 ,  0.23205254, -1.16959318,  1.91390522,\n",
              "         0.80899739,  1.03481896, -0.65956311,  1.22488398,  0.25171685,\n",
              "         0.36217728,  1.84791957,  1.01300893],\n",
              "       [ 0.24628963, -0.49941338, -0.82799632, -2.49084714,  0.01814502,\n",
              "         0.56864766,  0.73362894, -0.82071924, -0.54472099, -0.29332133,\n",
              "         0.40605066,  1.1134493 ,  0.96524152],\n",
              "       [ 0.19687903,  0.02123125,  1.10933436, -0.2687382 ,  0.08835836,\n",
              "         0.80899739,  1.21553297, -0.49840699,  2.13596773,  0.26901965,\n",
              "         0.31830389,  0.78858745,  1.39514818],\n",
              "       [ 1.69154964, -0.34681064,  0.4879264 , -0.80925118,  0.93091845,\n",
              "         2.49144552,  1.46652465, -0.98187536,  1.03215473,  1.18606801,\n",
              "        -0.42754369,  1.18407144,  2.33457383],\n",
              "       [ 0.29570023,  0.22769377,  1.84040254,  0.45194578,  1.28198515,\n",
              "         0.80899739,  0.66335127,  0.22679555,  0.40140444, -0.31927553,\n",
              "         0.36217728,  0.44960118, -0.03787401]])"
            ]
          },
          "execution_count": 7,
          "metadata": {},
          "output_type": "execute_result"
        }
      ],
      "source": [
        "X[:5]"
      ]
    },
    {
      "cell_type": "code",
      "execution_count": 8,
      "metadata": {
        "colab": {
          "base_uri": "https://localhost:8080/",
          "height": 0
        },
        "id": "X2hW-VkVl2-8",
        "outputId": "d8a09a6e-876b-4368-89c0-1ef6b6ad72ed"
      },
      "outputs": [
        {
          "data": {
            "image/png": "[encoded data removed]",
            "text/plain": [
              "<Figure size 432x288 with 1 Axes>"
            ]
          },
          "metadata": {
            "needs_background": "light"
          },
          "output_type": "display_data"
        }
      ],
      "source": [
        "plt.scatter(X[:,0], X[:,1], label='True Position')\n",
        "plt.show()"
      ]
    },
    {
      "cell_type": "markdown",
      "metadata": {
        "id": "qC9gPuIpl2-8"
      },
      "source": [
        "### Partition Based"
      ]
    },
    {
      "cell_type": "markdown",
      "metadata": {
        "id": "34YJoSoCl2-9"
      },
      "source": [
        "K-Means"
      ]
    },
    {
      "cell_type": "code",
      "execution_count": null,
      "metadata": {
        "id": "zMk_zFOkl2-9"
      },
      "outputs": [],
      "source": [
        "from sklearn.cluster import KMeans"
      ]
    },
    {
      "cell_type": "code",
      "execution_count": null,
      "metadata": {
        "id": "LUKnxq6Wl2-9"
      },
      "outputs": [],
      "source": [
        "n_clusters = 3"
      ]
    },
    {
      "cell_type": "code",
      "execution_count": null,
      "metadata": {
        "colab": {
          "base_uri": "https://localhost:8080/"
        },
        "id": "hek33D4gl2-9",
        "outputId": "bb81a866-9470-4d48-e36f-9a6c713b26d1"
      },
      "outputs": [
        {
          "data": {
            "text/plain": [
              "KMeans(algorithm='auto', copy_x=True, init='k-means++', max_iter=300,\n",
              "       n_clusters=3, n_init=10, n_jobs=None, precompute_distances='auto',\n",
              "       random_state=None, tol=0.0001, verbose=0)"
            ]
          },
          "execution_count": 93,
          "metadata": {},
          "output_type": "execute_result"
        }
      ],
      "source": [
        "kmeans = KMeans(n_clusters=n_clusters)\n",
        "kmeans.fit(X)"
      ]
    },
    {
      "cell_type": "code",
      "execution_count": null,
      "metadata": {
        "colab": {
          "base_uri": "https://localhost:8080/"
        },
        "id": "EGQiLN1ml2-9",
        "outputId": "f49e8103-4d3a-42e1-ba14-16d250cea8c7"
      },
      "outputs": [
        {
          "name": "stdout",
          "output_type": "stream",
          "text": [
            "KMeans Cluster Center:\n",
            "[[-0.05021989 -0.88337647  0.34773781  0.2815273 ]\n",
            " [-1.01457897  0.85326268 -1.30498732 -1.25489349]\n",
            " [ 1.13597027  0.08842168  0.99615451  1.01752612]]\n"
          ]
        }
      ],
      "source": [
        "print(\"KMeans Cluster Center:\")\n",
        "print(kmeans.cluster_centers_)"
      ]
    },
    {
      "cell_type": "code",
      "execution_count": null,
      "metadata": {
        "colab": {
          "base_uri": "https://localhost:8080/"
        },
        "id": "weZA-QTIl2-9",
        "outputId": "8d4cfbe6-93da-4b9d-bbfa-40003db2aa5a"
      },
      "outputs": [
        {
          "name": "stdout",
          "output_type": "stream",
          "text": [
            "Cluster Labels:\n",
            "[1 1 1 1 1 1 1 1 1 1 1 1 1 1 1 1 1 1 1 1 1 1 1 1 1 1 1 1 1 1 1 1 1 1 1 1 1\n",
            " 1 1 1 1 1 1 1 1 1 1 1 1 1 2 2 2 0 0 0 2 0 0 0 0 0 0 0 0 2 0 0 0 0 2 0 0 0\n",
            " 0 2 2 2 0 0 0 0 0 0 0 2 2 0 0 0 0 0 0 0 0 0 0 0 0 0 2 0 2 2 2 2 0 2 2 2 2\n",
            " 2 2 0 0 2 2 2 2 0 2 0 2 0 2 2 0 2 2 2 2 2 2 0 0 2 2 2 0 2 2 2 0 2 2 2 0 2\n",
            " 2 0]\n"
          ]
        }
      ],
      "source": [
        "print(\"Cluster Labels:\")\n",
        "print(kmeans.labels_)"
      ]
    },
    {
      "cell_type": "code",
      "execution_count": null,
      "metadata": {
        "colab": {
          "base_uri": "https://localhost:8080/",
          "height": 265
        },
        "id": "z_pQ_akvl2-9",
        "outputId": "976e33ff-17fa-4cf4-cc56-ba16336e7497"
      },
      "outputs": [
        {
          "data": {
            "image/png": "[encoded data removed]",
            "text/plain": [
              "<Figure size 432x288 with 1 Axes>"
            ]
          },
          "metadata": {
            "needs_background": "light"
          },
          "output_type": "display_data"
        }
      ],
      "source": [
        "plt.scatter(X[:,0], X[:,1], c=kmeans.labels_, cmap='rainbow')\n",
        "plt.show()"
      ]
    },
    {
      "cell_type": "code",
      "execution_count": null,
      "metadata": {
        "colab": {
          "base_uri": "https://localhost:8080/"
        },
        "id": "JS_ZcHjZl2-9",
        "outputId": "c0c316d9-b8b9-4dae-c050-8371addf8928"
      },
      "outputs": [
        {
          "name": "stdout",
          "output_type": "stream",
          "text": [
            "For n_clusters = 3, Silhouette Score: 0.45994823920518635\n"
          ]
        }
      ],
      "source": [
        "print(f\"For n_clusters = {n_clusters}, Silhouette Score: {silhouette_score(X, kmeans.labels_)}\")"
      ]
    },
    {
      "cell_type": "code",
      "execution_count": null,
      "metadata": {
        "colab": {
          "base_uri": "https://localhost:8080/"
        },
        "id": "qsIU-Bwdl2-9",
        "outputId": "c99dd26e-2a27-4233-d784-aae665ac0b09"
      },
      "outputs": [
        {
          "name": "stdout",
          "output_type": "stream",
          "text": [
            "For n_clusters = 3, Calinski-Harabasz Score: 241.90440170183157\n"
          ]
        }
      ],
      "source": [
        "print(f\"For n_clusters = {n_clusters}, Calinski-Harabasz Score: {calinski_harabasz_score(X, kmeans.labels_)}\")"
      ]
    },
    {
      "cell_type": "code",
      "execution_count": null,
      "metadata": {
        "colab": {
          "base_uri": "https://localhost:8080/"
        },
        "id": "6BsC1vLdl2-9",
        "outputId": "d499b435-ea7a-4f44-ccdf-c120f90b9cdf"
      },
      "outputs": [
        {
          "name": "stdout",
          "output_type": "stream",
          "text": [
            "For n_clusters = 3, Davies-Bouldin Score: 0.8335949464754334\n"
          ]
        }
      ],
      "source": [
        "print(f\"For n_clusters = {n_clusters}, Davies-Bouldin Score: {davies_bouldin_score(X, kmeans.labels_)}\")"
      ]
    },
    {
      "cell_type": "markdown",
      "metadata": {
        "id": "BK9HEfWxl2--"
      },
      "source": [
        "K-Medoids"
      ]
    },
    {
      "cell_type": "code",
      "execution_count": 60,
      "metadata": {
        "colab": {
          "base_uri": "https://localhost:8080/"
        },
        "id": "u013hdhvl2_C",
        "outputId": "5f598f65-fdd2-4b67-83cd-2e069f853dd3"
      },
      "outputs": [
        {
          "name": "stdout",
          "output_type": "stream",
          "text": [
            "Collecting scikit-learn-extra\n",
            "  Downloading scikit_learn_extra-0.2.0-cp37-cp37m-manylinux2010_x86_64.whl (1.7 MB)\n",
            "\u001b[K     |████████████████████████████████| 1.7 MB 28.7 MB/s \n",
            "\u001b[?25hCollecting scikit-learn>=0.23.0\n",
            "  Downloading scikit_learn-1.0.1-cp37-cp37m-manylinux_2_12_x86_64.manylinux2010_x86_64.whl (23.2 MB)\n",
            "\u001b[K     |████████████████████████████████| 23.2 MB 1.6 MB/s \n",
            "\u001b[?25hRequirement already satisfied: numpy>=1.13.3 in /usr/local/lib/python3.7/dist-packages (from scikit-learn-extra) (1.19.5)\n",
            "Requirement already satisfied: scipy>=0.19.1 in /usr/local/lib/python3.7/dist-packages (from scikit-learn-extra) (1.4.1)\n",
            "Collecting threadpoolctl>=2.0.0\n",
            "  Downloading threadpoolctl-3.0.0-py3-none-any.whl (14 kB)\n",
            "Requirement already satisfied: joblib>=0.11 in /usr/local/lib/python3.7/dist-packages (from scikit-learn>=0.23.0->scikit-learn-extra) (1.0.1)\n",
            "Installing collected packages: threadpoolctl, scikit-learn, scikit-learn-extra\n",
            "  Attempting uninstall: scikit-learn\n",
            "    Found existing installation: scikit-learn 0.22.2.post1\n",
            "    Uninstalling scikit-learn-0.22.2.post1:\n",
            "      Successfully uninstalled scikit-learn-0.22.2.post1\n",
            "Successfully installed scikit-learn-1.0.1 scikit-learn-extra-0.2.0 threadpoolctl-3.0.0\n"
          ]
        }
      ],
      "source": [
        "!python3 -m pip install scikit-learn-extra"
      ]
    },
    {
      "cell_type": "code",
      "execution_count": 61,
      "metadata": {
        "id": "mI4Fs7zUl2_C"
      },
      "outputs": [],
      "source": [
        "from sklearn_extra.cluster import KMedoids"
      ]
    },
    {
      "cell_type": "code",
      "execution_count": 62,
      "metadata": {
        "id": "PBiHRm27l2_C"
      },
      "outputs": [],
      "source": [
        "n_clusters = 3"
      ]
    },
    {
      "cell_type": "code",
      "execution_count": 63,
      "metadata": {
        "colab": {
          "base_uri": "https://localhost:8080/"
        },
        "id": "Z-QzKkhxl2_C",
        "outputId": "b94f5fd7-d255-4951-cd1d-7c6bafefb22e"
      },
      "outputs": [
        {
          "data": {
            "text/plain": [
              "KMedoids(init='heuristic', max_iter=300, method='alternate', metric='euclidean',\n",
              "         n_clusters=3, random_state=None)"
            ]
          },
          "execution_count": 63,
          "metadata": {},
          "output_type": "execute_result"
        }
      ],
      "source": [
        "kmeds = KMedoids(n_clusters=n_clusters)\n",
        "kmeds.fit(X)"
      ]
    },
    {
      "cell_type": "code",
      "execution_count": 64,
      "metadata": {
        "colab": {
          "base_uri": "https://localhost:8080/"
        },
        "id": "3Eoxv05jl2_C",
        "outputId": "81e3a5e8-ceac-4e28-d9fd-cc639742ab83"
      },
      "outputs": [
        {
          "name": "stdout",
          "output_type": "stream",
          "text": [
            "KMediods Cluster Center:\n",
            "[[ 4.93342620e-01  1.41260912e+00  4.14819587e-01  1.05251577e+00\n",
            "   1.58571702e-01 -7.93334154e-01 -1.28434417e+00  5.49107795e-01\n",
            "  -3.16950051e-01  9.69783022e-01 -1.12951789e+00 -1.48544548e+00\n",
            "   9.89339909e-03]\n",
            " [-9.27212090e-01 -5.44296535e-01 -9.01103141e-01 -1.48624201e-01\n",
            "  -1.38612179e+00 -1.03368389e+00  7.33234123e-04  6.56394314e-02\n",
            "   6.85084581e-02 -7.17239912e-01  1.86683727e-01  7.88587455e-01\n",
            "  -7.54385098e-01]\n",
            " [ 5.92163817e-01 -4.72483484e-01  1.58945723e-01  3.01803287e-01\n",
            "   1.81450206e-02  6.48764240e-01  9.54501620e-01 -8.20719236e-01\n",
            "   4.71487808e-01  1.81290590e-02  3.62177276e-01  1.21232030e+00\n",
            "   5.51257335e-01]]\n"
          ]
        }
      ],
      "source": [
        "print(\"KMediods Cluster Center:\")\n",
        "print(kmeds.cluster_centers_)"
      ]
    },
    {
      "cell_type": "code",
      "execution_count": 65,
      "metadata": {
        "colab": {
          "base_uri": "https://localhost:8080/"
        },
        "id": "19cTsPIxl2_D",
        "outputId": "e85ca80e-530d-4a3a-abcf-633798dd8407"
      },
      "outputs": [
        {
          "name": "stdout",
          "output_type": "stream",
          "text": [
            "Cluster Labels:\n",
            "[2 2 2 2 2 2 2 2 2 2 2 2 2 2 2 2 2 2 2 2 2 2 2 2 2 2 2 2 2 2 2 2 2 2 2 2 2\n",
            " 2 2 2 2 2 2 2 2 2 2 2 2 2 2 2 2 2 2 2 2 2 2 1 1 1 1 2 1 2 1 1 1 2 1 2 1 2\n",
            " 2 1 1 1 1 2 1 1 1 0 1 1 1 1 1 1 1 1 1 1 1 2 0 1 2 1 1 1 1 1 1 1 1 1 1 2 2\n",
            " 1 1 1 1 1 1 1 1 1 2 2 0 1 2 1 1 1 1 1 0 0 0 0 0 0 0 0 0 0 0 0 0 0 0 0 0 0\n",
            " 0 0 0 0 0 0 0 0 0 0 0 0 0 0 0 0 0 0 0 0 0 0 0 0 0 0 0 0 0 0]\n"
          ]
        }
      ],
      "source": [
        "print(\"Cluster Labels:\")\n",
        "print(kmeds.labels_)"
      ]
    },
    {
      "cell_type": "code",
      "execution_count": 66,
      "metadata": {
        "colab": {
          "base_uri": "https://localhost:8080/",
          "height": 0
        },
        "id": "DOTI2BuUl2_D",
        "outputId": "e85bd3d7-3e1a-4c0c-fd8e-b66f143286b1"
      },
      "outputs": [
        {
          "data": {
            "image/png": "[encoded data removed]",
            "text/plain": [
              "<Figure size 432x288 with 1 Axes>"
            ]
          },
          "metadata": {
            "needs_background": "light"
          },
          "output_type": "display_data"
        }
      ],
      "source": [
        "plt.scatter(X[:,0], X[:,1], c=kmeds.labels_, cmap='rainbow')\n",
        "plt.show()"
      ]
    },
    {
      "cell_type": "code",
      "execution_count": 67,
      "metadata": {
        "colab": {
          "base_uri": "https://localhost:8080/"
        },
        "id": "GasCKYZll2_D",
        "outputId": "4c768b16-4665-435e-dc50-b6a11907108c"
      },
      "outputs": [
        {
          "name": "stdout",
          "output_type": "stream",
          "text": [
            "For n_clusters = 3, Silhouette Score: 0.26597740204536796\n"
          ]
        }
      ],
      "source": [
        "print(f\"For n_clusters = {n_clusters}, Silhouette Score: {silhouette_score(X, kmeds.labels_)}\")"
      ]
    },
    {
      "cell_type": "code",
      "execution_count": 68,
      "metadata": {
        "colab": {
          "base_uri": "https://localhost:8080/"
        },
        "id": "i5v5PI6zl2_D",
        "outputId": "d2e2e100-4ba2-4383-fc80-b867a06a301e"
      },
      "outputs": [
        {
          "name": "stdout",
          "output_type": "stream",
          "text": [
            "For n_clusters = 3, Calinski-Harabasz Score: 66.7519655942218\n"
          ]
        }
      ],
      "source": [
        "print(f\"For n_clusters = {n_clusters}, Calinski-Harabasz Score: {calinski_harabasz_score(X, kmeds.labels_)}\")"
      ]
    },
    {
      "cell_type": "code",
      "execution_count": 69,
      "metadata": {
        "colab": {
          "base_uri": "https://localhost:8080/"
        },
        "id": "gc2URJJRl2_D",
        "outputId": "f29888f0-e008-4a51-9a5c-99e876c8f23e"
      },
      "outputs": [
        {
          "name": "stdout",
          "output_type": "stream",
          "text": [
            "For n_clusters = 3, Davies-Bouldin Score: 1.415990244064887\n"
          ]
        }
      ],
      "source": [
        "print(f\"For n_clusters = {n_clusters}, Davies-Bouldin Score: {davies_bouldin_score(X, kmeds.labels_)}\")"
      ]
    },
    {
      "cell_type": "code",
      "execution_count": 71,
      "metadata": {
        "colab": {
          "base_uri": "https://localhost:8080/"
        },
        "id": "yK4L_wkRnrHz",
        "outputId": "72b4fd18-9f17-4aca-9d08-333ea22bea04"
      },
      "outputs": [
        {
          "name": "stdout",
          "output_type": "stream",
          "text": [
            "Cohesion Score:  1564.6063492696073\n",
            "-----------------------------------\n",
            "Seperation Score 749.3936507303927\n",
            "-----------------------------------\n"
          ]
        }
      ],
      "source": [
        "from scipy.cluster.vq import vq\n",
        "codebook = kmeds.cluster_centers_\n",
        "partition, euc_distance_to_centroids = vq(X, codebook)\n",
        "\n",
        "tss = np.sum((X-X.mean(0))**2)\n",
        "sse = np.sum(euc_distance_to_centroids**2)\n",
        "ssb = tss - sse\n",
        "print(\"Cohesion Score: \", sse)\n",
        "print('-----------------------------------')\n",
        "print(\"Seperation Score\", ssb)\n",
        "print('-----------------------------------')"
      ]
    },
    {
      "cell_type": "markdown",
      "metadata": {
        "id": "gTnFzZjPl2_D"
      },
      "source": [
        "### KMeans++"
      ]
    },
    {
      "cell_type": "code",
      "execution_count": null,
      "metadata": {
        "colab": {
          "base_uri": "https://localhost:8080/"
        },
        "id": "VF2FbcS0l2_D",
        "outputId": "3a386fd2-7bdb-4a09-edfe-7ceafc5eacb4"
      },
      "outputs": [
        {
          "data": {
            "text/plain": [
              "array([[-0.90068117,  1.01900435, -1.34022653, -1.3154443 ],\n",
              "       [-1.14301691, -0.13197948, -1.34022653, -1.3154443 ],\n",
              "       [-1.38535265,  0.32841405, -1.39706395, -1.3154443 ],\n",
              "       [-1.50652052,  0.09821729, -1.2833891 , -1.3154443 ],\n",
              "       [-1.02184904,  1.24920112, -1.34022653, -1.3154443 ]])"
            ]
          },
          "execution_count": 36,
          "metadata": {},
          "output_type": "execute_result"
        }
      ],
      "source": [
        "X[:5]"
      ]
    },
    {
      "cell_type": "code",
      "execution_count": 24,
      "metadata": {
        "colab": {
          "base_uri": "https://localhost:8080/",
          "height": 0
        },
        "id": "MxzmsZaJl2_D",
        "outputId": "bad8bab2-7486-45af-d2ef-ec66c79cec41"
      },
      "outputs": [
        {
          "data": {
            "image/png": "[encoded data removed]",
            "text/plain": [
              "<Figure size 432x288 with 1 Axes>"
            ]
          },
          "metadata": {
            "needs_background": "light"
          },
          "output_type": "display_data"
        },
        {
          "data": {
            "image/png": "[encoded data removed]",
            "text/plain": [
              "<Figure size 432x288 with 1 Axes>"
            ]
          },
          "metadata": {
            "needs_background": "light"
          },
          "output_type": "display_data"
        },
        {
          "data": {
            "image/png": "[encoded data removed]",
            "text/plain": [
              "<Figure size 432x288 with 1 Axes>"
            ]
          },
          "metadata": {
            "needs_background": "light"
          },
          "output_type": "display_data"
        }
      ],
      "source": [
        "import sys\n",
        "# function to plot the selected centroids\n",
        "def plot(data, centroids):\n",
        "    plt.scatter(data[:, 0], data[:, 1], marker = '.',\n",
        "                color = 'gray', label = 'data points')\n",
        "    plt.scatter(centroids[:-1, 0], centroids[:-1, 1],\n",
        "                color = 'black', label = 'previously selected centroids')\n",
        "    plt.scatter(centroids[-1, 0], centroids[-1, 1],\n",
        "                color = 'red', label = 'next centroid')\n",
        "    plt.title('Select % d centroid'%(centroids.shape[0]))\n",
        "     \n",
        "    plt.legend()\n",
        "    plt.xlim(-4, 4)\n",
        "    plt.ylim(-4, 4)\n",
        "    plt.show()\n",
        "          \n",
        "# function to compute euclidean distance\n",
        "def distance(p1, p2):\n",
        "    return np.sum((p1 - p2)**2)\n",
        "  \n",
        "# initialization algorithm\n",
        "def initialize(data, k):\n",
        "    '''\n",
        "    initialized the centroids for K-means++\n",
        "    inputs:\n",
        "        data - numpy array of data points having shape (200, 2)\n",
        "        k - number of clusters\n",
        "    '''\n",
        "    ## initialize the centroids list and add\n",
        "    ## a randomly selected data point to the list\n",
        "    centroids = []\n",
        "    centroids.append(data[np.random.randint(\n",
        "            data.shape[0]), :])\n",
        "    plot(data, np.array(centroids))\n",
        "  \n",
        "    ## compute remaining k - 1 centroids\n",
        "    for c_id in range(k - 1):\n",
        "         \n",
        "        ## initialize a list to store distances of data\n",
        "        ## points from nearest centroid\n",
        "        dist = []\n",
        "        for i in range(data.shape[0]):\n",
        "            point = data[i, :]\n",
        "            d = sys.maxsize\n",
        "             \n",
        "            ## compute distance of 'point' from each of the previously\n",
        "            ## selected centroid and store the minimum distance\n",
        "            for j in range(len(centroids)):\n",
        "                temp_dist = distance(point, centroids[j])\n",
        "                d = min(d, temp_dist)\n",
        "            dist.append(d)\n",
        "             \n",
        "        ## select data point with maximum distance as our next centroid\n",
        "        dist = np.array(dist)\n",
        "        next_centroid = data[np.argmax(dist), :]\n",
        "        centroids.append(next_centroid)\n",
        "        dist = []\n",
        "        plot(data, np.array(centroids))\n",
        "    return centroids\n",
        "  \n",
        "# call the initialize function to get the centroids\n",
        "centroids = initialize(X, k = 3)"
      ]
    },
    {
      "cell_type": "code",
      "execution_count": 10,
      "metadata": {
        "id": "l3TBt9xrl2_E"
      },
      "outputs": [],
      "source": [
        "centroids = np.asarray(centroids)"
      ]
    },
    {
      "cell_type": "code",
      "execution_count": 12,
      "metadata": {
        "colab": {
          "base_uri": "https://localhost:8080/"
        },
        "id": "psNsiV4Tl2_E",
        "outputId": "199cf386-7a80-4c64-a7b7-6e833a0da1d4"
      },
      "outputs": [
        {
          "name": "stderr",
          "output_type": "stream",
          "text": [
            "/usr/local/lib/python3.7/dist-packages/ipykernel_launcher.py:3: RuntimeWarning: Explicit initial center position passed: performing only one init in k-means instead of n_init=10\n",
            "  This is separate from the ipykernel package so we can avoid doing imports until\n"
          ]
        },
        {
          "data": {
            "text/plain": [
              "KMeans(algorithm='auto', copy_x=True,\n",
              "       init=array([[-0.77898029, -1.25345042, -3.67916223, -2.67101814, -0.82441507,\n",
              "        -0.50491447, -1.46505818, -0.65956311, -2.05151334, -1.34446639,\n",
              "         0.40605066, -1.11821035, -0.72254016],\n",
              "       [-1.77954492, -0.25704433,  3.15632527,  2.70408323,  1.35219849,\n",
              "         1.41788338,  3.06283174,  0.87142004,  0.48900865,  0.40744204,\n",
              "        -0.12042998,  1.52305772, -0.89768732],\n",
              "       [ 1.70390229, -0.4186237 ,  0.0492855 , -2.25061915,  0.1585717 ,\n",
              "         1.61016317,  1.61711966, -0.57898505,  2.39878035,  1.05629702,\n",
              "         1.06415147,  0.54847218,  2.54793491]]),\n",
              "       max_iter=300, n_clusters=3, n_init=10, n_jobs=None,\n",
              "       precompute_distances='auto', random_state=None, tol=0.0001, verbose=0)"
            ]
          },
          "execution_count": 12,
          "metadata": {},
          "output_type": "execute_result"
        }
      ],
      "source": [
        "from sklearn.cluster import KMeans\n",
        "kmeans_pp = KMeans(n_clusters=3, init=centroids)\n",
        "kmeans_pp.fit(X)"
      ]
    },
    {
      "cell_type": "code",
      "execution_count": 13,
      "metadata": {
        "colab": {
          "base_uri": "https://localhost:8080/"
        },
        "id": "TVJFycedl2_E",
        "outputId": "64c939ee-459e-4b3f-929d-0cf65b100a27"
      },
      "outputs": [
        {
          "name": "stdout",
          "output_type": "stream",
          "text": [
            "KMediods Cluster Center:\n",
            "[[ 0.16490746  0.87154706  0.18689833  0.52436746 -0.07547277 -0.97933029\n",
            "  -1.21524764  0.72606354 -0.77970639  0.94153874 -1.16478865 -1.29241163\n",
            "  -0.40708796]\n",
            " [-0.94014377 -0.36925222 -0.39392459  0.2501918  -0.57428004 -0.03397922\n",
            "   0.08356049  0.00898298  0.00992315 -0.883509    0.43799597  0.29533594\n",
            "  -0.77836832]\n",
            " [ 0.82157017 -0.33042473  0.24887871 -0.67865104  0.6444926   0.82730976\n",
            "   0.89888505 -0.59689129  0.62111023  0.13533493  0.49797586  0.74621417\n",
            "   1.12027076]]\n"
          ]
        }
      ],
      "source": [
        "print(\"KMediods Cluster Center:\")\n",
        "print(kmeans_pp.cluster_centers_)"
      ]
    },
    {
      "cell_type": "code",
      "execution_count": 14,
      "metadata": {
        "colab": {
          "base_uri": "https://localhost:8080/"
        },
        "id": "qs7SIB3Pl2_E",
        "outputId": "e05f5d2d-4a75-4f01-830c-699721d09d73"
      },
      "outputs": [
        {
          "name": "stdout",
          "output_type": "stream",
          "text": [
            "Cluster Labels:\n",
            "[2 2 2 2 2 2 2 2 2 2 2 2 2 2 2 2 2 2 2 2 2 2 2 2 2 2 2 2 2 2 2 2 2 2 2 2 2\n",
            " 2 2 2 2 2 2 2 2 2 2 2 2 2 2 2 2 2 2 2 2 2 2 1 1 0 1 1 1 1 1 1 1 2 1 1 1 2\n",
            " 1 1 1 1 2 1 1 1 1 0 1 1 1 1 1 1 1 1 1 1 1 2 1 1 1 1 1 1 1 1 1 1 1 1 1 1 1\n",
            " 1 1 1 1 1 1 1 0 1 1 1 1 1 1 1 1 1 1 1 0 0 0 0 0 0 0 0 0 0 0 0 0 0 0 0 0 0\n",
            " 0 0 0 0 0 0 0 0 0 0 0 0 0 0 0 0 0 0 0 0 0 0 0 0 0 0 0 0 0 0]\n"
          ]
        }
      ],
      "source": [
        "print(\"Cluster Labels:\")\n",
        "print(kmeans_pp.labels_)"
      ]
    },
    {
      "cell_type": "code",
      "execution_count": 15,
      "metadata": {
        "colab": {
          "base_uri": "https://localhost:8080/",
          "height": 0
        },
        "id": "1r0vrPsMl2_E",
        "outputId": "e3615806-ea24-4458-fc46-9a2f03cc51cd"
      },
      "outputs": [
        {
          "data": {
            "image/png": "[encoded data removed]",
            "text/plain": [
              "<Figure size 432x288 with 1 Axes>"
            ]
          },
          "metadata": {
            "needs_background": "light"
          },
          "output_type": "display_data"
        }
      ],
      "source": [
        "plt.scatter(X[:,0], X[:,1], c=kmeans_pp.labels_, cmap='rainbow')\n",
        "plt.show()"
      ]
    },
    {
      "cell_type": "code",
      "execution_count": 25,
      "metadata": {
        "colab": {
          "base_uri": "https://localhost:8080/"
        },
        "id": "LwqtpQu1l2_E",
        "outputId": "78f04173-14a6-4787-e985-3665ad21113c"
      },
      "outputs": [
        {
          "name": "stdout",
          "output_type": "stream",
          "text": [
            "For n_clusters = 3, Silhouette Score: 0.2844212860533542\n"
          ]
        }
      ],
      "source": [
        "print(f\"For n_clusters = {n_clusters}, Silhouette Score: {silhouette_score(X, kmeans_pp.labels_)}\")"
      ]
    },
    {
      "cell_type": "code",
      "execution_count": 26,
      "metadata": {
        "colab": {
          "base_uri": "https://localhost:8080/"
        },
        "id": "QWtTpDBVl2_E",
        "outputId": "bdd6c24a-2899-4c5f-ca3f-17f70207a536"
      },
      "outputs": [
        {
          "name": "stdout",
          "output_type": "stream",
          "text": [
            "For n_clusters = 3, Calinski-Harabasz Score: 70.68777673224996\n"
          ]
        }
      ],
      "source": [
        "print(f\"For n_clusters = {n_clusters}, Calinski-Harabasz Score: {calinski_harabasz_score(X, kmeans_pp.labels_)}\")"
      ]
    },
    {
      "cell_type": "code",
      "execution_count": 27,
      "metadata": {
        "colab": {
          "base_uri": "https://localhost:8080/"
        },
        "id": "qZgckD7tl2_E",
        "outputId": "eb3fe027-41c3-464e-8a1b-6bc00244ce86"
      },
      "outputs": [
        {
          "name": "stdout",
          "output_type": "stream",
          "text": [
            "For n_clusters = 3, Davies-Bouldin Score: 1.3938008647586722\n"
          ]
        }
      ],
      "source": [
        "print(f\"For n_clusters = {n_clusters}, Davies-Bouldin Score: {davies_bouldin_score(X, kmeans_pp.labels_)}\")"
      ]
    },
    {
      "cell_type": "code",
      "execution_count": 29,
      "metadata": {
        "colab": {
          "base_uri": "https://localhost:8080/"
        },
        "id": "8l2ewFZhl2_E",
        "outputId": "1644d51e-d951-473e-f4e3-2ccdb601e535"
      },
      "outputs": [
        {
          "name": "stdout",
          "output_type": "stream",
          "text": [
            "/content/drive/MyDrive\n"
          ]
        }
      ],
      "source": [
        "cd /content/drive/MyDrive/"
      ]
    },
    {
      "cell_type": "code",
      "execution_count": 34,
      "metadata": {
        "colab": {
          "base_uri": "https://localhost:8080/"
        },
        "id": "OUbXPZGhl2_F",
        "outputId": "f5539cc7-7050-4317-fc25-30ca0b4bac08"
      },
      "outputs": [
        {
          "name": "stdout",
          "output_type": "stream",
          "text": [
            "Cohesion Score:  1279.9661527749456\n",
            "-----------------------------------\n",
            "Seperation Score 1034.0338472250544\n",
            "-----------------------------------\n"
          ]
        }
      ],
      "source": [
        "from scipy.cluster.vq import vq\n",
        "codebook = kmeans_pp.cluster_centers_\n",
        "partition, euc_distance_to_centroids = vq(X, codebook)\n",
        "\n",
        "tss = np.sum((X-X.mean(0))**2)\n",
        "sse = np.sum(euc_distance_to_centroids**2)\n",
        "ssb = tss - sse\n",
        "print(\"Cohesion Score: \", sse)\n",
        "print('-----------------------------------')\n",
        "print(\"Seperation Score\", ssb)\n",
        "print('-----------------------------------')"
      ]
    },
    {
      "cell_type": "code",
      "execution_count": null,
      "metadata": {
        "colab": {
          "base_uri": "https://localhost:8080/"
        },
        "id": "iS10Dvstl2_F",
        "outputId": "a496f475-2d90-4b82-fa05-19d51889fb04"
      },
      "outputs": [
        {
          "name": "stdout",
          "output_type": "stream",
          "text": [
            "Evaluation Metrics:\n",
            "-----------------------------------\n",
            "-----------------------------------\n",
            "Silhouette Score: 0.45994823920518635\n",
            "-----------------------------------\n",
            "Calinski-Harabasz Score: 241.90440170183157\n",
            "-----------------------------------\n",
            "Davies-Bouldin Score: 0.8335949464754334\n",
            "-----------------------------------\n",
            "Cohesion Score:  139.82049635974982\n",
            "-----------------------------------\n",
            "Seperation Score 460.1795036402503\n",
            "-----------------------------------\n"
          ]
        }
      ],
      "source": [
        "!python /content/drive/MyDrive/ass_4.py"
      ]
    },
    {
      "cell_type": "markdown",
      "metadata": {
        "id": "whX1DM03l2_G"
      },
      "source": [
        "### Bisecting K-Means"
      ]
    },
    {
      "cell_type": "code",
      "execution_count": 48,
      "metadata": {
        "colab": {
          "base_uri": "https://localhost:8080/",
          "height": 0
        },
        "id": "DQMBoMR9l2_G",
        "outputId": "424af895-ed83-457b-e248-e40353c6a8ca"
      },
      "outputs": [
        {
          "data": {
            "image/png": "[encoded data removed]",
            "text/plain": [
              "<Figure size 432x288 with 1 Axes>"
            ]
          },
          "metadata": {
            "needs_background": "light"
          },
          "output_type": "display_data"
        },
        {
          "data": {
            "image/png": "[encoded data removed]",
            "text/plain": [
              "<Figure size 432x288 with 1 Axes>"
            ]
          },
          "metadata": {
            "needs_background": "light"
          },
          "output_type": "display_data"
        }
      ],
      "source": [
        "from sklearn.cluster import KMeans\n",
        "\n",
        "def plot(data, centroids, next_centroid):\n",
        "    plt.scatter(data[:, 0], data[:, 1], marker = '.',\n",
        "                color = 'gray', label = 'data points')\n",
        "    plt.scatter(centroids[:, 0], centroids[:, 1],\n",
        "                color = 'black', label = 'previously selected centroids')\n",
        "    plt.scatter(next_centroid[0], next_centroid[1],\n",
        "                color = 'red', label = 'next centroid')\n",
        "    plt.title('Iteration: % d'%(centroids.shape[0]))\n",
        "     \n",
        "    plt.legend()\n",
        "    plt.xlim(-4, 4)\n",
        "    plt.ylim(-4, 5)\n",
        "    plt.show()\n",
        "\n",
        "K = 3\n",
        "current_clusters = 1\n",
        "centroids = []\n",
        "clusters = []\n",
        "X_ = X\n",
        "\n",
        "while current_clusters != K:\n",
        "    kmeans = KMeans(n_clusters=2).fit(X_)\n",
        "    current_clusters += 1\n",
        "    # split += 1\n",
        "    cluster_centers = kmeans.cluster_centers_\n",
        "    # print(cluster_centers)\n",
        "\n",
        "    # identify next cluster for kmeans\n",
        "    sse = [0]*2\n",
        "    for point, label in zip(X_, kmeans.labels_):\n",
        "        sse[label] += np.square(point-cluster_centers[label]).sum()\n",
        "    chosen_cluster = np.argmax(sse, axis=0)\n",
        "    # print(chosen_cluster)\n",
        "\n",
        "    # save the other cluster\n",
        "    centroids.append(cluster_centers[1-chosen_cluster])\n",
        "    clusters.append(X_[kmeans.labels_ == 1-chosen_cluster])\n",
        "\n",
        "    # reassign chosen cluster for next iteration\n",
        "    plot(X_, np.array(centroids), cluster_centers[chosen_cluster])\n",
        "    chosen_cluster_data = X_[kmeans.labels_ == chosen_cluster]\n",
        "    X_ = chosen_cluster_data\n",
        "    # plot_data = clusters.append(X_)\n",
        "    # print(len(clusters))\n",
        "\n",
        "centroids.append(X_.mean(0))\n",
        "clusters.append(X_)"
      ]
    },
    {
      "cell_type": "code",
      "execution_count": 49,
      "metadata": {
        "colab": {
          "base_uri": "https://localhost:8080/"
        },
        "id": "EsxFhLwRl2_G",
        "outputId": "88796e07-1a36-44d0-9de1-a2a2553ccee9"
      },
      "outputs": [
        {
          "data": {
            "text/plain": [
              "[array([-0.07297886,  0.66451047,  0.18987553,  0.51662255, -0.15468782,\n",
              "        -0.94370681, -1.04663574,  0.83794915, -0.71615568,  0.54346866,\n",
              "        -0.88207198, -1.06931809, -0.45318098]),\n",
              " array([ 0.83523208, -0.30380968,  0.36470604, -0.61019129,  0.5775868 ,\n",
              "         0.88523736,  0.97781956, -0.56208965,  0.58028658,  0.17106348,\n",
              "         0.47398365,  0.77924711,  1.12518529]),\n",
              " array([-0.92236791, -0.47758784, -0.68536635,  0.08336068, -0.5050132 ,\n",
              "         0.12659266,  0.1452257 , -0.38464973,  0.207301  , -0.90061566,\n",
              "         0.54799397,  0.41553638, -0.7902887 ])]"
            ]
          },
          "execution_count": 49,
          "metadata": {},
          "output_type": "execute_result"
        }
      ],
      "source": [
        "centroids"
      ]
    },
    {
      "cell_type": "code",
      "execution_count": 50,
      "metadata": {
        "colab": {
          "base_uri": "https://localhost:8080/"
        },
        "id": "Jgvu-TREl2_G",
        "outputId": "c77a2ebc-24f7-4463-c649-d9e07c1eca38"
      },
      "outputs": [
        {
          "data": {
            "text/plain": [
              "3"
            ]
          },
          "execution_count": 50,
          "metadata": {},
          "output_type": "execute_result"
        }
      ],
      "source": [
        "len(clusters)"
      ]
    },
    {
      "cell_type": "code",
      "execution_count": 51,
      "metadata": {
        "id": "LyhhsiO3l2_G"
      },
      "outputs": [],
      "source": [
        "labels = np.zeros(X.shape[0])\n",
        "labels[clusters[0].shape[0]:clusters[0].shape[0]+clusters[1].shape[0]] = 1\n",
        "labels[clusters[0].shape[0]+clusters[1].shape[0]:] = 2"
      ]
    },
    {
      "cell_type": "code",
      "execution_count": 52,
      "metadata": {
        "id": "41dTF6RFl2_G"
      },
      "outputs": [],
      "source": [
        "labels = labels.astype(int)"
      ]
    },
    {
      "cell_type": "code",
      "execution_count": 53,
      "metadata": {
        "id": "Rn0E0npcl2_G"
      },
      "outputs": [],
      "source": [
        "X_ = np.array([item for sublist in clusters for item in sublist])\n"
      ]
    },
    {
      "cell_type": "code",
      "execution_count": 54,
      "metadata": {
        "colab": {
          "base_uri": "https://localhost:8080/",
          "height": 0
        },
        "id": "eGgWS04-l2_H",
        "outputId": "ffe78ed1-ea3a-4a95-918e-44c446b5070a"
      },
      "outputs": [
        {
          "data": {
            "image/png": "[encoded data removed]",
            "text/plain": [
              "<Figure size 432x288 with 1 Axes>"
            ]
          },
          "metadata": {
            "needs_background": "light"
          },
          "output_type": "display_data"
        }
      ],
      "source": [
        "plt.scatter(X_[:,0], X_[:,1], c=labels, cmap='rainbow')\n",
        "plt.show()"
      ]
    },
    {
      "cell_type": "code",
      "execution_count": 55,
      "metadata": {
        "colab": {
          "base_uri": "https://localhost:8080/"
        },
        "id": "2UdxZU5ol2_H",
        "outputId": "78bad3c9-ad09-42ed-e709-31915253a5f5"
      },
      "outputs": [
        {
          "name": "stdout",
          "output_type": "stream",
          "text": [
            "Silhouette Score: 0.2494951780393308\n"
          ]
        }
      ],
      "source": [
        "print(f\"Silhouette Score: {silhouette_score(X, labels)}\")"
      ]
    },
    {
      "cell_type": "code",
      "execution_count": 56,
      "metadata": {
        "colab": {
          "base_uri": "https://localhost:8080/"
        },
        "id": "of-MasfFl2_H",
        "outputId": "330c5d52-3a49-4f2e-e26b-654807d70e2d"
      },
      "outputs": [
        {
          "name": "stdout",
          "output_type": "stream",
          "text": [
            "Calinski-Harabasz Score: 57.90053970822046\n"
          ]
        }
      ],
      "source": [
        "print(f\"Calinski-Harabasz Score: {calinski_harabasz_score(X, labels)}\")"
      ]
    },
    {
      "cell_type": "code",
      "execution_count": 57,
      "metadata": {
        "colab": {
          "base_uri": "https://localhost:8080/"
        },
        "id": "aeVVuZIjl2_H",
        "outputId": "b55e29ca-d269-40a8-fb0f-79c83956e78f"
      },
      "outputs": [
        {
          "name": "stdout",
          "output_type": "stream",
          "text": [
            "Davies-Bouldin Score: 1.574223178306152\n"
          ]
        }
      ],
      "source": [
        "print(f\"Davies-Bouldin Score: {davies_bouldin_score(X, labels)}\")"
      ]
    },
    {
      "cell_type": "code",
      "execution_count": 59,
      "metadata": {
        "colab": {
          "base_uri": "https://localhost:8080/"
        },
        "id": "BzM3tZFjl2_H",
        "outputId": "0c6e4bc4-a3b0-475d-e347-37aacaea2d28"
      },
      "outputs": [
        {
          "name": "stdout",
          "output_type": "stream",
          "text": [
            "Cohesion Score:  1303.5527135207053\n",
            "-----------------------------------\n",
            "Seperation Score 1010.4472864792947\n",
            "-----------------------------------\n"
          ]
        }
      ],
      "source": [
        "from scipy.cluster.vq import vq\n",
        "codebook = centroids\n",
        "partition, euc_distance_to_centroids = vq(X_, codebook)\n",
        "\n",
        "tss = np.sum((X_-X_.mean(0))**2)\n",
        "sse = np.sum(euc_distance_to_centroids**2)\n",
        "ssb = tss - sse\n",
        "print(\"Cohesion Score: \", sse)\n",
        "print('-----------------------------------')\n",
        "print(\"Seperation Score\", ssb)\n",
        "print('-----------------------------------')\n"
      ]
    },
    {
      "cell_type": "code",
      "execution_count": null,
      "metadata": {
        "id": "levJLPQVl2_H"
      },
      "outputs": [],
      "source": [
        "plt.scatter(X[:,0], X[:,1], c=kmeans.labels_, cmap='rainbow')\n",
        "plt.show()"
      ]
    },
    {
      "cell_type": "markdown",
      "metadata": {
        "id": "lLquQYm1l2_H"
      },
      "source": [
        "### Hierarchical"
      ]
    },
    {
      "cell_type": "code",
      "execution_count": null,
      "metadata": {
        "id": "IC_olSZsl2_H"
      },
      "outputs": [],
      "source": [
        "from scipy.cluster.hierarchy import dendrogram, linkage"
      ]
    },
    {
      "cell_type": "code",
      "execution_count": null,
      "metadata": {
        "id": "MOxpM1qsl2_H"
      },
      "outputs": [],
      "source": [
        "linked = linkage(X, 'single')"
      ]
    },
    {
      "cell_type": "code",
      "execution_count": null,
      "metadata": {
        "id": "feGkwFu1l2_I"
      },
      "outputs": [],
      "source": [
        "labelList = range(X.shape[0]+1)"
      ]
    },
    {
      "cell_type": "code",
      "execution_count": null,
      "metadata": {
        "id": "Z2K-ttPfl2_I"
      },
      "outputs": [],
      "source": [
        "plt.figure(figsize=(10, 7))\n",
        "dendrogram(linked,\n",
        "           orientation ='top',\n",
        "           labels=labelList,\n",
        "           distance_sort='descending',\n",
        "           show_leaf_counts=True)\n",
        "plt.show()"
      ]
    },
    {
      "cell_type": "markdown",
      "metadata": {
        "id": "xp-5jLZ5l2_I"
      },
      "source": [
        "AGNES - Agglomerative Clustering"
      ]
    },
    {
      "cell_type": "code",
      "execution_count": null,
      "metadata": {
        "id": "hLmeOb59l2_I"
      },
      "outputs": [],
      "source": [
        "from sklearn.cluster import AgglomerativeClustering"
      ]
    },
    {
      "cell_type": "code",
      "execution_count": null,
      "metadata": {
        "colab": {
          "base_uri": "https://localhost:8080/"
        },
        "id": "vYnNTRi0l2_I",
        "outputId": "5b4be275-29d2-431a-ead2-68dcae610ff1"
      },
      "outputs": [
        {
          "data": {
            "text/plain": [
              "array([1, 1, 1, 1, 1, 1, 1, 1, 1, 1, 1, 1, 1, 1, 1, 1, 1, 1, 1, 1, 1, 1,\n",
              "       1, 1, 1, 1, 1, 1, 1, 1, 1, 1, 1, 1, 1, 1, 1, 1, 1, 1, 1, 1, 1, 1,\n",
              "       1, 1, 1, 1, 1, 1, 0, 0, 0, 0, 0, 0, 0, 0, 0, 0, 0, 0, 0, 0, 0, 0,\n",
              "       0, 0, 0, 0, 0, 0, 0, 0, 0, 0, 0, 2, 0, 0, 0, 0, 0, 0, 0, 0, 0, 0,\n",
              "       0, 0, 0, 0, 0, 0, 0, 0, 0, 0, 0, 0, 2, 0, 2, 2, 2, 2, 0, 2, 2, 2,\n",
              "       2, 2, 2, 0, 0, 2, 2, 2, 2, 0, 2, 0, 2, 0, 2, 2, 0, 0, 2, 2, 2, 2,\n",
              "       2, 0, 0, 2, 2, 2, 0, 2, 2, 2, 0, 2, 2, 2, 0, 2, 2, 0])"
            ]
          },
          "execution_count": 85,
          "metadata": {},
          "output_type": "execute_result"
        }
      ],
      "source": [
        "cluster = AgglomerativeClustering(n_clusters=3, affinity='euclidean', linkage='ward')\n",
        "cluster.fit_predict(X)"
      ]
    },
    {
      "cell_type": "code",
      "execution_count": null,
      "metadata": {
        "colab": {
          "base_uri": "https://localhost:8080/"
        },
        "id": "NvPNIc1Ml2_I",
        "outputId": "280b2dde-ee99-47f8-eba5-7278b5389b76"
      },
      "outputs": [
        {
          "name": "stdout",
          "output_type": "stream",
          "text": [
            "Cluster Labels:\n",
            "[1 1 1 1 1 1 1 1 1 1 1 1 1 1 1 1 1 1 1 1 1 1 1 1 1 1 1 1 1 1 1 1 1 1 1 1 1\n",
            " 1 1 1 1 1 1 1 1 1 1 1 1 1 0 0 0 0 0 0 0 0 0 0 0 0 0 0 0 0 0 0 0 0 0 0 0 0\n",
            " 0 0 0 2 0 0 0 0 0 0 0 0 0 0 0 0 0 0 0 0 0 0 0 0 0 0 2 0 2 2 2 2 0 2 2 2 2\n",
            " 2 2 0 0 2 2 2 2 0 2 0 2 0 2 2 0 0 2 2 2 2 2 0 0 2 2 2 0 2 2 2 0 2 2 2 0 2\n",
            " 2 0]\n"
          ]
        }
      ],
      "source": [
        "print(\"Cluster Labels:\")\n",
        "print(cluster.labels_)"
      ]
    },
    {
      "cell_type": "code",
      "execution_count": null,
      "metadata": {
        "colab": {
          "base_uri": "https://localhost:8080/",
          "height": 268
        },
        "id": "yEJhSc6tl2_I",
        "outputId": "76b320e6-4d15-4b46-d62a-eca13c8703ad"
      },
      "outputs": [
        {
          "data": {
            "image/png": "[encoded data removed]",
            "text/plain": [
              "<Figure size 432x288 with 1 Axes>"
            ]
          },
          "metadata": {
            "needs_background": "light"
          },
          "output_type": "display_data"
        }
      ],
      "source": [
        "plt.scatter(X[:,0], X[:, 1], c=cluster.labels_, cmap='rainbow')\n",
        "plt.show()"
      ]
    },
    {
      "cell_type": "code",
      "execution_count": null,
      "metadata": {
        "colab": {
          "base_uri": "https://localhost:8080/"
        },
        "id": "E8YtyVCql2_I",
        "outputId": "2d2636c5-7ecd-417b-98c8-e4d8ff90867b"
      },
      "outputs": [
        {
          "name": "stdout",
          "output_type": "stream",
          "text": [
            "For n_clusters = 3, Silhouette Score: 0.5543236611296415\n"
          ]
        }
      ],
      "source": [
        "print(f\"For n_clusters = {n_clusters}, Silhouette Score: {silhouette_score(X, cluster.labels_)}\")"
      ]
    },
    {
      "cell_type": "code",
      "execution_count": null,
      "metadata": {
        "colab": {
          "base_uri": "https://localhost:8080/"
        },
        "id": "VIT2zJall2_I",
        "outputId": "b0ec5f6f-7c9d-4dfd-b6ff-391245c3dfa6"
      },
      "outputs": [
        {
          "name": "stdout",
          "output_type": "stream",
          "text": [
            "For n_clusters = 3, Calinski-Harabasz Score: 558.0580408128307\n"
          ]
        }
      ],
      "source": [
        "print(f\"For n_clusters = {n_clusters}, Calinski-Harabasz Score: {calinski_harabasz_score(X, cluster.labels_)}\")"
      ]
    },
    {
      "cell_type": "code",
      "execution_count": null,
      "metadata": {
        "colab": {
          "base_uri": "https://localhost:8080/"
        },
        "id": "PyuDYTZ2l2_I",
        "outputId": "bcfc6091-b6ad-4618-f090-128be9519e97"
      },
      "outputs": [
        {
          "name": "stdout",
          "output_type": "stream",
          "text": [
            "For n_clusters = 3, Davies-Bouldin Score: 0.6562564540642065\n"
          ]
        }
      ],
      "source": [
        "print(f\"For n_clusters = {n_clusters}, Davies-Bouldin Score: {davies_bouldin_score(X, cluster.labels_)}\")"
      ]
    },
    {
      "cell_type": "markdown",
      "metadata": {
        "id": "b613F_z7l2_J"
      },
      "source": [
        "BIRCH"
      ]
    },
    {
      "cell_type": "code",
      "execution_count": null,
      "metadata": {
        "id": "uc0iRa7Hl2_J"
      },
      "outputs": [],
      "source": [
        "from sklearn.cluster import Birch"
      ]
    },
    {
      "cell_type": "code",
      "execution_count": null,
      "metadata": {
        "id": "AirCPI-8l2_J"
      },
      "outputs": [],
      "source": [
        "n_clusters = 3"
      ]
    },
    {
      "cell_type": "code",
      "execution_count": null,
      "metadata": {
        "colab": {
          "base_uri": "https://localhost:8080/"
        },
        "id": "2BKmgnyal2_J",
        "outputId": "273d0023-b559-4499-f41f-339889cf6af1"
      },
      "outputs": [
        {
          "data": {
            "text/plain": [
              "Birch(branching_factor=50, compute_labels=True, copy=True, n_clusters=3,\n",
              "      threshold=0.5)"
            ]
          },
          "execution_count": 108,
          "metadata": {},
          "output_type": "execute_result"
        }
      ],
      "source": [
        "birch = Birch(n_clusters=n_clusters)\n",
        "birch.fit(X)"
      ]
    },
    {
      "cell_type": "code",
      "execution_count": null,
      "metadata": {
        "colab": {
          "base_uri": "https://localhost:8080/"
        },
        "id": "OcbyuJ0cl2_J",
        "outputId": "129a1de6-b05b-41c8-9c1e-f2660a0de321"
      },
      "outputs": [
        {
          "name": "stdout",
          "output_type": "stream",
          "text": [
            "Cluster Labels:\n",
            "[2 2 2 2 2 2 2 2 2 2 2 2 2 2 2 2 2 2 2 2 2 2 2 2 2 2 2 2 2 2 2 2 2 2 2 2 2\n",
            " 2 2 2 2 2 2 2 2 2 2 2 2 2 0 0 0 1 0 0 0 1 0 1 1 0 1 0 1 0 0 1 0 1 0 1 0 0\n",
            " 0 0 0 0 0 1 1 1 1 0 0 0 0 0 1 1 1 0 1 1 1 1 1 0 1 1 0 0 0 0 0 0 1 0 0 0 0\n",
            " 0 0 0 0 0 0 0 0 0 0 0 0 0 0 0 0 0 0 0 0 0 0 0 0 0 0 0 0 0 0 0 0 0 0 0 0 0\n",
            " 0 0]\n"
          ]
        }
      ],
      "source": [
        "print(\"Cluster Labels:\")\n",
        "print(birch.labels_)"
      ]
    },
    {
      "cell_type": "code",
      "execution_count": null,
      "metadata": {
        "colab": {
          "base_uri": "https://localhost:8080/",
          "height": 268
        },
        "id": "7FhHLLZal2_J",
        "outputId": "c6ece486-e189-4ca5-a7c3-cfb65f478b86"
      },
      "outputs": [
        {
          "data": {
            "image/png": "[encoded data removed]",
            "text/plain": [
              "<Figure size 432x288 with 1 Axes>"
            ]
          },
          "metadata": {
            "needs_background": "light"
          },
          "output_type": "display_data"
        }
      ],
      "source": [
        "plt.scatter(X[:,0], X[:,1], c=birch.labels_, cmap='rainbow')\n",
        "plt.show()"
      ]
    },
    {
      "cell_type": "code",
      "execution_count": null,
      "metadata": {
        "colab": {
          "base_uri": "https://localhost:8080/"
        },
        "id": "hmXervmyl2_J",
        "outputId": "e75a6189-c90e-425c-e188-15a696063538"
      },
      "outputs": [
        {
          "name": "stdout",
          "output_type": "stream",
          "text": [
            "For n_clusters = 3, Silhouette Score: 0.5019524848046075\n"
          ]
        }
      ],
      "source": [
        "print(f\"For n_clusters = {n_clusters}, Silhouette Score: {silhouette_score(X, birch.labels_)}\")"
      ]
    },
    {
      "cell_type": "code",
      "execution_count": null,
      "metadata": {
        "colab": {
          "base_uri": "https://localhost:8080/"
        },
        "id": "vdvxcDRkl2_J",
        "outputId": "ee8036c5-3d98-483d-ef54-97096ceade2d"
      },
      "outputs": [
        {
          "name": "stdout",
          "output_type": "stream",
          "text": [
            "For n_clusters = 3, Calinski-Harabasz Score: 458.47251055625765\n"
          ]
        }
      ],
      "source": [
        "print(f\"For n_clusters = {n_clusters}, Calinski-Harabasz Score: {calinski_harabasz_score(X, birch.labels_)}\")"
      ]
    },
    {
      "cell_type": "code",
      "execution_count": null,
      "metadata": {
        "colab": {
          "base_uri": "https://localhost:8080/"
        },
        "id": "w2bSlnd_l2_J",
        "outputId": "de304827-5a21-4d8d-d98e-b5793d176d1f"
      },
      "outputs": [
        {
          "name": "stdout",
          "output_type": "stream",
          "text": [
            "For n_clusters = 3, Davies-Bouldin Score: 0.6258305924331691\n"
          ]
        }
      ],
      "source": [
        "print(f\"For n_clusters = {n_clusters}, Davies-Bouldin Score: {davies_bouldin_score(X, birch.labels_)}\")"
      ]
    },
    {
      "cell_type": "markdown",
      "metadata": {
        "id": "rd6bMIw3l2_K"
      },
      "source": [
        "### Density based Clustering"
      ]
    },
    {
      "cell_type": "markdown",
      "metadata": {
        "id": "QiI23IGSl2_K"
      },
      "source": [
        "DBSCAN"
      ]
    },
    {
      "cell_type": "code",
      "execution_count": 75,
      "metadata": {
        "colab": {
          "base_uri": "https://localhost:8080/",
          "height": 0
        },
        "id": "_3HJBVw7l2_K",
        "outputId": "8cf3425c-be9d-4699-d939-2858b4aedf2d"
      },
      "outputs": [
        {
          "name": "stderr",
          "output_type": "stream",
          "text": [
            "/usr/local/lib/python3.7/dist-packages/ipykernel_launcher.py:5: RuntimeWarning: invalid value encountered in sqrt\n",
            "  \"\"\"\n"
          ]
        },
        {
          "data": {
            "image/png": "[encoded data removed]",
            "text/plain": [
              "<Figure size 432x288 with 1 Axes>"
            ]
          },
          "metadata": {
            "needs_background": "light"
          },
          "output_type": "display_data"
        }
      ],
      "source": [
        "def k_distances2(x, k):\n",
        "    dim0 = x.shape[0]\n",
        "    dim1 = x.shape[1]\n",
        "    p=-2*x.dot(x.T)+np.sum(x**2, axis=1).T+ np.repeat(np.sum(x**2, axis=1),dim0,axis=0).reshape(dim0,dim0)\n",
        "    p = np.sqrt(p)\n",
        "    p.sort(axis=1)\n",
        "    p=p[:,:k]\n",
        "    pm= p.flatten()\n",
        "    pm= np.sort(pm)\n",
        "    return p, pm\n",
        "m, m2= k_distances2(X, 2)\n",
        "plt.plot(m2)\n",
        "plt.ylabel(\"k-distances\")\n",
        "plt.grid(True)\n",
        "plt.show()"
      ]
    },
    {
      "cell_type": "code",
      "execution_count": 76,
      "metadata": {
        "id": "9fv2GbLQl2_K"
      },
      "outputs": [],
      "source": [
        "from sklearn.cluster import DBSCAN"
      ]
    },
    {
      "cell_type": "code",
      "execution_count": 96,
      "metadata": {
        "id": "lskit7tTl2_K"
      },
      "outputs": [],
      "source": [
        "dbscan = DBSCAN(eps=3, min_samples=26).fit(X)"
      ]
    },
    {
      "cell_type": "code",
      "execution_count": 97,
      "metadata": {
        "colab": {
          "base_uri": "https://localhost:8080/"
        },
        "id": "2D1U5EyVl2_K",
        "outputId": "231de701-4507-4cf0-821b-a65f0963f7fb"
      },
      "outputs": [
        {
          "name": "stdout",
          "output_type": "stream",
          "text": [
            "Cluster Labels:\n",
            "[ 0  0  0  0  0  0  0  0  0  0  0  0  0  0  0  0  0  0  0  0  0  0  0  0\n",
            "  0 -1  0  0  0  0  0  0  0  0  0  0  0  0  0  0  0  0  0  0  0  0  0  0\n",
            "  0  0  0  0  0  0  0  0  0  0  0 -1 -1 -1  0  0  0  0 -1  0 -1 -1  0  0\n",
            "  0 -1  0  0  0  0 -1  0  0  0  0  0  0  0  0  0  0  0  0  0  0  0  0 -1\n",
            " -1  0  0 -1  0  0  0  0  0  0  0  0  0 -1 -1  0  0  0  0  0  0  0  1  0\n",
            "  0 -1  0 -1 -1  0  0  0  0  0  1  1  1  1  1  1  1  1  1  1  1  1  1  1\n",
            "  1  1  1  1  1  1  1  1 -1  1  1  1  1  1 -1 -1  1  1  1  1  1  1  1  1\n",
            "  1  1  1  1  1  1  1  1  1  1]\n"
          ]
        }
      ],
      "source": [
        "print(\"Cluster Labels:\")\n",
        "print(dbscan.labels_)"
      ]
    },
    {
      "cell_type": "code",
      "execution_count": 98,
      "metadata": {
        "colab": {
          "base_uri": "https://localhost:8080/",
          "height": 0
        },
        "id": "gLwCSQWyl2_K",
        "outputId": "7c15d37c-a57d-4c13-bc73-26078f697fa3"
      },
      "outputs": [
        {
          "data": {
            "image/png": "[encoded data removed]",
            "text/plain": [
              "<Figure size 432x288 with 1 Axes>"
            ]
          },
          "metadata": {
            "needs_background": "light"
          },
          "output_type": "display_data"
        }
      ],
      "source": [
        "plt.scatter(X[:,0], X[:,1], c=dbscan.labels_, cmap='rainbow')\n",
        "plt.show()"
      ]
    },
    {
      "cell_type": "code",
      "execution_count": 99,
      "metadata": {
        "colab": {
          "base_uri": "https://localhost:8080/"
        },
        "id": "78-tXfYdl2_K",
        "outputId": "070c3ce4-ba60-4ded-b49e-f18e102c7bd7"
      },
      "outputs": [
        {
          "name": "stdout",
          "output_type": "stream",
          "text": [
            "Silhouette Score: 0.22490883609486223\n"
          ]
        }
      ],
      "source": [
        "\n",
        "print(f\"Silhouette Score: {silhouette_score(X, dbscan.labels_)}\")"
      ]
    },
    {
      "cell_type": "code",
      "execution_count": 100,
      "metadata": {
        "colab": {
          "base_uri": "https://localhost:8080/"
        },
        "id": "d-phJSHll2_K",
        "outputId": "03594b29-a099-42f0-e6e5-f2cdfede7cfc"
      },
      "outputs": [
        {
          "name": "stdout",
          "output_type": "stream",
          "text": [
            "Calinski-Harabasz Score: 32.18955089061222\n"
          ]
        }
      ],
      "source": [
        "print(f\"Calinski-Harabasz Score: {calinski_harabasz_score(X, dbscan.labels_)}\")"
      ]
    },
    {
      "cell_type": "code",
      "execution_count": 101,
      "metadata": {
        "colab": {
          "base_uri": "https://localhost:8080/"
        },
        "id": "CK0ztQGAl2_L",
        "outputId": "9b0fe8fa-a140-4122-de55-6fcb56b39d38"
      },
      "outputs": [
        {
          "name": "stdout",
          "output_type": "stream",
          "text": [
            "Davies-Bouldin Score: 3.6152937209272955\n"
          ]
        }
      ],
      "source": [
        "print(f\"Davies-Bouldin Score: {davies_bouldin_score(X, dbscan.labels_)}\")"
      ]
    },
    {
      "cell_type": "markdown",
      "metadata": {
        "id": "msmBeReNl2_L"
      },
      "source": [
        "**ROUGH**"
      ]
    },
    {
      "cell_type": "code",
      "execution_count": null,
      "metadata": {
        "id": "VV6lXxtal2_L"
      },
      "outputs": [],
      "source": [
        "!python3 ass4.py"
      ]
    },
    {
      "cell_type": "code",
      "execution_count": null,
      "metadata": {
        "id": "7Q9TySR2l2_L"
      },
      "outputs": [],
      "source": [
        "!python /content/drive/MyDrive/ass_4.py"
      ]
    },
    {
      "cell_type": "code",
      "execution_count": 105,
      "metadata": {
        "colab": {
          "base_uri": "https://localhost:8080/"
        },
        "id": "nY7beqKPnp5p",
        "outputId": "421a1088-0b65-4d29-d73a-0cbe1d2324bb"
      },
      "outputs": [
        {
          "data": {
            "text/plain": [
              "13"
            ]
          },
          "execution_count": 105,
          "metadata": {},
          "output_type": "execute_result"
        }
      ],
      "source": [
        "X.shape[1]"
      ]
    },
    {
      "cell_type": "code",
      "execution_count": 23,
      "metadata": {
        "colab": {
          "base_uri": "https://localhost:8080/",
          "height": 0
        },
        "id": "nLG3TYJil2_L",
        "outputId": "a2727686-7c8d-47d3-a6de-a7cdf907c172"
      },
      "outputs": [
        {
          "name": "stdout",
          "output_type": "stream",
          "text": [
            "IRIS DATASET\n"
          ]
        },
        {
          "data": {
            "image/png": "[encoded data removed]",
            "text/plain": [
              "<Figure size 432x288 with 1 Axes>"
            ]
          },
          "metadata": {
            "needs_background": "light"
          },
          "output_type": "display_data"
        },
        {
          "name": "stdout",
          "output_type": "stream",
          "text": [
            "KMEANS\n"
          ]
        },
        {
          "data": {
            "image/png": "[encoded data removed]",
            "text/plain": [
              "<Figure size 432x288 with 1 Axes>"
            ]
          },
          "metadata": {
            "needs_background": "light"
          },
          "output_type": "display_data"
        },
        {
          "name": "stdout",
          "output_type": "stream",
          "text": [
            "Evaluation Metrics:\n",
            "-----------------------------------\n",
            "-----------------------------------\n",
            "Silhouette Score: 0.2848589191898987\n",
            "-----------------------------------\n",
            "Calinski-Harabasz Score: 70.9400080031512\n",
            "-----------------------------------\n",
            "Davies-Bouldin Score: 1.3891879777181646\n",
            "-----------------------------------\n",
            "Cohesion Score:  1277.9284888446423\n",
            "-----------------------------------\n",
            "Seperation Score 1036.0715111553577\n",
            "-----------------------------------\n",
            "AGNES\n"
          ]
        },
        {
          "data": {
            "image/png": "[encoded data removed]",
            "text/plain": [
              "<Figure size 432x288 with 1 Axes>"
            ]
          },
          "metadata": {
            "needs_background": "light"
          },
          "output_type": "display_data"
        },
        {
          "name": "stdout",
          "output_type": "stream",
          "text": [
            "Evaluation Metrics:\n",
            "-----------------------------------\n",
            "-----------------------------------\n",
            "Silhouette Score: 0.2774439826952266\n",
            "-----------------------------------\n",
            "Calinski-Harabasz Score: 67.6474675044098\n",
            "-----------------------------------\n",
            "Davies-Bouldin Score: 1.4185919431857321\n",
            "-----------------------------------\n",
            "Cohesion Score:  1284.4160690158492\n",
            "-----------------------------------\n",
            "Seperation Score 1029.5839309841508\n",
            "-----------------------------------\n",
            "BIRCH\n"
          ]
        },
        {
          "data": {
            "image/png": "[encoded data removed]",
            "text/plain": [
              "<Figure size 432x288 with 1 Axes>"
            ]
          },
          "metadata": {
            "needs_background": "light"
          },
          "output_type": "display_data"
        },
        {
          "name": "stdout",
          "output_type": "stream",
          "text": [
            "Evaluation Metrics:\n",
            "-----------------------------------\n",
            "-----------------------------------\n",
            "Silhouette Score: 0.2774439826952266\n",
            "-----------------------------------\n",
            "Calinski-Harabasz Score: 67.6474675044098\n",
            "-----------------------------------\n",
            "Davies-Bouldin Score: 1.4185919431857321\n",
            "-----------------------------------\n",
            "Cohesion Score:  1284.4160690158492\n",
            "-----------------------------------\n",
            "Seperation Score 1029.5839309841508\n",
            "-----------------------------------\n",
            "DBSCAN\n"
          ]
        },
        {
          "data": {
            "image/png": "[encoded data removed]",
            "text/plain": [
              "<Figure size 432x288 with 1 Axes>"
            ]
          },
          "metadata": {
            "needs_background": "light"
          },
          "output_type": "display_data"
        },
        {
          "name": "stdout",
          "output_type": "stream",
          "text": [
            "Evaluation Metrics:\n",
            "-----------------------------------\n",
            "-----------------------------------\n",
            "Silhouette Score: 0.22490883609486223\n",
            "-----------------------------------\n",
            "Calinski-Harabasz Score: 32.18955089061222\n",
            "-----------------------------------\n",
            "Davies-Bouldin Score: 3.6152937209272955\n",
            "-----------------------------------\n",
            "Cohesion Score:  1611.002310855536\n",
            "-----------------------------------\n",
            "Seperation Score 702.997689144464\n",
            "-----------------------------------\n",
            "OPTICS\n"
          ]
        },
        {
          "data": {
            "image/png": "[encoded data removed]",
            "text/plain": [
              "<Figure size 432x288 with 1 Axes>"
            ]
          },
          "metadata": {
            "needs_background": "light"
          },
          "output_type": "display_data"
        },
        {
          "name": "stdout",
          "output_type": "stream",
          "text": [
            "Evaluation Metrics:\n",
            "-----------------------------------\n",
            "-----------------------------------\n",
            "Silhouette Score: 0.19886298678377584\n",
            "-----------------------------------\n",
            "Calinski-Harabasz Score: 28.105332462765027\n",
            "-----------------------------------\n",
            "Davies-Bouldin Score: 3.099526456109523\n",
            "-----------------------------------\n",
            "Cohesion Score:  1589.2652532102247\n",
            "-----------------------------------\n",
            "Seperation Score 724.7347467897753\n",
            "-----------------------------------\n"
          ]
        }
      ],
      "source": [
        "import numpy as np\n",
        "import pandas as pd\n",
        "import matplotlib.pyplot as plt\n",
        "from scipy.cluster.vq import kmeans\n",
        "\n",
        "from sklearn.datasets import load_iris, load_wine\n",
        "from sklearn.preprocessing import scale\n",
        "from sklearn.metrics import silhouette_score, calinski_harabasz_score, davies_bouldin_score\n",
        "\n",
        "def preprocess_data(key):\n",
        "    data_dict = {\n",
        "        'iris': load_iris(),\n",
        "        'wine': load_wine()\n",
        "    }\n",
        "\n",
        "    data = data_dict[key]\n",
        "    X = scale(data.data)\n",
        "    y = data.target\n",
        "\n",
        "    return X, y\n",
        "\n",
        "def display_scatter_plot(X, model=None, clustered=False):\n",
        "    if not clustered:\n",
        "        plt.scatter(X[:,0], X[:,1], label='True Position')\n",
        "        plt.show()\n",
        "    else:\n",
        "        plt.scatter(X[:,0], X[:,1], c=model.labels_, cmap='rainbow')\n",
        "        plt.show()\n",
        "\n",
        "def evaluation_metrics_1(X, model):\n",
        "    print(\"Evaluation Metrics:\")\n",
        "    print(\"-----------------------------------\")\n",
        "    print(\"-----------------------------------\")\n",
        "    print(f\"Silhouette Score: {silhouette_score(X, model.labels_)}\")\n",
        "    print(\"-----------------------------------\")\n",
        "    print(f\"Calinski-Harabasz Score: {calinski_harabasz_score(X, model.labels_)}\")\n",
        "    print(\"-----------------------------------\")\n",
        "    print(f\"Davies-Bouldin Score: {davies_bouldin_score(X, model.labels_)}\")\n",
        "    print(\"-----------------------------------\")\n",
        "\n",
        "\n",
        "def evaluation_metrics_2(X, model, kmeans=True):\n",
        "    from scipy.cluster.vq import vq\n",
        "    n_clusters = 3\n",
        "    if kmeans:\n",
        "      codebook = model.cluster_centers_\n",
        "    else:\n",
        "      # labels = model.labels_\n",
        "      # labels[labels == -1] = 2\n",
        "      codebook = []\n",
        "      for i in np.unique(model.labels_):\n",
        "        cluster_data = X[model.labels_ == i]\n",
        "        centroid = cluster_data.mean(0)\n",
        "        codebook.append(centroid)\n",
        "\n",
        "    partition, euc_distance_to_centroids = vq(X, codebook)\n",
        "\n",
        "    tss = np.sum((X-X.mean(0))**2)\n",
        "    sse = np.sum(euc_distance_to_centroids**2)\n",
        "    ssb = tss - sse\n",
        "    print(\"Cohesion Score: \", sse)\n",
        "    print('-----------------------------------')\n",
        "    print(\"Seperation Score\", ssb)\n",
        "    print('-----------------------------------')\n",
        "\n",
        "def create_dendrogram(X, y):\n",
        "    from scipy.cluster.hierarchy import dendrogram, linkage\n",
        "    linked = linkage(X, 'single')\n",
        "    labelList = range(X.shape[0]+1)\n",
        "\n",
        "    dendrogram(linked, orientation='top', labels=labelList, distance_sort='descending', show_leaf_counts=True)\n",
        "    plt.savefig(\"dgram_iris.png\")\n",
        "\n",
        "print(\"IRIS DATASET\")\n",
        "X, y = preprocess_data('wine')\n",
        "display_scatter_plot(X)\n",
        "n_clusters = 3\n",
        "\n",
        "print(\"KMEANS\")\n",
        "from sklearn.cluster import KMeans\n",
        "kmeans = KMeans(n_clusters=n_clusters).fit(X)\n",
        "display_scatter_plot(X, kmeans, True)\n",
        "evaluation_metrics_1(X=X, model=kmeans)\n",
        "evaluation_metrics_2(X=X, model=kmeans)\n",
        "\n",
        "print(\"AGNES\")\n",
        "from sklearn.cluster import AgglomerativeClustering\n",
        "cluster = AgglomerativeClustering(n_clusters=n_clusters, affinity='euclidean', linkage='ward').fit(X)\n",
        "display_scatter_plot(X, cluster, True)\n",
        "evaluation_metrics_1(X=X, model=cluster)\n",
        "evaluation_metrics_2(X=X, model=cluster, kmeans=False)\n",
        "\n",
        "print(\"BIRCH\")\n",
        "from sklearn.cluster import Birch\n",
        "birch = Birch(n_clusters=n_clusters).fit(X)\n",
        "display_scatter_plot(X, birch, True)\n",
        "evaluation_metrics_1(X=X, model=birch)\n",
        "evaluation_metrics_2(X=X, model=birch, kmeans=False)\n",
        "\n",
        "print(\"DBSCAN\")\n",
        "from sklearn.cluster import DBSCAN\n",
        "dbscan = DBSCAN(eps=3, min_samples=26).fit(X)\n",
        "display_scatter_plot(X, dbscan, True)\n",
        "evaluation_metrics_1(X=X, model=dbscan)\n",
        "evaluation_metrics_2(X=X, model=dbscan, kmeans=False)\n",
        "\n",
        "print(\"OPTICS\")\n",
        "from sklearn.cluster import OPTICS\n",
        "optics = OPTICS(max_eps=3, min_samples=26).fit(X)\n",
        "display_scatter_plot(X, optics, True)\n",
        "evaluation_metrics_1(X=X, model=optics)\n",
        "evaluation_metrics_2(X=X, model=optics, kmeans=False)\n"
      ]
    },
    {
      "cell_type": "code",
      "execution_count": null,
      "metadata": {
        "id": "SSysHsUKm1n_"
      },
      "outputs": [],
      "source": []
    }
  ],
  "metadata": {
    "colab": {
      "collapsed_sections": [
        "JWYjncS5axKn",
        "AKxtFvPXJe8R",
        "Vzph3B4u4CIc",
        "_XfZw5bGl2-2",
        "qC9gPuIpl2-8",
        "gTnFzZjPl2_D",
        "whX1DM03l2_G",
        "lLquQYm1l2_H",
        "rd6bMIw3l2_K"
      ],
      "name": "ass4.ipynb",
      "provenance": []
    },
    "kernelspec": {
      "display_name": "Python 3",
      "name": "python3"
    },
    "language_info": {
      "name": "python"
    }
  },
  "nbformat": 4,
  "nbformat_minor": 0
}
